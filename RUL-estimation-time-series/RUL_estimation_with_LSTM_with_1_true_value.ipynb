{
  "nbformat": 4,
  "nbformat_minor": 0,
  "metadata": {
    "colab": {
      "name": "RUL_estimation with LSTM with 1 true value",
      "provenance": [],
      "collapsed_sections": []
    },
    "kernelspec": {
      "name": "python3",
      "display_name": "Python 3"
    },
    "language_info": {
      "name": "python"
    }
  },
  "cells": [
    {
      "cell_type": "code",
      "metadata": {
        "colab": {
          "base_uri": "https://localhost:8080/"
        },
        "id": "jeD9S9a0PPlg",
        "outputId": "fdb62633-0bb6-4a08-a387-c72f030715a9"
      },
      "source": [
        "!pwd"
      ],
      "execution_count": null,
      "outputs": [
        {
          "output_type": "stream",
          "text": [
            "/content\n"
          ],
          "name": "stdout"
        }
      ]
    },
    {
      "cell_type": "code",
      "metadata": {
        "id": "uHAJdzx27WM9"
      },
      "source": [
        "import numpy as np\n",
        "import pandas as pd"
      ],
      "execution_count": null,
      "outputs": []
    },
    {
      "cell_type": "code",
      "metadata": {
        "id": "1K-DqVYK8Ciz"
      },
      "source": [
        "data = pd.read_csv('train_rul.csv',sep=\",\")"
      ],
      "execution_count": null,
      "outputs": []
    },
    {
      "cell_type": "code",
      "metadata": {
        "id": "VhpMA3-wIfxO"
      },
      "source": [
        "#check no garbage in RUL\n",
        "for index, row in data.iterrows():\n",
        "  if data.at[index, 'RUL'] < 0:\n",
        "    print(index)\n",
        "    print(data.at[index, 'RUL'])"
      ],
      "execution_count": null,
      "outputs": []
    },
    {
      "cell_type": "code",
      "metadata": {
        "id": "apTVHajUHI3d"
      },
      "source": [
        "#read test\n",
        "data_challenge = pd.read_csv('test.csv',sep=\",\")"
      ],
      "execution_count": null,
      "outputs": []
    },
    {
      "cell_type": "code",
      "metadata": {
        "id": "D_ZFTG5C-yE9"
      },
      "source": [
        "#build the RUL list in train data\n",
        "engine_old = 1\n",
        "cycle_old = 1\n",
        "RUL = []\n",
        "for index, row in data.iterrows():\n",
        "  engine = row['Engine']\n",
        "  cycle = row['Cycle']\n",
        "  if engine > engine_old :\n",
        "    RUL.append(cycle_old)\n",
        "    engine_old = engine\n",
        "    cycle_old = cycle\n",
        "  else:\n",
        "    cycle_old = cycle\n",
        "#add the last cycle to RUL\n",
        "RUL.append(data['Cycle'].iloc[-1])\n",
        "\n",
        "\n",
        "\n"
      ],
      "execution_count": null,
      "outputs": []
    },
    {
      "cell_type": "code",
      "metadata": {
        "id": "dbGkbgFLCzpo"
      },
      "source": [
        "#build last_cycle list from testing data\n",
        "engine_old = 1\n",
        "cycle_old = 1\n",
        "last_cycle = []\n",
        "for index, row in data_challenge.iterrows():\n",
        "  engine = row['Engine']\n",
        "  cycle = row['Cycle']\n",
        "  if engine > engine_old :\n",
        "    last_cycle.append(cycle_old)\n",
        "    engine_old = engine\n",
        "    cycle_old = cycle\n",
        "  else:\n",
        "    cycle_old = cycle\n",
        "last_cycle.append(data_challenge['Cycle'].iloc[-1])   "
      ],
      "execution_count": null,
      "outputs": []
    },
    {
      "cell_type": "markdown",
      "metadata": {
        "id": "5YilDgDXupEk"
      },
      "source": [
        "Model concept:\n",
        "\n",
        "\n",
        "1.   Split training set into 15-step chunks\n",
        "2.   Y is the RUL of the last step - 1\n",
        "3.   Implement a custom loss function\n",
        "\n"
      ]
    },
    {
      "cell_type": "code",
      "metadata": {
        "id": "ccnx57n7I9y8"
      },
      "source": [
        "time_steps = 15\n",
        "\n"
      ],
      "execution_count": null,
      "outputs": []
    },
    {
      "cell_type": "code",
      "metadata": {
        "id": "sXi_dTtsAphs"
      },
      "source": [
        "list_of_columns = []\n",
        "for j in range(6,27):\n",
        "  list_of_columns.append(data.columns[j])\n"
      ],
      "execution_count": null,
      "outputs": []
    },
    {
      "cell_type": "code",
      "metadata": {
        "id": "Jze42FVNFzHy"
      },
      "source": [
        "from keras.models import Sequential\n",
        "from keras.layers import Dense\n",
        "from keras.layers import LSTM\n",
        "from keras.layers import Embedding\n",
        "from keras.layers import Dropout\n",
        "from keras.layers import InputLayer\n",
        "from keras.layers import SimpleRNN\n",
        "from keras.layers import TimeDistributed"
      ],
      "execution_count": null,
      "outputs": []
    },
    {
      "cell_type": "code",
      "metadata": {
        "id": "0HMqVAcVF7vm"
      },
      "source": [
        "#load dataset to numpy\n",
        "dataset = data.to_numpy()\n",
        "X = dataset[:,2:27]\n",
        "Y = dataset[:,27]"
      ],
      "execution_count": null,
      "outputs": []
    },
    {
      "cell_type": "code",
      "metadata": {
        "id": "uyGEyLDHZZsn"
      },
      "source": [
        "Y_full = np.empty(224)\n",
        "for i in range(224):\n",
        "  Y_full[i] = 223 - i "
      ],
      "execution_count": null,
      "outputs": []
    },
    {
      "cell_type": "code",
      "metadata": {
        "colab": {
          "base_uri": "https://localhost:8080/",
          "height": 312
        },
        "id": "upIbUiK-Y4EJ",
        "outputId": "6cd95e67-1f88-43ec-d4ac-e49d9855eaab"
      },
      "source": [
        "import matplotlib.pyplot as plt\n",
        "plt.xlabel('cycle')\n",
        "plt.ylabel('RUL')\n",
        "plt.title('RUL of Engine 1')\n",
        "plt.plot(Y[0:223])\n",
        "plt.plot(Y_full)"
      ],
      "execution_count": null,
      "outputs": [
        {
          "output_type": "execute_result",
          "data": {
            "text/plain": [
              "[<matplotlib.lines.Line2D at 0x7f72e9eca610>]"
            ]
          },
          "metadata": {
            "tags": []
          },
          "execution_count": 14
        },
        {
          "output_type": "display_data",
          "data": {
            "image/png": "[encoded data removed]",
            "text/plain": [
              "<Figure size 432x288 with 1 Axes>"
            ]
          },
          "metadata": {
            "tags": [],
            "needs_background": "light"
          }
        }
      ]
    },
    {
      "cell_type": "code",
      "metadata": {
        "colab": {
          "base_uri": "https://localhost:8080/"
        },
        "id": "2u-tFZfpb39h",
        "outputId": "2f05df3a-944a-496d-c4c9-63f6c2938538"
      },
      "source": [
        "# pearson's correlation feature selection for numeric input and numeric output\n",
        "\n",
        "from sklearn.feature_selection import SelectKBest\n",
        "from sklearn.feature_selection import f_regression\n",
        "\n",
        "# define feature selection\n",
        "fs = SelectKBest(score_func=f_regression, k=10)\n",
        "# apply feature selection\n",
        "X_selected = fs.fit_transform(X, Y)\n",
        "print(X_selected.shape)"
      ],
      "execution_count": null,
      "outputs": [
        {
          "output_type": "stream",
          "text": [
            "(45918, 10)\n"
          ],
          "name": "stdout"
        }
      ]
    },
    {
      "cell_type": "code",
      "metadata": {
        "id": "v4Fk3tP8hmIM"
      },
      "source": [
        "features = X_selected.shape[1]"
      ],
      "execution_count": null,
      "outputs": []
    },
    {
      "cell_type": "markdown",
      "metadata": {
        "id": "csJ0lxqVvmhg"
      },
      "source": [
        "Pearson selected: Cycle, Sensor 3, Sensor 4, Sensor 9, Sensor 11, Sensor 14, Sensor 15, Sensor 16, Sensor 17, Sensor 21\n"
      ]
    },
    {
      "cell_type": "code",
      "metadata": {
        "id": "_gsqbxjDJrOT"
      },
      "source": [
        "def build_data(time_steps, X, Y, RUL):\n",
        "  #counter for how many samples this model will have (first dimension in X)\n",
        "  samples = 0\n",
        "  engines = len(RUL)\n",
        "  for i in range(0,engines):\n",
        "    samples = samples + int(RUL[i])//time_steps\n",
        "\n",
        " #reshape X into X(samples,time_steps,features)\n",
        " #make sure not to overlap between engines\n",
        " #reshape Y into Y(samples,1)\n",
        "  features = X.shape[1]\n",
        "  X_new=np.empty(shape=(samples,time_steps,features))\n",
        "  Y_new = np.empty(shape=(samples,1))\n",
        "  counter = -1\n",
        "  sample = 0\n",
        "  for i in range(0,engines):  \n",
        "    engine = data.at[counter+1,'Engine']-1\n",
        "    cycles = int(RUL[engine])//time_steps\n",
        "    counter0 = counter\n",
        "    for cycle in range(0,cycles):\n",
        "      for j in range(0,time_steps):\n",
        "        if (cycles == 1):\n",
        "          margin = int((RUL[i]-time_steps)/2)\n",
        "          if (j == 0):\n",
        "            counter0 = counter\n",
        "            counter = counter0 +  margin -1\n",
        "          else: \n",
        "            counter = counter + 1\n",
        "        else:\n",
        "           counter = counter + 1\n",
        "        for k in range(0,features):\n",
        "          X_new[sample,j,k]=X[counter,k]\n",
        "          \n",
        "        if (j == time_steps - 1):\n",
        "          Y_new[sample,] = Y[counter]-1\n",
        " \n",
        "\n",
        "        if (j == time_steps-1 and cycle == cycles-1):\n",
        "           counter = counter0 + int(RUL[engine])\n",
        "\n",
        "      sample = sample + 1\n",
        "    \n",
        "  return X_new, Y_new\n",
        "\n"
      ],
      "execution_count": null,
      "outputs": []
    },
    {
      "cell_type": "code",
      "metadata": {
        "id": "ZQ8-zFDLKth6"
      },
      "source": [
        "X_new, Y_new = build_data(time_steps, X_selected, Y, RUL)"
      ],
      "execution_count": null,
      "outputs": []
    },
    {
      "cell_type": "code",
      "metadata": {
        "colab": {
          "base_uri": "https://localhost:8080/",
          "height": 282
        },
        "id": "p2G6I6C9Nbuk",
        "outputId": "7ed810dc-fc86-4335-c686-2847801447e6"
      },
      "source": [
        "import matplotlib.pyplot as plt\n",
        "\n",
        "plt.plot(Y_new[0:20], \"ro\")"
      ],
      "execution_count": null,
      "outputs": [
        {
          "output_type": "execute_result",
          "data": {
            "text/plain": [
              "[<matplotlib.lines.Line2D at 0x7f72d7837a90>]"
            ]
          },
          "metadata": {
            "tags": []
          },
          "execution_count": 19
        },
        {
          "output_type": "display_data",
          "data": {
            "image/png": "[encoded data removed]",
            "text/plain": [
              "<Figure size 432x288 with 1 Axes>"
            ]
          },
          "metadata": {
            "tags": [],
            "needs_background": "light"
          }
        }
      ]
    },
    {
      "cell_type": "code",
      "metadata": {
        "id": "K4I9NE27H0vq"
      },
      "source": [
        " from sklearn.model_selection import train_test_split\n",
        "#split into train and test\n",
        "X_train, X_test, y_train, y_test = train_test_split(X_new, Y_new, test_size=0.33)"
      ],
      "execution_count": null,
      "outputs": []
    },
    {
      "cell_type": "code",
      "metadata": {
        "id": "gTMcL8W8Libr"
      },
      "source": [
        "def scale_and_transform(X_train, X_test, scaler):\n",
        "  num_instances, num_time_steps, num_features = X_train.shape\n",
        "  X_train_for_fit = np.reshape(X_train, (-1, num_features))\n",
        "  Xn_train_for_fit = scaler.fit_transform(X_train_for_fit)\n",
        "  Xn_train = np.reshape(Xn_train_for_fit, (num_instances, num_time_steps, num_features))\n",
        "\n",
        "  num_instances, num_time_steps, num_features = X_test.shape\n",
        "  X_test_for_fit = np.reshape(X_test, (-1, num_features))\n",
        "  Xn_test_for_fit = scaler.transform(X_test_for_fit)\n",
        "  Xn_test = np.reshape(Xn_test_for_fit, (num_instances, num_time_steps, num_features))\n",
        "  return Xn_train, Xn_test"
      ],
      "execution_count": null,
      "outputs": []
    },
    {
      "cell_type": "code",
      "metadata": {
        "id": "NG96ooTJHdia"
      },
      "source": [
        "#let's normalize this thing\n",
        "from sklearn.preprocessing import MinMaxScaler\n",
        "scaler = MinMaxScaler(feature_range=(-1, 1))\n",
        "\n",
        "Xn_train, Xn_test = scale_and_transform(X_train, X_test, scaler)\n"
      ],
      "execution_count": null,
      "outputs": []
    },
    {
      "cell_type": "code",
      "metadata": {
        "id": "JmNM5Ku7ixOw"
      },
      "source": [
        "#build model\n",
        "from keras.backend import clear_session\n",
        "clear_session()\n",
        "model = Sequential()\n",
        "model.add(InputLayer(input_shape=(time_steps,features)))\n",
        "\n",
        "model.add(LSTM(64,  return_sequences=True))\n",
        "model.add(Dropout(0.2))\n",
        "model.add(LSTM(32, return_sequences=False))\n",
        "\n",
        "model.add(Dense(1,activation='linear'))\n"
      ],
      "execution_count": null,
      "outputs": []
    },
    {
      "cell_type": "code",
      "metadata": {
        "colab": {
          "base_uri": "https://localhost:8080/"
        },
        "id": "3df_i5cvUwxB",
        "outputId": "c505bf7f-334d-4e12-e5df-8a79ca4c9043"
      },
      "source": [
        "\n",
        "model.compile('adam','mae')\n",
        "\n",
        "model.summary()"
      ],
      "execution_count": null,
      "outputs": [
        {
          "output_type": "stream",
          "text": [
            "Model: \"sequential\"\n",
            "_________________________________________________________________\n",
            "Layer (type)                 Output Shape              Param #   \n",
            "=================================================================\n",
            "lstm (LSTM)                  (None, 15, 64)            19200     \n",
            "_________________________________________________________________\n",
            "dropout (Dropout)            (None, 15, 64)            0         \n",
            "_________________________________________________________________\n",
            "lstm_1 (LSTM)                (None, 32)                12416     \n",
            "_________________________________________________________________\n",
            "dense (Dense)                (None, 1)                 33        \n",
            "=================================================================\n",
            "Total params: 31,649\n",
            "Trainable params: 31,649\n",
            "Non-trainable params: 0\n",
            "_________________________________________________________________\n"
          ],
          "name": "stdout"
        }
      ]
    },
    {
      "cell_type": "markdown",
      "metadata": {
        "id": "F2BwFZY1TLd6"
      },
      "source": [
        "**Training Model with MAE**"
      ]
    },
    {
      "cell_type": "code",
      "metadata": {
        "id": "ljrPaWkuTzIT",
        "colab": {
          "base_uri": "https://localhost:8080/"
        },
        "outputId": "3e8b6b83-77b5-4315-893e-43f9fbfbb2bc"
      },
      "source": [
        "#train large model\n",
        "EPOCHS = 10\n",
        "BS = 20\n",
        "model.fit(Xn_train,y_train,batch_size=BS,epochs=EPOCHS)\n",
        "model.evaluate(Xn_test,y_test)\n",
        "y_new = model.predict(Xn_test)"
      ],
      "execution_count": null,
      "outputs": [
        {
          "output_type": "stream",
          "text": [
            "Epoch 1/10\n",
            "100/100 [==============================] - 2s 16ms/step - loss: 12.1657\n",
            "Epoch 2/10\n",
            "100/100 [==============================] - 2s 16ms/step - loss: 12.3143\n",
            "Epoch 3/10\n",
            "100/100 [==============================] - 2s 16ms/step - loss: 12.2137\n",
            "Epoch 4/10\n",
            "100/100 [==============================] - 2s 16ms/step - loss: 12.2912\n",
            "Epoch 5/10\n",
            "100/100 [==============================] - 2s 15ms/step - loss: 12.3378\n",
            "Epoch 6/10\n",
            "100/100 [==============================] - 2s 16ms/step - loss: 11.6425\n",
            "Epoch 7/10\n",
            "100/100 [==============================] - 2s 16ms/step - loss: 11.8828\n",
            "Epoch 8/10\n",
            "100/100 [==============================] - 2s 16ms/step - loss: 11.9041\n",
            "Epoch 9/10\n",
            "100/100 [==============================] - 2s 17ms/step - loss: 11.7055\n",
            "Epoch 10/10\n",
            "100/100 [==============================] - 2s 16ms/step - loss: 11.9563\n",
            "31/31 [==============================] - 0s 6ms/step - loss: 12.4561\n"
          ],
          "name": "stdout"
        }
      ]
    },
    {
      "cell_type": "code",
      "metadata": {
        "id": "Ex-LNQimTy89",
        "colab": {
          "base_uri": "https://localhost:8080/"
        },
        "outputId": "87350d28-7e5a-4c27-a2bd-28714a8f288f"
      },
      "source": [
        "model.save('model_mae_best_weights')"
      ],
      "execution_count": null,
      "outputs": [
        {
          "output_type": "stream",
          "text": [
            "WARNING:absl:Found untraced functions such as lstm_cell_layer_call_fn, lstm_cell_layer_call_and_return_conditional_losses, lstm_cell_1_layer_call_fn, lstm_cell_1_layer_call_and_return_conditional_losses, lstm_cell_layer_call_fn while saving (showing 5 of 10). These functions will not be directly callable after loading.\n"
          ],
          "name": "stderr"
        },
        {
          "output_type": "stream",
          "text": [
            "INFO:tensorflow:Assets written to: model_mae_best_weights/assets\n"
          ],
          "name": "stdout"
        },
        {
          "output_type": "stream",
          "text": [
            "INFO:tensorflow:Assets written to: model_mae_best_weights/assets\n"
          ],
          "name": "stderr"
        }
      ]
    },
    {
      "cell_type": "code",
      "metadata": {
        "id": "cRNBqRxhUHwW"
      },
      "source": [
        "#model.evaluate(Xn_test,y_test)\n",
        "from keras.models import load_model\n",
        "model_saved = load_model(\"model_best_latest_weights\")\n",
        "model_saved = load_model(\"model_best_latest_weights\")\n",
        "model_saved.evaluate(Xn_test_large,y_test_large)\n",
        "y_new_large = model_saved.predict(Xn_test_large)"
      ],
      "execution_count": null,
      "outputs": []
    },
    {
      "cell_type": "code",
      "metadata": {
        "id": "p1xMoyFhUK9V",
        "colab": {
          "base_uri": "https://localhost:8080/",
          "height": 282
        },
        "outputId": "23c617da-8d68-4020-af48-f43d8013e285"
      },
      "source": [
        "import matplotlib.pyplot as plt\n",
        "n = 6\n",
        "plt.plot(y_new, y_test, \"ro\")\n"
      ],
      "execution_count": null,
      "outputs": [
        {
          "output_type": "execute_result",
          "data": {
            "text/plain": [
              "[<matplotlib.lines.Line2D at 0x7f89168b1790>]"
            ]
          },
          "metadata": {
            "tags": []
          },
          "execution_count": 74
        },
        {
          "output_type": "display_data",
          "data": {
            "image/png": "[encoded data removed]",
            "text/plain": [
              "<Figure size 432x288 with 1 Axes>"
            ]
          },
          "metadata": {
            "tags": [],
            "needs_background": "light"
          }
        }
      ]
    },
    {
      "cell_type": "code",
      "metadata": {
        "colab": {
          "base_uri": "https://localhost:8080/"
        },
        "id": "SNR3swdjeToQ",
        "outputId": "fa21519d-82d2-4b08-8b5a-6256c30eb0b5"
      },
      "source": [
        "!tar -zcvf model_mae_best_weights.gz model_mae_best_weights"
      ],
      "execution_count": null,
      "outputs": [
        {
          "output_type": "stream",
          "text": [
            "tar: model_mae_best_weights: Cannot stat: No such file or directory\n",
            "tar: Exiting with failure status due to previous errors\n"
          ],
          "name": "stdout"
        }
      ]
    },
    {
      "cell_type": "markdown",
      "metadata": {
        "id": "Pm-zm3v4csS4"
      },
      "source": [
        "**Apply large model to the challenge data**"
      ]
    },
    {
      "cell_type": "code",
      "metadata": {
        "id": "p6f0p911SMIj"
      },
      "source": [
        "engine_old = 1\n",
        "cycle_old = 1\n",
        "last_cycle = []\n",
        "for index, row in data_challenge.iterrows():\n",
        "  engine = row['Engine']\n",
        "  cycle = row['Cycle']\n",
        "  if engine > engine_old :\n",
        "    last_cycle.append(cycle_old)\n",
        "    engine_old = engine\n",
        "    cycle_old = cycle\n",
        "  else:\n",
        "    cycle_old = cycle\n",
        "last_cycle.append(data_challenge['Cycle'].iloc[-1])   "
      ],
      "execution_count": null,
      "outputs": []
    },
    {
      "cell_type": "code",
      "metadata": {
        "id": "YuikOw81_V8g"
      },
      "source": [
        "test_cases = len(last_cycle)"
      ],
      "execution_count": null,
      "outputs": []
    },
    {
      "cell_type": "code",
      "metadata": {
        "id": "yXbPgMwWp5Cu"
      },
      "source": [
        "#read test\n",
        "data_challenge = pd.read_csv('test.csv',sep=\",\")"
      ],
      "execution_count": null,
      "outputs": []
    },
    {
      "cell_type": "code",
      "metadata": {
        "id": "yhJf7U-TqZ6k"
      },
      "source": [
        "dataset_challenge = data_challenge.to_numpy()\n",
        "X_valid = dataset_challenge[:,1:]"
      ],
      "execution_count": null,
      "outputs": []
    },
    {
      "cell_type": "code",
      "metadata": {
        "colab": {
          "base_uri": "https://localhost:8080/"
        },
        "id": "mkI4_Ac-qf6q",
        "outputId": "101da9ff-c82f-455b-d9cb-28dc6448e964"
      },
      "source": [
        "X_valid.shape"
      ],
      "execution_count": null,
      "outputs": [
        {
          "output_type": "execute_result",
          "data": {
            "text/plain": [
              "(29820, 25)"
            ]
          },
          "metadata": {
            "tags": []
          },
          "execution_count": 86
        }
      ]
    },
    {
      "cell_type": "code",
      "metadata": {
        "id": "E6sBDVJ_qw8Y"
      },
      "source": [
        "X_valid_reduced = fs.transform(X_valid)"
      ],
      "execution_count": null,
      "outputs": []
    },
    {
      "cell_type": "code",
      "metadata": {
        "colab": {
          "base_uri": "https://localhost:8080/"
        },
        "id": "qntDB5S2q1PW",
        "outputId": "1769097a-6e37-4a82-c2c3-a3c8d64067e4"
      },
      "source": [
        "X_valid_reduced.shape"
      ],
      "execution_count": null,
      "outputs": [
        {
          "output_type": "execute_result",
          "data": {
            "text/plain": [
              "(29820, 10)"
            ]
          },
          "metadata": {
            "tags": []
          },
          "execution_count": 88
        }
      ]
    },
    {
      "cell_type": "code",
      "metadata": {
        "id": "TgPFbLY1q3_v"
      },
      "source": [
        "#apply minimax\n",
        "Xn_valid = scaler.transform(X_valid_reduced)"
      ],
      "execution_count": null,
      "outputs": []
    },
    {
      "cell_type": "code",
      "metadata": {
        "id": "O5GOCYturP8-"
      },
      "source": [
        "#need to reshape X into 3D: engine x cycle x sensor\n",
        "#for fist step, keep it symmetrical and use the lowest number of cycles in dataset\n",
        "#Y then becomes \n",
        "Xn_valid_3d=np.empty(shape=(len(last_cycle),time_steps,features))\n",
        "\n",
        "#i would be number of engines\n",
        "counter = 0\n",
        "for i in range(0,len(last_cycle)):\n",
        "  print('i=',i)\n",
        "  # j would be number of cycles\n",
        "  for j in range(0,time_steps):\n",
        "\n",
        "    #k would be number of sensors\n",
        "    for k in range(0,features):\n",
        "\n",
        "      Xn_valid_3d[i,j,k]=Xn_valid[counter,k]\n",
        "\n",
        "    if j == 0:\n",
        "      counter = counter + (int(last_cycle[i]) - time_steps)\n",
        "      print('counter at j=0',counter)\n",
        "    else: \n",
        "      counter = counter + 1"
      ],
      "execution_count": null,
      "outputs": []
    },
    {
      "cell_type": "code",
      "metadata": {
        "id": "ipHcsLxZrvpm"
      },
      "source": [
        "y_valid = model_saved_custom.predict(Xn_valid_3d)"
      ],
      "execution_count": null,
      "outputs": []
    },
    {
      "cell_type": "code",
      "metadata": {
        "colab": {
          "base_uri": "https://localhost:8080/",
          "height": 282
        },
        "id": "yxyfFdk3tSZ6",
        "outputId": "d358d154-481d-452c-e772-6f7186a4dd48"
      },
      "source": [
        "import matplotlib.pyplot as plt\n",
        "\n",
        "plt.plot(y_valid, \"ro\")"
      ],
      "execution_count": null,
      "outputs": [
        {
          "output_type": "execute_result",
          "data": {
            "text/plain": [
              "[<matplotlib.lines.Line2D at 0x7f72ce6fbb90>]"
            ]
          },
          "metadata": {
            "tags": []
          },
          "execution_count": 40
        },
        {
          "output_type": "display_data",
          "data": {
            "image/png": "[encoded data removed]",
            "text/plain": [
              "<Figure size 432x288 with 1 Axes>"
            ]
          },
          "metadata": {
            "tags": [],
            "needs_background": "light"
          }
        }
      ]
    },
    {
      "cell_type": "code",
      "metadata": {
        "colab": {
          "base_uri": "https://localhost:8080/",
          "height": 333
        },
        "id": "wzm1LE5aqTvx",
        "outputId": "9579f464-215d-48fc-d26a-78a25cc1f2be"
      },
      "source": [
        "plt.hist(y_valid, bins = 10, range = (0,130))"
      ],
      "execution_count": null,
      "outputs": [
        {
          "output_type": "execute_result",
          "data": {
            "text/plain": [
              "(array([  3.,   4.,   6.,   2.,   3.,  10.,  58., 132.,   0.,   0.]),\n",
              " array([  0.,  13.,  26.,  39.,  52.,  65.,  78.,  91., 104., 117., 130.],\n",
              "       dtype=float32),\n",
              " <a list of 10 Patch objects>)"
            ]
          },
          "metadata": {
            "tags": []
          },
          "execution_count": 41
        },
        {
          "output_type": "display_data",
          "data": {
            "image/png": "[encoded data removed]",
            "text/plain": [
              "<Figure size 432x288 with 1 Axes>"
            ]
          },
          "metadata": {
            "tags": [],
            "needs_background": "light"
          }
        }
      ]
    },
    {
      "cell_type": "code",
      "metadata": {
        "id": "4CzT0TTqtlXJ"
      },
      "source": [
        "RUL_predicted = []\n",
        "for i in range(y_valid.shape[0]):\n",
        "  RUL_predicted.append(int(round(y_valid[i,0])))\n"
      ],
      "execution_count": null,
      "outputs": []
    },
    {
      "cell_type": "code",
      "metadata": {
        "id": "FVZ5dq5TuD2a"
      },
      "source": [
        "with open('lmst_mae_last_cycle.txt', 'w') as filehandle:\n",
        "    for item in RUL_predicted:\n",
        "        filehandle.write('%s\\n' % item)"
      ],
      "execution_count": null,
      "outputs": []
    },
    {
      "cell_type": "markdown",
      "metadata": {
        "id": "h25kPMdKAb9n"
      },
      "source": [
        "**Model with Custom Loss Function**"
      ]
    },
    {
      "cell_type": "code",
      "metadata": {
        "id": "3ajYmQvsAgcZ"
      },
      "source": [
        "#build model\n",
        "from keras.backend import clear_session\n",
        "clear_session()\n",
        "model_custom = Sequential()\n",
        "model_custom.add(InputLayer(input_shape=(time_steps,features)))\n",
        "\n",
        "model_custom.add(LSTM(64,  return_sequences=True))\n",
        "model_custom.add(Dropout(0.5))\n",
        "model_custom.add(LSTM(64,  return_sequences=True))\n",
        "model_custom.add(Dropout(0.5))\n",
        "model_custom.add(LSTM(32,  return_sequences=True))\n",
        "model_custom.add(Dropout(0.5))\n",
        "model_custom.add(LSTM(32, return_sequences=False))\n",
        "\n",
        "model_custom.add(Dense(1,activation='linear'))"
      ],
      "execution_count": null,
      "outputs": []
    },
    {
      "cell_type": "code",
      "metadata": {
        "id": "ffezha30Az_9"
      },
      "source": [
        "import keras.backend as kb\n",
        "\n",
        "def custom_loss_function(y_actual, y_predicted):\n",
        "  #d1 should be selected when y_predicted is too large, and scaled by 10\n",
        "  d1 = (y_predicted - y_actual)/(10.) # batch_size, 1 (35 - 25) /(10) = 0.7629  or (55)\n",
        "  #d2 should be selected when y_predicted is smaller than y_actual\n",
        "  d2 = (y_predicted - y_actual)/(-13.) #batch_size, 1.  (25 - 35 ) / (-13) > 0\n",
        "  #kb.maximum selects the larger one element-wise. for each element of d1 or d2 \n",
        "  #only one should be positive\n",
        "  d = kb.maximum(d1,d2) #batch_size, 1\n",
        "  loss = kb.exp(d) - 1 \n",
        "  #print(loss.shape)\n",
        "\n",
        "  \n",
        "\n",
        "  custom_loss_value = kb.sum(loss)\n",
        "  \n",
        "  return custom_loss_value"
      ],
      "execution_count": null,
      "outputs": []
    },
    {
      "cell_type": "code",
      "metadata": {
        "id": "gn05zjh-jJr8"
      },
      "source": [
        "import keras.backend as kb\n",
        "\n",
        "def custom_loss_function(y_actual, y_predicted):\n",
        "  d1 = (y_predicted - y_actual)/(10.) \n",
        "  d2 = (y_predicted - y_actual)/(-13.) \n",
        "  d = kb.maximum(d1,d2) \n",
        "  loss = kb.exp(d) - 1 \n",
        "  custom_loss_value = kb.sum(loss) \n",
        "  return custom_loss_value"
      ],
      "execution_count": null,
      "outputs": []
    },
    {
      "cell_type": "code",
      "metadata": {
        "colab": {
          "base_uri": "https://localhost:8080/"
        },
        "id": "QqxtwUEvAs-H",
        "outputId": "d1fd5427-b3fa-493b-a00b-6875cdeff21b"
      },
      "source": [
        "\n",
        "model_custom.compile('adam',loss=custom_loss_function)\n",
        "\n",
        "model_custom.summary()"
      ],
      "execution_count": null,
      "outputs": [
        {
          "output_type": "stream",
          "text": [
            "Model: \"sequential\"\n",
            "_________________________________________________________________\n",
            "Layer (type)                 Output Shape              Param #   \n",
            "=================================================================\n",
            "lstm (LSTM)                  (None, 15, 64)            19200     \n",
            "_________________________________________________________________\n",
            "dropout (Dropout)            (None, 15, 64)            0         \n",
            "_________________________________________________________________\n",
            "lstm_1 (LSTM)                (None, 15, 64)            33024     \n",
            "_________________________________________________________________\n",
            "dropout_1 (Dropout)          (None, 15, 64)            0         \n",
            "_________________________________________________________________\n",
            "lstm_2 (LSTM)                (None, 15, 32)            12416     \n",
            "_________________________________________________________________\n",
            "dropout_2 (Dropout)          (None, 15, 32)            0         \n",
            "_________________________________________________________________\n",
            "lstm_3 (LSTM)                (None, 32)                8320      \n",
            "_________________________________________________________________\n",
            "dense (Dense)                (None, 1)                 33        \n",
            "=================================================================\n",
            "Total params: 72,993\n",
            "Trainable params: 72,993\n",
            "Non-trainable params: 0\n",
            "_________________________________________________________________\n"
          ],
          "name": "stdout"
        }
      ]
    },
    {
      "cell_type": "code",
      "metadata": {
        "colab": {
          "base_uri": "https://localhost:8080/"
        },
        "id": "f_xat9CODYgd",
        "outputId": "c0d47222-8bfb-4406-d1e0-11fbe14cda51"
      },
      "source": [
        "#train large model\n",
        "EPOCHS = 5\n",
        "BS = 20\n",
        "model_custom.fit(Xn_train,y_train,batch_size=BS,epochs=EPOCHS)\n",
        "model_custom.evaluate(Xn_test,y_test)\n",
        "y_new = model_custom.predict(Xn_test)"
      ],
      "execution_count": null,
      "outputs": [
        {
          "output_type": "stream",
          "text": [
            "Epoch 1/5\n",
            "100/100 [==============================] - 3s 33ms/step - loss: 156.5721\n",
            "Epoch 2/5\n",
            "100/100 [==============================] - 3s 33ms/step - loss: 156.9583\n",
            "Epoch 3/5\n",
            "100/100 [==============================] - 3s 32ms/step - loss: 153.5909\n",
            "Epoch 4/5\n",
            "100/100 [==============================] - 3s 32ms/step - loss: 155.8161\n",
            "Epoch 5/5\n",
            "100/100 [==============================] - 3s 33ms/step - loss: 232.2598\n",
            "31/31 [==============================] - 0s 9ms/step - loss: 374.4441\n"
          ],
          "name": "stdout"
        }
      ]
    },
    {
      "cell_type": "code",
      "metadata": {
        "colab": {
          "base_uri": "https://localhost:8080/"
        },
        "id": "TgWvBCSEKa4D",
        "outputId": "8abd0231-8e91-4b47-8639-d78a21d30e95"
      },
      "source": [
        "model_custom.evaluate(Xn_test,y_test)\n"
      ],
      "execution_count": null,
      "outputs": [
        {
          "output_type": "stream",
          "text": [
            "31/31 [==============================] - 0s 10ms/step - loss: 261.5799\n"
          ],
          "name": "stdout"
        },
        {
          "output_type": "execute_result",
          "data": {
            "text/plain": [
              "261.5799255371094"
            ]
          },
          "metadata": {
            "tags": []
          },
          "execution_count": 389
        }
      ]
    },
    {
      "cell_type": "code",
      "metadata": {
        "id": "q9rgdAiji3as"
      },
      "source": [
        ""
      ],
      "execution_count": null,
      "outputs": []
    },
    {
      "cell_type": "code",
      "metadata": {
        "colab": {
          "base_uri": "https://localhost:8080/",
          "height": 282
        },
        "id": "aVuJDPa7H-mD",
        "outputId": "1ba1b730-0030-40c8-dddf-e03d74deeca3"
      },
      "source": [
        "import matplotlib.pyplot as plt\n",
        "plt.plot(y_test, y_new, \"ro\")"
      ],
      "execution_count": null,
      "outputs": [
        {
          "output_type": "execute_result",
          "data": {
            "text/plain": [
              "[<matplotlib.lines.Line2D at 0x7f88feeb3850>]"
            ]
          },
          "metadata": {
            "tags": []
          },
          "execution_count": 391
        },
        {
          "output_type": "display_data",
          "data": {
            "image/png": "[encoded data removed]",
            "text/plain": [
              "<Figure size 432x288 with 1 Axes>"
            ]
          },
          "metadata": {
            "tags": [],
            "needs_background": "light"
          }
        }
      ]
    },
    {
      "cell_type": "code",
      "metadata": {
        "colab": {
          "base_uri": "https://localhost:8080/"
        },
        "id": "x5VUDh-oYDtH",
        "outputId": "ad332c00-3805-41ff-f430-7ee3a85253e2"
      },
      "source": [
        "model_custom.save('model_custom_best_weights_2')"
      ],
      "execution_count": null,
      "outputs": [
        {
          "output_type": "stream",
          "text": [
            "WARNING:absl:Found untraced functions such as lstm_cell_layer_call_fn, lstm_cell_layer_call_and_return_conditional_losses, lstm_cell_1_layer_call_fn, lstm_cell_1_layer_call_and_return_conditional_losses, lstm_cell_2_layer_call_fn while saving (showing 5 of 20). These functions will not be directly callable after loading.\n"
          ],
          "name": "stderr"
        },
        {
          "output_type": "stream",
          "text": [
            "INFO:tensorflow:Assets written to: model_custom_best_weights_2/assets\n"
          ],
          "name": "stdout"
        },
        {
          "output_type": "stream",
          "text": [
            "INFO:tensorflow:Assets written to: model_custom_best_weights_2/assets\n"
          ],
          "name": "stderr"
        }
      ]
    },
    {
      "cell_type": "code",
      "metadata": {
        "colab": {
          "base_uri": "https://localhost:8080/"
        },
        "id": "qpy1IP1Cpsg4",
        "outputId": "90adc1fd-5340-4f22-f686-3f7a1efaeea6"
      },
      "source": [
        "!tar -xzvf model_custom_best_weights.gz"
      ],
      "execution_count": null,
      "outputs": [
        {
          "output_type": "stream",
          "text": [
            "model_custom_best_weights/\n",
            "model_custom_best_weights/saved_model.pb\n",
            "model_custom_best_weights/assets/\n",
            "model_custom_best_weights/variables/\n",
            "model_custom_best_weights/variables/variables.index\n",
            "model_custom_best_weights/variables/variables.data-00000-of-00001\n",
            "model_custom_best_weights/keras_metadata.pb\n"
          ],
          "name": "stdout"
        }
      ]
    },
    {
      "cell_type": "code",
      "metadata": {
        "colab": {
          "base_uri": "https://localhost:8080/"
        },
        "id": "IIc_P0_vag3O",
        "outputId": "8c606b9c-57f1-4808-a680-ffcaeaf42e4e"
      },
      "source": [
        "#load back best weights before it overfit\n",
        "from keras import losses\n",
        "losses.custom_loss = custom_loss_function\n",
        "\n",
        "from keras.models import load_model\n",
        "model_saved_custom = load_model(\"model_custom_best_weights\", \n",
        "                                custom_objects={'custom_loss_function': custom_loss_function})\n",
        "model_saved_custom.evaluate(Xn_test,y_test)\n",
        "y_new = model_saved_custom.predict(Xn_test)"
      ],
      "execution_count": null,
      "outputs": [
        {
          "output_type": "stream",
          "text": [
            "31/31 [==============================] - 16s 9ms/step - loss: 276.4115\n"
          ],
          "name": "stdout"
        }
      ]
    },
    {
      "cell_type": "code",
      "metadata": {
        "colab": {
          "base_uri": "https://localhost:8080/",
          "height": 282
        },
        "id": "JoLJ5oT3cvmA",
        "outputId": "eb7203d9-df14-4192-f835-59faf82c8e17"
      },
      "source": [
        "import matplotlib.pyplot as plt\n",
        "plt.plot(y_test, y_new, \"ro\")"
      ],
      "execution_count": null,
      "outputs": [
        {
          "output_type": "execute_result",
          "data": {
            "text/plain": [
              "[<matplotlib.lines.Line2D at 0x7f72d0a60fd0>]"
            ]
          },
          "metadata": {
            "tags": []
          },
          "execution_count": 30
        },
        {
          "output_type": "display_data",
          "data": {
            "image/png": "[encoded data removed]",
            "text/plain": [
              "<Figure size 432x288 with 1 Axes>"
            ]
          },
          "metadata": {
            "tags": [],
            "needs_background": "light"
          }
        }
      ]
    },
    {
      "cell_type": "markdown",
      "metadata": {
        "id": "DYGpf20Xgq3C"
      },
      "source": [
        "predict y_valid using the saved weights"
      ]
    },
    {
      "cell_type": "code",
      "metadata": {
        "id": "-C2QwZI6gtII",
        "colab": {
          "base_uri": "https://localhost:8080/",
          "height": 164
        },
        "outputId": "2b5c52af-dec4-4031-de12-c1075e8986d9"
      },
      "source": [
        "y_valid_custom = model_saved_custom.predict(Xn_valid_3d)"
      ],
      "execution_count": null,
      "outputs": [
        {
          "output_type": "error",
          "ename": "NameError",
          "evalue": "ignored",
          "traceback": [
            "\u001b[0;31m---------------------------------------------------------------------------\u001b[0m",
            "\u001b[0;31mNameError\u001b[0m                                 Traceback (most recent call last)",
            "\u001b[0;32m<ipython-input-31-c45569b2f90b>\u001b[0m in \u001b[0;36m<module>\u001b[0;34m()\u001b[0m\n\u001b[0;32m----> 1\u001b[0;31m \u001b[0my_valid_custom\u001b[0m \u001b[0;34m=\u001b[0m \u001b[0mmodel_saved_custom\u001b[0m\u001b[0;34m.\u001b[0m\u001b[0mpredict\u001b[0m\u001b[0;34m(\u001b[0m\u001b[0mXn_valid_3d\u001b[0m\u001b[0;34m)\u001b[0m\u001b[0;34m\u001b[0m\u001b[0;34m\u001b[0m\u001b[0m\n\u001b[0m",
            "\u001b[0;31mNameError\u001b[0m: name 'Xn_valid_3d' is not defined"
          ]
        }
      ]
    },
    {
      "cell_type": "code",
      "metadata": {
        "colab": {
          "base_uri": "https://localhost:8080/",
          "height": 282
        },
        "id": "7KF9pixpg6_U",
        "outputId": "4ffe41ed-fda9-4eaf-d09c-bb98aa21d2be"
      },
      "source": [
        "import matplotlib.pyplot as plt\n",
        "\n",
        "\n",
        "\n",
        "\n",
        "\n",
        "\n",
        "plt.plot(y_valid_custom, \"ro\")"
      ],
      "execution_count": null,
      "outputs": [
        {
          "output_type": "execute_result",
          "data": {
            "text/plain": [
              "[<matplotlib.lines.Line2D at 0x7f88f3be9dd0>]"
            ]
          },
          "metadata": {
            "tags": []
          },
          "execution_count": 395
        },
        {
          "output_type": "display_data",
          "data": {
            "image/png": "[encoded data removed]",
            "text/plain": [
              "<Figure size 432x288 with 1 Axes>"
            ]
          },
          "metadata": {
            "tags": [],
            "needs_background": "light"
          }
        }
      ]
    },
    {
      "cell_type": "code",
      "metadata": {
        "id": "uPOYqm1uhBEH"
      },
      "source": [
        "RUL_predicted_custom = []\n",
        "for i in range(y_valid_custom.shape[0]):\n",
        "  RUL_predicted_custom.append(int(round(y_valid_custom[i,0])))"
      ],
      "execution_count": null,
      "outputs": []
    },
    {
      "cell_type": "code",
      "metadata": {
        "colab": {
          "base_uri": "https://localhost:8080/"
        },
        "id": "DwOp2vDdhGNW",
        "outputId": "7ed35761-bb12-44c9-a061-003ea9f17fa5"
      },
      "source": [
        "print(RUL_predicted_custom)"
      ],
      "execution_count": null,
      "outputs": [
        {
          "output_type": "stream",
          "text": [
            "[101, 53, 87, 101, 39, 84, 44, 20, 93, 89, 101, 31, 8, 100, 101, 87, 80, 85, 96, 84, 72, 91, 90, 84, 101, 99, 82, 101, 101, 89, 19, 101, 101, 101, 101, 83, 69, 101, 69, 100, 101, 53, 99, 88, 85, 99, 90, 86, 85, 89, 101, 101, 86, 94, 101, 96, 101, 99, 69, 101, 92, 100, 85, 83, 13, 84, 101, 101, 101, 101, 101, 101, 101, 86, 101, 85, 87, 101, 101, 101, 94, 101, 101, 101, 89, 28, 101, 101, 88, 85, 101, 69, 101, 101, 80, 26, 7, 90, 8, 98, 100, 101, 101, 101, 101, 92, 100, 26, 101, 101, 93, 83, 101, 101, 70, 93, 101, 80, 101, 101, 83, 98, 101, 101, 85, 101, 95, 84, 85, 101, 101, 101, 82, 92, 97, 101, 90, 90, 101, 101, 101, 101, 93, 101, 101, 101, 101, 101, 101, 97, 88, 101, 101, 101, 101, 101, 101, 95, 101, 83, 101, 101, 82, 36, 101, 100, 101, 101, 101, 87, 86, 37, 101, 101, 97, 101, 101, 101, 101, 88, 62, 101, 83, 101, 87, 101, 101, 101, 90, 89, 13, 67, 93, 101, 77, 79, 92, 101, 90, 101, 64, 101, 81, 96, 101, 101, 94, 88, 100, 101, 101, 90, 84, 95, 101, 101, 76, 100]\n"
          ],
          "name": "stdout"
        }
      ]
    },
    {
      "cell_type": "code",
      "metadata": {
        "id": "a2UOF9glhM_9"
      },
      "source": [
        "with open('lmst_custom.txt', 'w') as filehandle:\n",
        "    for item in RUL_predicted_custom:\n",
        "        filehandle.write('%s\\n' % item)"
      ],
      "execution_count": null,
      "outputs": []
    },
    {
      "cell_type": "markdown",
      "metadata": {
        "id": "bMlC6tUehul3"
      },
      "source": [
        "LET\"S TRY MSE\n"
      ]
    },
    {
      "cell_type": "code",
      "metadata": {
        "id": "4vXWRf4rhws-"
      },
      "source": [
        "#build model\n",
        "from keras.backend import clear_session\n",
        "clear_session()\n",
        "model_mse = Sequential()\n",
        "model_mse.add(InputLayer(input_shape=(time_steps,features)))\n",
        "\n",
        "model_mse.add(LSTM(64,  return_sequences=True))\n",
        "model_mse.add(Dropout(0.5))\n",
        "model_mse.add(LSTM(64,  return_sequences=True))\n",
        "model_mse.add(Dropout(0.5))\n",
        "model_mse.add(LSTM(32,  return_sequences=True))\n",
        "model_mse.add(Dropout(0.5))\n",
        "model_mse.add(LSTM(32, return_sequences=False))\n",
        "\n",
        "model_mse.add(Dense(1,activation='linear'))"
      ],
      "execution_count": null,
      "outputs": []
    },
    {
      "cell_type": "code",
      "metadata": {
        "colab": {
          "base_uri": "https://localhost:8080/"
        },
        "id": "EBRKYuzSidqW",
        "outputId": "c24bbc71-dbe0-4f04-cc28-b478ca771173"
      },
      "source": [
        "model_mse.compile('adam','mse')\n",
        "\n",
        "model_mse.summary()"
      ],
      "execution_count": null,
      "outputs": [
        {
          "output_type": "stream",
          "text": [
            "Model: \"sequential\"\n",
            "_________________________________________________________________\n",
            "Layer (type)                 Output Shape              Param #   \n",
            "=================================================================\n",
            "lstm (LSTM)                  (None, 15, 64)            19200     \n",
            "_________________________________________________________________\n",
            "dropout (Dropout)            (None, 15, 64)            0         \n",
            "_________________________________________________________________\n",
            "lstm_1 (LSTM)                (None, 15, 64)            33024     \n",
            "_________________________________________________________________\n",
            "dropout_1 (Dropout)          (None, 15, 64)            0         \n",
            "_________________________________________________________________\n",
            "lstm_2 (LSTM)                (None, 15, 32)            12416     \n",
            "_________________________________________________________________\n",
            "dropout_2 (Dropout)          (None, 15, 32)            0         \n",
            "_________________________________________________________________\n",
            "lstm_3 (LSTM)                (None, 32)                8320      \n",
            "_________________________________________________________________\n",
            "dense (Dense)                (None, 1)                 33        \n",
            "=================================================================\n",
            "Total params: 72,993\n",
            "Trainable params: 72,993\n",
            "Non-trainable params: 0\n",
            "_________________________________________________________________\n"
          ],
          "name": "stdout"
        }
      ]
    },
    {
      "cell_type": "code",
      "metadata": {
        "colab": {
          "base_uri": "https://localhost:8080/"
        },
        "id": "eb6Hi7U4igHR",
        "outputId": "d9bb7620-5c17-4cf2-d15d-a21ceafcc09d"
      },
      "source": [
        "#train large model\n",
        "EPOCHS = 5\n",
        "BS = 20\n",
        "model_mse.fit(Xn_train,y_train,batch_size=BS,epochs=EPOCHS)\n",
        "model_mse.evaluate(Xn_test,y_test)\n",
        "y_new = model_mse.predict(Xn_test)"
      ],
      "execution_count": null,
      "outputs": [
        {
          "output_type": "stream",
          "text": [
            "Epoch 1/5\n",
            "100/100 [==============================] - 3s 33ms/step - loss: 323.2351\n",
            "Epoch 2/5\n",
            "100/100 [==============================] - 3s 32ms/step - loss: 309.2622\n",
            "Epoch 3/5\n",
            "100/100 [==============================] - 3s 33ms/step - loss: 293.2413\n",
            "Epoch 4/5\n",
            "100/100 [==============================] - 3s 33ms/step - loss: 295.0080\n",
            "Epoch 5/5\n",
            "100/100 [==============================] - 3s 33ms/step - loss: 300.2525\n",
            "31/31 [==============================] - 0s 10ms/step - loss: 351.8327\n"
          ],
          "name": "stdout"
        }
      ]
    },
    {
      "cell_type": "code",
      "metadata": {
        "colab": {
          "base_uri": "https://localhost:8080/"
        },
        "id": "8OpZIUTMi6J6",
        "outputId": "544e11e4-abb6-40bc-ba19-92a2efbea8d0"
      },
      "source": [
        "model_mse.evaluate(Xn_test,y_test)"
      ],
      "execution_count": null,
      "outputs": [
        {
          "output_type": "stream",
          "text": [
            "31/31 [==============================] - 0s 10ms/step - loss: 346.3233\n"
          ],
          "name": "stdout"
        },
        {
          "output_type": "execute_result",
          "data": {
            "text/plain": [
              "346.3233337402344"
            ]
          },
          "metadata": {
            "tags": []
          },
          "execution_count": 427
        }
      ]
    },
    {
      "cell_type": "code",
      "metadata": {
        "colab": {
          "base_uri": "https://localhost:8080/",
          "height": 282
        },
        "id": "Ae8VxbkTi-s8",
        "outputId": "e99322f4-d4fc-410b-b567-7f5012296604"
      },
      "source": [
        "import matplotlib.pyplot as plt\n",
        "plt.plot(y_test, y_new, \"ro\")"
      ],
      "execution_count": null,
      "outputs": [
        {
          "output_type": "execute_result",
          "data": {
            "text/plain": [
              "[<matplotlib.lines.Line2D at 0x7f88f3db7710>]"
            ]
          },
          "metadata": {
            "tags": []
          },
          "execution_count": 432
        },
        {
          "output_type": "display_data",
          "data": {
            "image/png": "[encoded data removed]",
            "text/plain": [
              "<Figure size 432x288 with 1 Axes>"
            ]
          },
          "metadata": {
            "tags": [],
            "needs_background": "light"
          }
        }
      ]
    },
    {
      "cell_type": "code",
      "metadata": {
        "colab": {
          "base_uri": "https://localhost:8080/"
        },
        "id": "eZwImTBajDCF",
        "outputId": "6d16222f-ab9d-45ea-ab08-b033afd5f2e0"
      },
      "source": [
        "model_mse.save('model_mse_best_weights_2')"
      ],
      "execution_count": null,
      "outputs": [
        {
          "output_type": "stream",
          "text": [
            "WARNING:absl:Found untraced functions such as lstm_cell_layer_call_fn, lstm_cell_layer_call_and_return_conditional_losses, lstm_cell_1_layer_call_fn, lstm_cell_1_layer_call_and_return_conditional_losses, lstm_cell_2_layer_call_fn while saving (showing 5 of 20). These functions will not be directly callable after loading.\n"
          ],
          "name": "stderr"
        },
        {
          "output_type": "stream",
          "text": [
            "INFO:tensorflow:Assets written to: model_mse_best_weights_2/assets\n"
          ],
          "name": "stdout"
        },
        {
          "output_type": "stream",
          "text": [
            "INFO:tensorflow:Assets written to: model_mse_best_weights_2/assets\n"
          ],
          "name": "stderr"
        }
      ]
    },
    {
      "cell_type": "code",
      "metadata": {
        "colab": {
          "base_uri": "https://localhost:8080/"
        },
        "id": "TA5tb0uOkjxE",
        "outputId": "27e6440e-62a5-4075-fffa-df65c0ff95f9"
      },
      "source": [
        "!tar -zcvf model_custom_best_weights.gz model_custom_best_weights"
      ],
      "execution_count": null,
      "outputs": [
        {
          "output_type": "stream",
          "text": [
            "model_custom_best_weights/\n",
            "model_custom_best_weights/saved_model.pb\n",
            "model_custom_best_weights/assets/\n",
            "model_custom_best_weights/variables/\n",
            "model_custom_best_weights/variables/variables.index\n",
            "model_custom_best_weights/variables/variables.data-00000-of-00001\n",
            "model_custom_best_weights/keras_metadata.pb\n"
          ],
          "name": "stdout"
        }
      ]
    },
    {
      "cell_type": "code",
      "metadata": {
        "colab": {
          "base_uri": "https://localhost:8080/"
        },
        "id": "UDzRKRsEkm_k",
        "outputId": "bc9e54e1-80e5-4e9b-d961-cb1a8a4871ad"
      },
      "source": [
        "!tar -zcvf model_mse_best_weights_2.gz model_mse_best_weights_2"
      ],
      "execution_count": null,
      "outputs": [
        {
          "output_type": "stream",
          "text": [
            "model_mse_best_weights_2/\n",
            "model_mse_best_weights_2/saved_model.pb\n",
            "model_mse_best_weights_2/assets/\n",
            "model_mse_best_weights_2/variables/\n",
            "model_mse_best_weights_2/variables/variables.index\n",
            "model_mse_best_weights_2/variables/variables.data-00000-of-00001\n",
            "model_mse_best_weights_2/keras_metadata.pb\n"
          ],
          "name": "stdout"
        }
      ]
    },
    {
      "cell_type": "code",
      "metadata": {
        "colab": {
          "base_uri": "https://localhost:8080/"
        },
        "id": "PDSxw4f9rQT4",
        "outputId": "2281c56f-a439-493b-f925-c8a0d9828a5d"
      },
      "source": [
        "#load weights from before overfitting\n",
        "\n",
        "\n",
        "from keras.models import load_model\n",
        "model_saved_mse = load_model(\"model_mse_best_weights_2\")\n",
        "model_saved_mse.evaluate(Xn_test,y_test)\n",
        "y_new = model_saved_mse.predict(Xn_test)"
      ],
      "execution_count": null,
      "outputs": [
        {
          "output_type": "stream",
          "text": [
            "31/31 [==============================] - 2s 10ms/step - loss: 346.3233\n"
          ],
          "name": "stdout"
        }
      ]
    },
    {
      "cell_type": "code",
      "metadata": {
        "id": "LNTOtZ02rqAn"
      },
      "source": [
        "y_valid_mse = model_saved_mse.predict(Xn_valid_3d)"
      ],
      "execution_count": null,
      "outputs": []
    },
    {
      "cell_type": "code",
      "metadata": {
        "colab": {
          "base_uri": "https://localhost:8080/",
          "height": 282
        },
        "id": "IdMj4miarxS1",
        "outputId": "a2bc81a7-8741-4899-da5d-56fef18e6c5f"
      },
      "source": [
        "import matplotlib.pyplot as plt\n",
        "\n",
        "\n",
        "plt.plot(y_valid_custom, y_valid_mse, \"ro\")"
      ],
      "execution_count": null,
      "outputs": [
        {
          "output_type": "execute_result",
          "data": {
            "text/plain": [
              "[<matplotlib.lines.Line2D at 0x7f88fae357d0>]"
            ]
          },
          "metadata": {
            "tags": []
          },
          "execution_count": 436
        },
        {
          "output_type": "display_data",
          "data": {
            "image/png": "[encoded data removed]",
            "text/plain": [
              "<Figure size 432x288 with 1 Axes>"
            ]
          },
          "metadata": {
            "tags": [],
            "needs_background": "light"
          }
        }
      ]
    },
    {
      "cell_type": "code",
      "metadata": {
        "id": "LI6UW8oCsAUZ"
      },
      "source": [
        "RUL_predicted_mse = []\n",
        "for i in range(y_valid_mse.shape[0]):\n",
        "  RUL_predicted_mse.append(int(round(y_valid_mse[i,0])))"
      ],
      "execution_count": null,
      "outputs": []
    },
    {
      "cell_type": "code",
      "metadata": {
        "id": "hbmXrR4ssRD6"
      },
      "source": [
        "with open('lmst_mse.txt', 'w') as filehandle:\n",
        "    for item in RUL_predicted_mse:\n",
        "        filehandle.write('%s\\n' % item)"
      ],
      "execution_count": null,
      "outputs": []
    }
  ]
}