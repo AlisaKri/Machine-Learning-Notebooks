{
 "cells": [
  {
   "cell_type": "code",
   "execution_count": 0,
   "metadata": {
    "colab": {},
    "colab_type": "code",
    "id": "mOqS5ew8A3tA"
   },
   "outputs": [],
   "source": []
  },
  {
   "cell_type": "markdown",
   "metadata": {
    "colab_type": "text",
    "id": "bGMaq8C0BRZE"
   },
   "source": [
    "# New Section\n",
    "Loading a multitask dataset QM8\n",
    "Models:\n",
    "1) Multitask with ECPF (better than multitask CM, and DTNN according to Molnet??)\n",
    "2) Multitask with CM\n",
    "3) GC\n",
    "4) DTNN\n",
    "\n",
    "For each model, look at performing in total, and per task.\n",
    "\n",
    "Compare to doing a single task separately per task, does that lead to better results?"
   ]
  },
  {
   "cell_type": "code",
   "execution_count": 0,
   "metadata": {
    "colab": {},
    "colab_type": "code",
    "id": "uVBxtVkICVg3"
   },
   "outputs": [],
   "source": [
    "#load deepchem\n",
    "%%capture\n",
    "%tensorflow_version 1.x\n",
    "!wget -c https://repo.anaconda.com/miniconda/Miniconda3-latest-Linux-x86_64.sh\n",
    "!chmod +x Miniconda3-latest-Linux-x86_64.sh\n",
    "!bash ./Miniconda3-latest-Linux-x86_64.sh -b -f -p /usr/local\n",
    "!conda install -y -c deepchem -c rdkit -c conda-forge -c omnia deepchem-gpu=2.3.0\n",
    "import sys\n",
    "sys.path.append('/usr/local/lib/python3.7/site-packages/')"
   ]
  },
  {
   "cell_type": "code",
   "execution_count": null,
   "metadata": {},
   "outputs": [],
   "source": [
    "import sys\n",
    "sys.path.append('/usr/local/lib/python3.7/site-packages/')"
   ]
  },
  {
   "cell_type": "code",
   "execution_count": 0,
   "metadata": {
    "colab": {},
    "colab_type": "code",
    "id": "PuH5LX_mGHUk"
   },
   "outputs": [],
   "source": [
    "%cp gaussian_process.py /usr/local/lib/python3.7/site-packages/deepchem/hyper/gaussian_process.py"
   ]
  },
  {
   "cell_type": "code",
   "execution_count": 3,
   "metadata": {
    "colab": {
     "base_uri": "https://localhost:8080/",
     "height": 34
    },
    "colab_type": "code",
    "executionInfo": {
     "elapsed": 327,
     "status": "ok",
     "timestamp": 1587664513855,
     "user": {
      "displayName": "Alisa",
      "photoUrl": "https://lh3.googleusercontent.com/a-/AOh14GitcbifunW8HnLIy9OLB4tye6ZM6rKflRg5DjPJwA=s64",
      "userId": "01346965133972112207"
     },
     "user_tz": 240
    },
    "id": "0C98VopTvmDg",
    "outputId": "382a217c-9db5-41c1-807d-ccdb01588aa4",
    "scrolled": true
   },
   "outputs": [
    {
     "name": "stdout",
     "output_type": "stream",
     "text": [
      "env: DEEPCHEM_DATA_DIR=/Users/alisa/Dropbox/DeepLearning/DeepChem\n"
     ]
    }
   ],
   "source": [
    "import os\n",
    "%env DEEPCHEM_DATA_DIR=/Users/alisa/Dropbox/DeepLearning/DeepChem"
   ]
  },
  {
   "cell_type": "code",
   "execution_count": 4,
   "metadata": {
    "colab": {
     "base_uri": "https://localhost:8080/",
     "height": 34
    },
    "colab_type": "code",
    "executionInfo": {
     "elapsed": 1616,
     "status": "ok",
     "timestamp": 1587664521660,
     "user": {
      "displayName": "Alisa",
      "photoUrl": "https://lh3.googleusercontent.com/a-/AOh14GitcbifunW8HnLIy9OLB4tye6ZM6rKflRg5DjPJwA=s64",
      "userId": "01346965133972112207"
     },
     "user_tz": 240
    },
    "id": "sRwfeqH6wO4z",
    "outputId": "6056f02d-49e7-4b3e-d960-fab9870a7689"
   },
   "outputs": [
    {
     "name": "stdout",
     "output_type": "stream",
     "text": [
      "/Users/alisa/Dropbox/DeepLearning/DeepChem\r\n"
     ]
    }
   ],
   "source": [
    "!echo $DEEPCHEM_DATA_DIR"
   ]
  },
  {
   "cell_type": "code",
   "execution_count": 6,
   "metadata": {
    "colab": {
     "base_uri": "https://localhost:8080/",
     "height": 228
    },
    "colab_type": "code",
    "executionInfo": {
     "elapsed": 8221,
     "status": "ok",
     "timestamp": 1587664531571,
     "user": {
      "displayName": "Alisa",
      "photoUrl": "https://lh3.googleusercontent.com/a-/AOh14GitcbifunW8HnLIy9OLB4tye6ZM6rKflRg5DjPJwA=s64",
      "userId": "01346965133972112207"
     },
     "user_tz": 240
    },
    "id": "J3zvssptEmqN",
    "outputId": "e9b72f97-cff0-4c01-aba4-aa77bef1a4ad"
   },
   "outputs": [
    {
     "name": "stderr",
     "output_type": "stream",
     "text": [
      "Using TensorFlow backend.\n"
     ]
    }
   ],
   "source": [
    "#deepchem modules\n",
    "import deepchem as dc\n",
    "from deepchem.models import GraphConvModel, DTNNModel\n",
    "from deepchem.trans import undo_transforms\n",
    "\n",
    "#tensorflow and keras modules\n",
    "import tensorflow as tf\n",
    "import keras\n",
    "from tensorflow.keras.layers import Dense, Flatten, Input\n",
    "from keras.callbacks import ModelCheckpoint\n",
    "\n",
    "\n",
    "import numpy as np\n",
    "import pandas as pd\n",
    "\n",
    "\n",
    "import tempfile\n",
    "from rdkit import Chem\n",
    "from rdkit.Chem import Draw\n",
    "from itertools import islice\n",
    "from IPython.display import Image, display\n",
    "\n",
    "%matplotlib inline\n",
    "import matplotlib\n",
    "import numpy as np\n",
    "import matplotlib.pyplot as plt\n",
    "import tensorflow as tf\n",
    "\n",
    "\n",
    "\n",
    "\n",
    "\n"
   ]
  },
  {
   "cell_type": "code",
   "execution_count": 7,
   "metadata": {
    "colab": {
     "base_uri": "https://localhost:8080/",
     "height": 454
    },
    "colab_type": "code",
    "executionInfo": {
     "elapsed": 3761,
     "status": "ok",
     "timestamp": 1587664538682,
     "user": {
      "displayName": "Alisa",
      "photoUrl": "https://lh3.googleusercontent.com/a-/AOh14GitcbifunW8HnLIy9OLB4tye6ZM6rKflRg5DjPJwA=s64",
      "userId": "01346965133972112207"
     },
     "user_tz": 240
    },
    "id": "i0pO7z8rxoub",
    "outputId": "6cd18f9c-ef07-4d38-87c2-4ceee912119b"
   },
   "outputs": [
    {
     "name": "stdout",
     "output_type": "stream",
     "text": [
      "Collecting pyGPGO\n",
      "  Downloading pyGPGO-0.4.0.dev1.tar.gz (12 kB)\n",
      "Requirement already satisfied: numpy in /opt/anaconda3/lib/python3.7/site-packages (from pyGPGO) (1.18.1)\n",
      "Requirement already satisfied: scipy in /opt/anaconda3/lib/python3.7/site-packages (from pyGPGO) (1.4.1)\n",
      "Requirement already satisfied: joblib in /opt/anaconda3/lib/python3.7/site-packages (from pyGPGO) (0.14.1)\n",
      "Requirement already satisfied: scikit-learn in /opt/anaconda3/lib/python3.7/site-packages (from pyGPGO) (0.22.1)\n",
      "Collecting theano\n",
      "  Downloading Theano-1.0.4.tar.gz (2.8 MB)\n",
      "\u001b[K     |████████████████████████████████| 2.8 MB 7.9 MB/s eta 0:00:01\n",
      "\u001b[?25hCollecting pyMC3\n",
      "  Downloading pymc3-3.8-py3-none-any.whl (908 kB)\n",
      "\u001b[K     |████████████████████████████████| 908 kB 21.9 MB/s eta 0:00:01\n",
      "\u001b[?25hRequirement already satisfied: six>=1.9.0 in /opt/anaconda3/lib/python3.7/site-packages (from theano->pyGPGO) (1.14.0)\n",
      "Requirement already satisfied: pandas>=0.18.0 in /opt/anaconda3/lib/python3.7/site-packages (from pyMC3->pyGPGO) (1.0.1)\n",
      "Requirement already satisfied: patsy>=0.4.0 in /opt/anaconda3/lib/python3.7/site-packages (from pyMC3->pyGPGO) (0.5.1)\n",
      "Requirement already satisfied: h5py>=2.7.0 in /opt/anaconda3/lib/python3.7/site-packages (from pyMC3->pyGPGO) (2.10.0)\n",
      "Requirement already satisfied: tqdm>=4.8.4 in /opt/anaconda3/lib/python3.7/site-packages (from pyMC3->pyGPGO) (4.42.1)\n",
      "Collecting arviz>=0.4.1\n",
      "  Downloading arviz-0.7.0-py3-none-any.whl (1.5 MB)\n",
      "\u001b[K     |████████████████████████████████| 1.5 MB 22.2 MB/s eta 0:00:01\n",
      "\u001b[?25hRequirement already satisfied: python-dateutil>=2.6.1 in /opt/anaconda3/lib/python3.7/site-packages (from pandas>=0.18.0->pyMC3->pyGPGO) (2.8.1)\n",
      "Requirement already satisfied: pytz>=2017.2 in /opt/anaconda3/lib/python3.7/site-packages (from pandas>=0.18.0->pyMC3->pyGPGO) (2019.3)\n",
      "Requirement already satisfied: matplotlib>=3.0 in /opt/anaconda3/lib/python3.7/site-packages (from arviz>=0.4.1->pyMC3->pyGPGO) (3.1.3)\n",
      "Requirement already satisfied: packaging in /opt/anaconda3/lib/python3.7/site-packages (from arviz>=0.4.1->pyMC3->pyGPGO) (20.1)\n",
      "Collecting xarray>=0.11\n",
      "  Downloading xarray-0.15.1-py3-none-any.whl (668 kB)\n",
      "\u001b[K     |████████████████████████████████| 668 kB 25.8 MB/s eta 0:00:01\n",
      "\u001b[?25hCollecting netcdf4\n",
      "  Downloading netCDF4-1.5.3-cp37-cp37m-macosx_10_6_intel.macosx_10_9_intel.macosx_10_9_x86_64.macosx_10_10_intel.macosx_10_10_x86_64.whl (6.4 MB)\n",
      "\u001b[K     |████████████████████████████████| 6.4 MB 11.9 MB/s eta 0:00:01     |█████████▏                      | 1.8 MB 11.9 MB/s eta 0:00:01\n",
      "\u001b[?25hRequirement already satisfied: pyparsing!=2.0.4,!=2.1.2,!=2.1.6,>=2.0.1 in /opt/anaconda3/lib/python3.7/site-packages (from matplotlib>=3.0->arviz>=0.4.1->pyMC3->pyGPGO) (2.4.6)\n",
      "Requirement already satisfied: kiwisolver>=1.0.1 in /opt/anaconda3/lib/python3.7/site-packages (from matplotlib>=3.0->arviz>=0.4.1->pyMC3->pyGPGO) (1.1.0)\n",
      "Requirement already satisfied: cycler>=0.10 in /opt/anaconda3/lib/python3.7/site-packages (from matplotlib>=3.0->arviz>=0.4.1->pyMC3->pyGPGO) (0.10.0)\n",
      "Requirement already satisfied: setuptools>=41.2 in /opt/anaconda3/lib/python3.7/site-packages (from xarray>=0.11->arviz>=0.4.1->pyMC3->pyGPGO) (46.0.0.post20200309)\n",
      "Collecting cftime\n",
      "  Downloading cftime-1.1.2-cp37-cp37m-macosx_10_9_x86_64.whl (294 kB)\n",
      "\u001b[K     |████████████████████████████████| 294 kB 18.8 MB/s eta 0:00:01\n",
      "\u001b[?25hBuilding wheels for collected packages: pyGPGO, theano\n",
      "  Building wheel for pyGPGO (setup.py) ... \u001b[?25ldone\n",
      "\u001b[?25h  Created wheel for pyGPGO: filename=pyGPGO-0.4.0.dev1-py3-none-any.whl size=19865 sha256=04d1e7be1728910d22e68b2e5f0cb81c9a0bb50de85a374cb788e099c77e10f7\n",
      "  Stored in directory: /Users/alisa/Library/Caches/pip/wheels/52/6f/85/71782cff3fc9db678b2ac0d7c3fe44211b3ddeff2aabf4ea57\n",
      "  Building wheel for theano (setup.py) ... \u001b[?25ldone\n",
      "\u001b[?25h  Created wheel for theano: filename=Theano-1.0.4-py3-none-any.whl size=2667177 sha256=5d9b3ff83b9947977ceba1b4982f7ca1d7ed4684f58f7e852ec5c5246fb2ff35\n",
      "  Stored in directory: /Users/alisa/Library/Caches/pip/wheels/33/e0/86/12647586a15bd29c062c9996231380908fb2dcf6a5df1c6f84\n",
      "Successfully built pyGPGO theano\n",
      "Installing collected packages: theano, xarray, cftime, netcdf4, arviz, pyMC3, pyGPGO\n",
      "Successfully installed arviz-0.7.0 cftime-1.1.2 netcdf4-1.5.3 pyGPGO-0.4.0.dev1 pyMC3-3.8 theano-1.0.4 xarray-0.15.1\n"
     ]
    }
   ],
   "source": [
    "!pip install pyGPGO\n"
   ]
  },
  {
   "cell_type": "code",
   "execution_count": 8,
   "metadata": {
    "colab": {},
    "colab_type": "code",
    "id": "e_us5Taox0rW"
   },
   "outputs": [],
   "source": [
    "import pyGPGO"
   ]
  },
  {
   "cell_type": "code",
   "execution_count": 9,
   "metadata": {
    "colab": {
     "base_uri": "https://localhost:8080/",
     "height": 34
    },
    "colab_type": "code",
    "executionInfo": {
     "elapsed": 311,
     "status": "ok",
     "timestamp": 1587664544871,
     "user": {
      "displayName": "Alisa",
      "photoUrl": "https://lh3.googleusercontent.com/a-/AOh14GitcbifunW8HnLIy9OLB4tye6ZM6rKflRg5DjPJwA=s64",
      "userId": "01346965133972112207"
     },
     "user_tz": 240
    },
    "id": "JSAhXSUCph-R",
    "outputId": "890e1e01-2477-4e91-ce00-c8c8e56847a7"
   },
   "outputs": [
    {
     "data": {
      "text/plain": [
       "'/Users/alisa/Dropbox (Personal)/DeepLearning/DeepChem'"
      ]
     },
     "execution_count": 9,
     "metadata": {},
     "output_type": "execute_result"
    }
   ],
   "source": [
    "%pwd"
   ]
  },
  {
   "cell_type": "code",
   "execution_count": 13,
   "metadata": {
    "colab": {
     "base_uri": "https://localhost:8080/",
     "height": 86
    },
    "colab_type": "code",
    "executionInfo": {
     "elapsed": 1245,
     "status": "ok",
     "timestamp": 1587664559824,
     "user": {
      "displayName": "Alisa",
      "photoUrl": "https://lh3.googleusercontent.com/a-/AOh14GitcbifunW8HnLIy9OLB4tye6ZM6rKflRg5DjPJwA=s64",
      "userId": "01346965133972112207"
     },
     "user_tz": 240
    },
    "id": "BUpWNXgqOGwM",
    "outputId": "14c176de-a27b-4666-a941-bfb56e76b57b"
   },
   "outputs": [
    {
     "name": "stdout",
     "output_type": "stream",
     "text": [
      "mkdir: cannot create directory ‘qm8’: File exists\n",
      "Loading dataset from disk.\n",
      "Loading dataset from disk.\n",
      "Loading dataset from disk.\n"
     ]
    }
   ],
   "source": [
    "#load unfeaturized dataset\n",
    "%mkdir qm8\n",
    "tasks, datasets, transformers = dc.molnet.load_qm8(featurizer='Raw',save_dir='qm8')"
   ]
  },
  {
   "cell_type": "code",
   "execution_count": 0,
   "metadata": {
    "colab": {
     "base_uri": "https://localhost:8080/",
     "height": 34
    },
    "colab_type": "code",
    "executionInfo": {
     "elapsed": 2859,
     "status": "ok",
     "timestamp": 1587590521531,
     "user": {
      "displayName": "Alisa",
      "photoUrl": "https://lh3.googleusercontent.com/a-/AOh14GitcbifunW8HnLIy9OLB4tye6ZM6rKflRg5DjPJwA=s64",
      "userId": "01346965133972112207"
     },
     "user_tz": 240
    },
    "id": "xmEvkad5oYOc",
    "outputId": "dc33456f-532b-4564-ba4e-5c6b39562946"
   },
   "outputs": [
    {
     "name": "stdout",
     "output_type": "stream",
     "text": [
      "/content\n"
     ]
    }
   ],
   "source": [
    "!pwd"
   ]
  },
  {
   "cell_type": "code",
   "execution_count": 0,
   "metadata": {
    "colab": {},
    "colab_type": "code",
    "id": "NZ8YY-YoOZPM"
   },
   "outputs": [],
   "source": [
    "train, valid, test = datasets"
   ]
  },
  {
   "cell_type": "code",
   "execution_count": 12,
   "metadata": {
    "colab": {
     "base_uri": "https://localhost:8080/",
     "height": 183
    },
    "colab_type": "code",
    "executionInfo": {
     "elapsed": 442,
     "status": "error",
     "timestamp": 1587664555526,
     "user": {
      "displayName": "Alisa",
      "photoUrl": "https://lh3.googleusercontent.com/a-/AOh14GitcbifunW8HnLIy9OLB4tye6ZM6rKflRg5DjPJwA=s64",
      "userId": "01346965133972112207"
     },
     "user_tz": 240
    },
    "id": "bjU5OawkRWrL",
    "outputId": "b39ca75f-dc84-4927-91c4-d44a6bc59bf6"
   },
   "outputs": [
    {
     "ename": "NameError",
     "evalue": "ignored",
     "output_type": "error",
     "traceback": [
      "\u001b[0;31m---------------------------------------------------------------------------\u001b[0m",
      "\u001b[0;31mNameError\u001b[0m                                 Traceback (most recent call last)",
      "\u001b[0;32m<ipython-input-12-843db857e0eb>\u001b[0m in \u001b[0;36m<module>\u001b[0;34m()\u001b[0m\n\u001b[0;32m----> 1\u001b[0;31m \u001b[0mtrain\u001b[0m\u001b[0;34m,\u001b[0m \u001b[0mvalid\u001b[0m\u001b[0;34m,\u001b[0m \u001b[0mtest\u001b[0m \u001b[0;34m=\u001b[0m \u001b[0mdatasets\u001b[0m\u001b[0;34m\u001b[0m\u001b[0;34m\u001b[0m\u001b[0m\n\u001b[0m\u001b[1;32m      2\u001b[0m \u001b[0mtrain\u001b[0m\u001b[0;34m.\u001b[0m\u001b[0mids\u001b[0m\u001b[0;34m[\u001b[0m\u001b[0;34m:\u001b[0m\u001b[0;36m5\u001b[0m\u001b[0;34m]\u001b[0m\u001b[0;34m\u001b[0m\u001b[0;34m\u001b[0m\u001b[0m\n",
      "\u001b[0;31mNameError\u001b[0m: name 'datasets' is not defined"
     ]
    }
   ],
   "source": [
    "train, valid, test = datasets\n",
    "train.ids[:5]"
   ]
  },
  {
   "cell_type": "code",
   "execution_count": 0,
   "metadata": {
    "colab": {
     "base_uri": "https://localhost:8080/",
     "height": 86
    },
    "colab_type": "code",
    "executionInfo": {
     "elapsed": 194,
     "status": "ok",
     "timestamp": 1587588231934,
     "user": {
      "displayName": "Alisa",
      "photoUrl": "https://lh3.googleusercontent.com/a-/AOh14GitcbifunW8HnLIy9OLB4tye6ZM6rKflRg5DjPJwA=s64",
      "userId": "01346965133972112207"
     },
     "user_tz": 240
    },
    "id": "UPjpPboMSA6p",
    "outputId": "01fadbe6-4dbd-41a9-d63b-adaabb823129"
   },
   "outputs": [
    {
     "data": {
      "text/plain": [
       "array(['[H]C([H])([H])C#N', '[H]C(=O)N([H])[H]',\n",
       "       '[H]C1=C([H])N([H])C([H])=C1[H]',\n",
       "       '[H]OC(C([H])([H])[H])(C([H])([H])[H])C([H])([H])[H]',\n",
       "       '[H]C([H])([H])OC(=O)C([H])([H])[H]'], dtype=object)"
      ]
     },
     "execution_count": 7,
     "metadata": {
      "tags": []
     },
     "output_type": "execute_result"
    }
   ],
   "source": [
    "valid.ids[:5]"
   ]
  },
  {
   "cell_type": "code",
   "execution_count": 0,
   "metadata": {
    "colab": {
     "base_uri": "https://localhost:8080/",
     "height": 86
    },
    "colab_type": "code",
    "executionInfo": {
     "elapsed": 614,
     "status": "ok",
     "timestamp": 1587582364709,
     "user": {
      "displayName": "Alisa",
      "photoUrl": "https://lh3.googleusercontent.com/a-/AOh14GitcbifunW8HnLIy9OLB4tye6ZM6rKflRg5DjPJwA=s64",
      "userId": "01346965133972112207"
     },
     "user_tz": 240
    },
    "id": "tuMvQpvVSCw9",
    "outputId": "084bc554-ff31-48f4-9315-51c79c90c90b"
   },
   "outputs": [
    {
     "data": {
      "text/plain": [
       "array(['[H]C(=O)C([H])=O', '[H]C([H])([H])C([H])([H])C#N',\n",
       "       '[H]OC1([H])C([H])([H])C1([H])[H]',\n",
       "       '[H][N][C](OC([H])([H])[H])C([H])([H])[H]',\n",
       "       '[H]C([H])([H])C#CC([H])([H])C([H])([H])[H]'], dtype=object)"
      ]
     },
     "execution_count": 7,
     "metadata": {
      "tags": []
     },
     "output_type": "execute_result"
    }
   ],
   "source": [
    "test.ids[:5]"
   ]
  },
  {
   "cell_type": "markdown",
   "metadata": {
    "colab_type": "text",
    "id": "UTpui7jSCP3X"
   },
   "source": [
    "# Multitask"
   ]
  },
  {
   "cell_type": "code",
   "execution_count": 10,
   "metadata": {
    "colab": {
     "base_uri": "https://localhost:8080/",
     "height": 69
    },
    "colab_type": "code",
    "executionInfo": {
     "elapsed": 1300,
     "status": "ok",
     "timestamp": 1587664572954,
     "user": {
      "displayName": "Alisa",
      "photoUrl": "https://lh3.googleusercontent.com/a-/AOh14GitcbifunW8HnLIy9OLB4tye6ZM6rKflRg5DjPJwA=s64",
      "userId": "01346965133972112207"
     },
     "user_tz": 240
    },
    "id": "BLxur_1QCTQ3",
    "outputId": "77c09d46-0142-46ca-c20c-4704b0e1a17e"
   },
   "outputs": [
    {
     "name": "stdout",
     "output_type": "stream",
     "text": [
      "Loading raw samples now.\n",
      "shard_size: 8192\n",
      "About to start loading CSV from /Users/alisa/Dropbox/DeepLearning/DeepChem/qm8.csv\n",
      "Loading shard 1 of size 8192.\n",
      "Featurizing sample 0\n",
      "Featurizing sample 1000\n",
      "Featurizing sample 2000\n",
      "Featurizing sample 3000\n",
      "Featurizing sample 4000\n",
      "Featurizing sample 5000\n",
      "Featurizing sample 6000\n",
      "Featurizing sample 7000\n",
      "Featurizing sample 8000\n",
      "TIMING: featurizing shard 0 took 20.728 s\n",
      "Loading shard 2 of size 8192.\n",
      "Featurizing sample 0\n",
      "Featurizing sample 1000\n",
      "Featurizing sample 2000\n",
      "Featurizing sample 3000\n",
      "Featurizing sample 4000\n",
      "Featurizing sample 5000\n",
      "Featurizing sample 6000\n",
      "Featurizing sample 7000\n",
      "Featurizing sample 8000\n",
      "TIMING: featurizing shard 1 took 19.890 s\n",
      "Loading shard 3 of size 8192.\n",
      "Featurizing sample 0\n",
      "Featurizing sample 1000\n",
      "Featurizing sample 2000\n",
      "Featurizing sample 3000\n",
      "Featurizing sample 4000\n",
      "Featurizing sample 5000\n",
      "TIMING: featurizing shard 2 took 12.948 s\n",
      "TIMING: dataset construction took 54.335 s\n",
      "Loading dataset from disk.\n",
      "TIMING: dataset construction took 1.374 s\n",
      "Loading dataset from disk.\n",
      "TIMING: dataset construction took 0.656 s\n",
      "Loading dataset from disk.\n",
      "TIMING: dataset construction took 0.692 s\n",
      "Loading dataset from disk.\n",
      "TIMING: dataset construction took 0.934 s\n",
      "Loading dataset from disk.\n",
      "TIMING: dataset construction took 0.135 s\n",
      "Loading dataset from disk.\n",
      "TIMING: dataset construction took 0.133 s\n",
      "Loading dataset from disk.\n"
     ]
    }
   ],
   "source": [
    "#load dataset from save_dif and apply featurizer to the train, valid and test sets\n",
    "#test printing train.ids[:5] from raw dataset and featurized one shows they are not the same\n",
    "#next time, look at test set.\n",
    "tasks, datasets, transformers = dc.molnet.load_qm8(featurizer='ECFP',save_dir='qm8')\n"
   ]
  },
  {
   "cell_type": "code",
   "execution_count": 11,
   "metadata": {
    "colab": {
     "base_uri": "https://localhost:8080/",
     "height": 52
    },
    "colab_type": "code",
    "executionInfo": {
     "elapsed": 1273,
     "status": "ok",
     "timestamp": 1587664578967,
     "user": {
      "displayName": "Alisa",
      "photoUrl": "https://lh3.googleusercontent.com/a-/AOh14GitcbifunW8HnLIy9OLB4tye6ZM6rKflRg5DjPJwA=s64",
      "userId": "01346965133972112207"
     },
     "user_tz": 240
    },
    "id": "IgaN49ZES79_",
    "outputId": "96b74b8d-7d4b-4343-aef5-141d4fbab1b2"
   },
   "outputs": [
    {
     "data": {
      "text/plain": [
       "array(['[H]N([H])[H]', '[H]O[H]', '[H]C#C[H]', '[H]C#N', '[H]C([H])=O'],\n",
       "      dtype=object)"
      ]
     },
     "execution_count": 11,
     "metadata": {},
     "output_type": "execute_result"
    }
   ],
   "source": [
    "train, valid, test = datasets\n",
    "train.ids[:5]\n",
    "\n"
   ]
  },
  {
   "cell_type": "code",
   "execution_count": 0,
   "metadata": {
    "colab": {
     "base_uri": "https://localhost:8080/",
     "height": 86
    },
    "colab_type": "code",
    "executionInfo": {
     "elapsed": 641,
     "status": "ok",
     "timestamp": 1587582537682,
     "user": {
      "displayName": "Alisa",
      "photoUrl": "https://lh3.googleusercontent.com/a-/AOh14GitcbifunW8HnLIy9OLB4tye6ZM6rKflRg5DjPJwA=s64",
      "userId": "01346965133972112207"
     },
     "user_tz": 240
    },
    "id": "iXuOrK3mTaAa",
    "outputId": "67be6c0a-2013-4c5a-8a58-8afa9861d9b0"
   },
   "outputs": [
    {
     "data": {
      "text/plain": [
       "array(['[H]C1([H])C([H])([H])C1([H])[H]', '[H]C(=O)N([H])C([H])([H])[H]',\n",
       "       '[H]OC([H])([H])C([H])([H])O[H]',\n",
       "       '[H]C(=O)C([H])(C([H])([H])[H])C([H])([H])[H]',\n",
       "       '[H]C([H])([H])C1([H])OC([H])([H])C1([H])[H]'], dtype=object)"
      ]
     },
     "execution_count": 12,
     "metadata": {
      "tags": []
     },
     "output_type": "execute_result"
    }
   ],
   "source": [
    "valid.ids[:5]\n"
   ]
  },
  {
   "cell_type": "code",
   "execution_count": 0,
   "metadata": {
    "colab": {
     "base_uri": "https://localhost:8080/",
     "height": 69
    },
    "colab_type": "code",
    "executionInfo": {
     "elapsed": 743,
     "status": "ok",
     "timestamp": 1587582540140,
     "user": {
      "displayName": "Alisa",
      "photoUrl": "https://lh3.googleusercontent.com/a-/AOh14GitcbifunW8HnLIy9OLB4tye6ZM6rKflRg5DjPJwA=s64",
      "userId": "01346965133972112207"
     },
     "user_tz": 240
    },
    "id": "TzDcCO60TbUp",
    "outputId": "17a1ec8e-b0df-451a-b1b4-1cd1dd4d2ba2"
   },
   "outputs": [
    {
     "data": {
      "text/plain": [
       "array(['[H]C#N', '[H]C1([H])OC1([H])[H]', '[H]C#CC([H])=O',\n",
       "       '[H]C([H])([H])C([H])([H])C#N',\n",
       "       '[H]C1([H])C([H])([H])C([H])([H])C1([H])[H]'], dtype=object)"
      ]
     },
     "execution_count": 13,
     "metadata": {
      "tags": []
     },
     "output_type": "execute_result"
    }
   ],
   "source": [
    "test.ids[:5]"
   ]
  },
  {
   "cell_type": "code",
   "execution_count": 0,
   "metadata": {
    "colab": {
     "base_uri": "https://localhost:8080/",
     "height": 34
    },
    "colab_type": "code",
    "executionInfo": {
     "elapsed": 846,
     "status": "ok",
     "timestamp": 1587582553748,
     "user": {
      "displayName": "Alisa",
      "photoUrl": "https://lh3.googleusercontent.com/a-/AOh14GitcbifunW8HnLIy9OLB4tye6ZM6rKflRg5DjPJwA=s64",
      "userId": "01346965133972112207"
     },
     "user_tz": 240
    },
    "id": "rJ8qCRT-UbRw",
    "outputId": "c79f94a9-37f5-40ec-e464-b069bc92b75f"
   },
   "outputs": [
    {
     "data": {
      "text/plain": [
       "1024"
      ]
     },
     "execution_count": 14,
     "metadata": {
      "tags": []
     },
     "output_type": "execute_result"
    }
   ],
   "source": [
    "train.X.shape[1]"
   ]
  },
  {
   "cell_type": "code",
   "execution_count": 0,
   "metadata": {
    "colab": {
     "base_uri": "https://localhost:8080/",
     "height": 34
    },
    "colab_type": "code",
    "executionInfo": {
     "elapsed": 811,
     "status": "ok",
     "timestamp": 1587582556318,
     "user": {
      "displayName": "Alisa",
      "photoUrl": "https://lh3.googleusercontent.com/a-/AOh14GitcbifunW8HnLIy9OLB4tye6ZM6rKflRg5DjPJwA=s64",
      "userId": "01346965133972112207"
     },
     "user_tz": 240
    },
    "id": "5bhA28vWVEN-",
    "outputId": "d5d3ce46-fc02-4ebe-8b26-1db2550b2cbc"
   },
   "outputs": [
    {
     "data": {
      "text/plain": [
       "16"
      ]
     },
     "execution_count": 15,
     "metadata": {
      "tags": []
     },
     "output_type": "execute_result"
    }
   ],
   "source": [
    "len(tasks)"
   ]
  },
  {
   "cell_type": "markdown",
   "metadata": {
    "colab_type": "text",
    "id": "OTGdBuNtSOvu"
   },
   "source": [
    "# Hyperparameter optimization\n"
   ]
  },
  {
   "cell_type": "code",
   "execution_count": 0,
   "metadata": {
    "colab": {},
    "colab_type": "code",
    "id": "jP1LsTpmSVXg"
   },
   "outputs": [],
   "source": [
    " \n",
    " hps = {\n",
    "      'layer_sizes': [1500],\n",
    "      'weight_init_stddevs': [0.02],\n",
    "      'bias_init_consts': [1.],\n",
    "      'dropouts': [0.5],\n",
    "      'penalty': 0.1,\n",
    "      'batch_size': 50,\n",
    "      'nb_epoch': 10,\n",
    "      'learning_rate': 0.001\n",
    " }"
   ]
  },
  {
   "cell_type": "code",
   "execution_count": 12,
   "metadata": {
    "colab": {},
    "colab_type": "code",
    "id": "B03j7lCeS2su"
   },
   "outputs": [],
   "source": [
    "from deepchem.hyper import GaussianProcessHyperparamOpt "
   ]
  },
  {
   "cell_type": "code",
   "execution_count": 13,
   "metadata": {
    "colab": {
     "base_uri": "https://localhost:8080/",
     "height": 642
    },
    "colab_type": "code",
    "executionInfo": {
     "elapsed": 320,
     "status": "ok",
     "timestamp": 1587664587606,
     "user": {
      "displayName": "Alisa",
      "photoUrl": "https://lh3.googleusercontent.com/a-/AOh14GitcbifunW8HnLIy9OLB4tye6ZM6rKflRg5DjPJwA=s64",
      "userId": "01346965133972112207"
     },
     "user_tz": 240
    },
    "id": "BRxZTmOITuxl",
    "outputId": "785f5d49-e8dd-42b5-f49c-72ec60b699e0"
   },
   "outputs": [],
   "source": [
    "#regression_metric = dc.metrics.Metric(dc.metrics.mean_absolute_error, mode=\"regression\")\n",
    "regression_metric = dc.metrics.Metric(dc.metrics.mean_absolute_error)\n",
    "#regression_metric = dc.metrics.Metric(dc.metrics.r2_score)\n",
    "#len(regression_metric)\n",
    "#dir(regression_metric)\n"
   ]
  },
  {
   "cell_type": "code",
   "execution_count": 0,
   "metadata": {
    "colab": {
     "base_uri": "https://localhost:8080/",
     "height": 34
    },
    "colab_type": "code",
    "executionInfo": {
     "elapsed": 278,
     "status": "ok",
     "timestamp": 1587650163213,
     "user": {
      "displayName": "Alisa",
      "photoUrl": "https://lh3.googleusercontent.com/a-/AOh14GitcbifunW8HnLIy9OLB4tye6ZM6rKflRg5DjPJwA=s64",
      "userId": "01346965133972112207"
     },
     "user_tz": 240
    },
    "id": "zdafW-71OTBu",
    "outputId": "21d0542c-a270-4bd1-dab5-6c02b4c209fd"
   },
   "outputs": [
    {
     "data": {
      "text/plain": [
       "True"
      ]
     },
     "execution_count": 42,
     "metadata": {
      "tags": []
     },
     "output_type": "execute_result"
    }
   ],
   "source": [
    "transformers[0].transform_y\n"
   ]
  },
  {
   "cell_type": "code",
   "execution_count": 0,
   "metadata": {
    "colab": {},
    "colab_type": "code",
    "id": "HCwMCmYBT_jj"
   },
   "outputs": [],
   "source": [
    "y_means, y_stds = train.get_statistics(X_stats=False,y_stats=True)"
   ]
  },
  {
   "cell_type": "code",
   "execution_count": 0,
   "metadata": {
    "colab": {
     "base_uri": "https://localhost:8080/",
     "height": 34
    },
    "colab_type": "code",
    "executionInfo": {
     "elapsed": 267,
     "status": "ok",
     "timestamp": 1587650189457,
     "user": {
      "displayName": "Alisa",
      "photoUrl": "https://lh3.googleusercontent.com/a-/AOh14GitcbifunW8HnLIy9OLB4tye6ZM6rKflRg5DjPJwA=s64",
      "userId": "01346965133972112207"
     },
     "user_tz": 240
    },
    "id": "mhddSw-XU0O0",
    "outputId": "44d23eee-155c-48b5-8329-c2fc670f1d5f"
   },
   "outputs": [
    {
     "data": {
      "text/plain": [
       "(16,)"
      ]
     },
     "execution_count": 44,
     "metadata": {
      "tags": []
     },
     "output_type": "execute_result"
    }
   ],
   "source": [
    "y_means.shape"
   ]
  },
  {
   "cell_type": "code",
   "execution_count": 0,
   "metadata": {
    "colab": {
     "base_uri": "https://localhost:8080/",
     "height": 34
    },
    "colab_type": "code",
    "executionInfo": {
     "elapsed": 1244,
     "status": "ok",
     "timestamp": 1587650200886,
     "user": {
      "displayName": "Alisa",
      "photoUrl": "https://lh3.googleusercontent.com/a-/AOh14GitcbifunW8HnLIy9OLB4tye6ZM6rKflRg5DjPJwA=s64",
      "userId": "01346965133972112207"
     },
     "user_tz": 240
    },
    "id": "UXdhIM4vU2ga",
    "outputId": "3f492744-f8c7-4075-836f-e9ab51f54e42"
   },
   "outputs": [
    {
     "data": {
      "text/plain": [
       "(16,)"
      ]
     },
     "execution_count": 45,
     "metadata": {
      "tags": []
     },
     "output_type": "execute_result"
    }
   ],
   "source": [
    "y_stds.shape"
   ]
  },
  {
   "cell_type": "code",
   "execution_count": 0,
   "metadata": {
    "colab": {},
    "colab_type": "code",
    "id": "Ysyg1Fu5WPiJ"
   },
   "outputs": [],
   "source": [
    "original_y = transformers[0].untransform(train.y)"
   ]
  },
  {
   "cell_type": "code",
   "execution_count": 0,
   "metadata": {
    "colab": {},
    "colab_type": "code",
    "id": "gG1QeC_uWYA1"
   },
   "outputs": [],
   "source": [
    "original_y_valid = transformers[0].untransform(valid.y)"
   ]
  },
  {
   "cell_type": "code",
   "execution_count": 57,
   "metadata": {
    "colab": {
     "base_uri": "https://localhost:8080/",
     "height": 34
    },
    "colab_type": "code",
    "executionInfo": {
     "elapsed": 2198,
     "status": "ok",
     "timestamp": 1587650852409,
     "user": {
      "displayName": "Alisa",
      "photoUrl": "https://lh3.googleusercontent.com/a-/AOh14GitcbifunW8HnLIy9OLB4tye6ZM6rKflRg5DjPJwA=s64",
      "userId": "01346965133972112207"
     },
     "user_tz": 240
    },
    "id": "L4UZR1TdWdUZ",
    "outputId": "369cab4f-3cda-4b9b-cd0a-e37ee322a2b7"
   },
   "outputs": [
    {
     "data": {
      "text/plain": [
       "(17428, 16)"
      ]
     },
     "execution_count": 57,
     "metadata": {
      "tags": []
     },
     "output_type": "execute_result"
    }
   ],
   "source": [
    "original_y.shape"
   ]
  },
  {
   "cell_type": "code",
   "execution_count": 55,
   "metadata": {
    "colab": {
     "base_uri": "https://localhost:8080/",
     "height": 34
    },
    "colab_type": "code",
    "executionInfo": {
     "elapsed": 728,
     "status": "ok",
     "timestamp": 1587650839554,
     "user": {
      "displayName": "Alisa",
      "photoUrl": "https://lh3.googleusercontent.com/a-/AOh14GitcbifunW8HnLIy9OLB4tye6ZM6rKflRg5DjPJwA=s64",
      "userId": "01346965133972112207"
     },
     "user_tz": 240
    },
    "id": "2gi4W0CzWzid",
    "outputId": "9a923357-e3b0-497c-d043-7be86cefc22a"
   },
   "outputs": [
    {
     "data": {
      "text/plain": [
       "(17428, 16)"
      ]
     },
     "execution_count": 55,
     "metadata": {
      "tags": []
     },
     "output_type": "execute_result"
    }
   ],
   "source": [
    "train.y.shape"
   ]
  },
  {
   "cell_type": "code",
   "execution_count": 0,
   "metadata": {
    "colab": {},
    "colab_type": "code",
    "id": "4rDWaus1F1W1"
   },
   "outputs": [],
   "source": [
    "import importlib"
   ]
  },
  {
   "cell_type": "code",
   "execution_count": 96,
   "metadata": {
    "colab": {
     "base_uri": "https://localhost:8080/",
     "height": 34
    },
    "colab_type": "code",
    "executionInfo": {
     "elapsed": 343,
     "status": "ok",
     "timestamp": 1587664027623,
     "user": {
      "displayName": "Alisa",
      "photoUrl": "https://lh3.googleusercontent.com/a-/AOh14GitcbifunW8HnLIy9OLB4tye6ZM6rKflRg5DjPJwA=s64",
      "userId": "01346965133972112207"
     },
     "user_tz": 240
    },
    "id": "Ul5vzpL9GJoB",
    "outputId": "dd98f30c-98cb-4735-d019-88e244f99262"
   },
   "outputs": [
    {
     "data": {
      "text/plain": [
       "<module 'deepchem' from '/usr/local/lib/python3.7/site-packages/deepchem/__init__.py'>"
      ]
     },
     "execution_count": 96,
     "metadata": {
      "tags": []
     },
     "output_type": "execute_result"
    }
   ],
   "source": [
    "importlib.reload(dc)"
   ]
  },
  {
   "cell_type": "code",
   "execution_count": 42,
   "metadata": {
    "colab": {
     "base_uri": "https://localhost:8080/",
     "height": 1000
    },
    "colab_type": "code",
    "executionInfo": {
     "elapsed": 3579061,
     "status": "error",
     "timestamp": 1587674421651,
     "user": {
      "displayName": "Alisa",
      "photoUrl": "https://lh3.googleusercontent.com/a-/AOh14GitcbifunW8HnLIy9OLB4tye6ZM6rKflRg5DjPJwA=s64",
      "userId": "01346965133972112207"
     },
     "user_tz": 240
    },
    "id": "AJlg09qFTNk-",
    "outputId": "0e5a8306-acaf-4faf-8e4c-3de820a9b1e1"
   },
   "outputs": [
    {
     "name": "stdout",
     "output_type": "stream",
     "text": [
      "Evaluation \t Proposed point \t  Current eval. \t Best eval.\n",
      "OrderedDict([('l00', 0.0018844382582277205), ('l01', 366), ('l02', 0.0016057775737480426), ('l03', 1602), ('l04', 2835), ('l05', 0.01606857388581601), ('l06', 0.05514044101693889), ('l07', 2.337430114843099), ('l08', 3.0097541468909377)])\n",
      "WARNING:tensorflow:Entity <bound method SwitchedDropout.call of <deepchem.models.layers.SwitchedDropout object at 0x7ffabd419c50>> could not be transformed and will be executed as-is. Please report this to the AutoGraph team. When filing the bug, set the verbosity to 10 (on Linux, `export AUTOGRAPH_VERBOSITY=10`) and attach the full output. Cause: module 'gast' has no attribute 'Num'\n",
      "WARNING: Entity <bound method SwitchedDropout.call of <deepchem.models.layers.SwitchedDropout object at 0x7ffabd419c50>> could not be transformed and will be executed as-is. Please report this to the AutoGraph team. When filing the bug, set the verbosity to 10 (on Linux, `export AUTOGRAPH_VERBOSITY=10`) and attach the full output. Cause: module 'gast' has no attribute 'Num'\n",
      "WARNING:tensorflow:Entity <bound method SwitchedDropout.call of <deepchem.models.layers.SwitchedDropout object at 0x7ffabd42ac18>> could not be transformed and will be executed as-is. Please report this to the AutoGraph team. When filing the bug, set the verbosity to 10 (on Linux, `export AUTOGRAPH_VERBOSITY=10`) and attach the full output. Cause: module 'gast' has no attribute 'Num'\n",
      "WARNING: Entity <bound method SwitchedDropout.call of <deepchem.models.layers.SwitchedDropout object at 0x7ffabd42ac18>> could not be transformed and will be executed as-is. Please report this to the AutoGraph team. When filing the bug, set the verbosity to 10 (on Linux, `export AUTOGRAPH_VERBOSITY=10`) and attach the full output. Cause: module 'gast' has no attribute 'Num'\n",
      "-----------------------------\n",
      "Start fitting: tf_regression\n",
      "WARNING:tensorflow:Entity <bound method SwitchedDropout.call of <deepchem.models.layers.SwitchedDropout object at 0x7ffabd419c50>> could not be transformed and will be executed as-is. Please report this to the AutoGraph team. When filing the bug, set the verbosity to 10 (on Linux, `export AUTOGRAPH_VERBOSITY=10`) and attach the full output. Cause: module 'gast' has no attribute 'Num'\n",
      "WARNING: Entity <bound method SwitchedDropout.call of <deepchem.models.layers.SwitchedDropout object at 0x7ffabd419c50>> could not be transformed and will be executed as-is. Please report this to the AutoGraph team. When filing the bug, set the verbosity to 10 (on Linux, `export AUTOGRAPH_VERBOSITY=10`) and attach the full output. Cause: module 'gast' has no attribute 'Num'\n",
      "WARNING:tensorflow:Entity <bound method SwitchedDropout.call of <deepchem.models.layers.SwitchedDropout object at 0x7ffabd42ac18>> could not be transformed and will be executed as-is. Please report this to the AutoGraph team. When filing the bug, set the verbosity to 10 (on Linux, `export AUTOGRAPH_VERBOSITY=10`) and attach the full output. Cause: module 'gast' has no attribute 'Num'\n",
      "WARNING: Entity <bound method SwitchedDropout.call of <deepchem.models.layers.SwitchedDropout object at 0x7ffabd42ac18>> could not be transformed and will be executed as-is. Please report this to the AutoGraph team. When filing the bug, set the verbosity to 10 (on Linux, `export AUTOGRAPH_VERBOSITY=10`) and attach the full output. Cause: module 'gast' has no attribute 'Num'\n",
      "computed_metrics: [0.031307721030559274, 0.023839943234987334, 0.029267729669591194, 0.06874158139273272, 0.03843314449341854, 0.03084044926988133, 0.05638154914409287, 0.048835701407562326, 0.040975730539198625, 0.030818504792319876, 0.029216197346627944, 0.04069777226886399, 0.03987464241336275, 0.02846475467427706, 0.04983899966779184, 0.08446891645607398]\n",
      "computed_metrics: [0.03151123524069, 0.02388546590691638, 0.028232854529935587, 0.06819533172552314, 0.03872047517940484, 0.030637068330369523, 0.05658859902264146, 0.048305338641343655, 0.04121398164510888, 0.030600386526453346, 0.028860948970305014, 0.040413557727981636, 0.03997945717223809, 0.028358392090824566, 0.049494303482621516, 0.08397010217284623]\n",
      "OrderedDict([('l00', 0.00024165951788935458), ('l01', 453), ('l02', 0.0008666723603394952), ('l03', 3248), ('l04', 3096), ('l05', 0.03726331056858045), ('l06', 0.025023427901729504), ('l07', 1.0271089476318247), ('l08', 3.870082988750763)])\n",
      "WARNING:tensorflow:Entity <bound method SwitchedDropout.call of <deepchem.models.layers.SwitchedDropout object at 0x7ffaba1d8e48>> could not be transformed and will be executed as-is. Please report this to the AutoGraph team. When filing the bug, set the verbosity to 10 (on Linux, `export AUTOGRAPH_VERBOSITY=10`) and attach the full output. Cause: module 'gast' has no attribute 'Num'\n",
      "WARNING: Entity <bound method SwitchedDropout.call of <deepchem.models.layers.SwitchedDropout object at 0x7ffaba1d8e48>> could not be transformed and will be executed as-is. Please report this to the AutoGraph team. When filing the bug, set the verbosity to 10 (on Linux, `export AUTOGRAPH_VERBOSITY=10`) and attach the full output. Cause: module 'gast' has no attribute 'Num'\n",
      "WARNING:tensorflow:Entity <bound method SwitchedDropout.call of <deepchem.models.layers.SwitchedDropout object at 0x7ffaba351d30>> could not be transformed and will be executed as-is. Please report this to the AutoGraph team. When filing the bug, set the verbosity to 10 (on Linux, `export AUTOGRAPH_VERBOSITY=10`) and attach the full output. Cause: module 'gast' has no attribute 'Num'\n",
      "WARNING: Entity <bound method SwitchedDropout.call of <deepchem.models.layers.SwitchedDropout object at 0x7ffaba351d30>> could not be transformed and will be executed as-is. Please report this to the AutoGraph team. When filing the bug, set the verbosity to 10 (on Linux, `export AUTOGRAPH_VERBOSITY=10`) and attach the full output. Cause: module 'gast' has no attribute 'Num'\n",
      "-----------------------------\n",
      "Start fitting: tf_regression\n",
      "WARNING:tensorflow:Entity <bound method SwitchedDropout.call of <deepchem.models.layers.SwitchedDropout object at 0x7ffaba1d8e48>> could not be transformed and will be executed as-is. Please report this to the AutoGraph team. When filing the bug, set the verbosity to 10 (on Linux, `export AUTOGRAPH_VERBOSITY=10`) and attach the full output. Cause: module 'gast' has no attribute 'Num'\n",
      "WARNING: Entity <bound method SwitchedDropout.call of <deepchem.models.layers.SwitchedDropout object at 0x7ffaba1d8e48>> could not be transformed and will be executed as-is. Please report this to the AutoGraph team. When filing the bug, set the verbosity to 10 (on Linux, `export AUTOGRAPH_VERBOSITY=10`) and attach the full output. Cause: module 'gast' has no attribute 'Num'\n",
      "WARNING:tensorflow:Entity <bound method SwitchedDropout.call of <deepchem.models.layers.SwitchedDropout object at 0x7ffaba351d30>> could not be transformed and will be executed as-is. Please report this to the AutoGraph team. When filing the bug, set the verbosity to 10 (on Linux, `export AUTOGRAPH_VERBOSITY=10`) and attach the full output. Cause: module 'gast' has no attribute 'Num'\n",
      "WARNING: Entity <bound method SwitchedDropout.call of <deepchem.models.layers.SwitchedDropout object at 0x7ffaba351d30>> could not be transformed and will be executed as-is. Please report this to the AutoGraph team. When filing the bug, set the verbosity to 10 (on Linux, `export AUTOGRAPH_VERBOSITY=10`) and attach the full output. Cause: module 'gast' has no attribute 'Num'\n",
      "computed_metrics: [0.019026968204177486, 0.016229393705723592, 0.02402804704557541, 0.048735442799199655, 0.021488541599457622, 0.017923518567237767, 0.021974416991299872, 0.03242447573902348, 0.019556665053968515, 0.017566873702583526, 0.02399526985062179, 0.037100914221239976, 0.01846852848185297, 0.015581448936092016, 0.026587918361763923, 0.03806308336717671]\n",
      "computed_metrics: [0.01918250674137494, 0.01665866169124319, 0.023697517772601373, 0.048415633944627445, 0.021582719594196366, 0.01836452360610207, 0.02189632718622957, 0.031975679021497415, 0.019559760987482213, 0.018012786282589795, 0.023949492484359212, 0.03663775407119663, 0.0185825855227455, 0.015788223232003695, 0.026634175416921105, 0.037810065728023604]\n",
      "OrderedDict([('l00', 0.0004612899468511855), ('l01', 352), ('l02', 0.001829564632852356), ('l03', 1127), ('l04', 640), ('l05', 0.016398162328999762), ('l06', 0.061918786526613256), ('l07', 0.39591839380678384), ('l08', 3.3757221595623803)])\n",
      "WARNING:tensorflow:Entity <bound method SwitchedDropout.call of <deepchem.models.layers.SwitchedDropout object at 0x7ffabf9b4cf8>> could not be transformed and will be executed as-is. Please report this to the AutoGraph team. When filing the bug, set the verbosity to 10 (on Linux, `export AUTOGRAPH_VERBOSITY=10`) and attach the full output. Cause: module 'gast' has no attribute 'Num'\n",
      "WARNING: Entity <bound method SwitchedDropout.call of <deepchem.models.layers.SwitchedDropout object at 0x7ffabf9b4cf8>> could not be transformed and will be executed as-is. Please report this to the AutoGraph team. When filing the bug, set the verbosity to 10 (on Linux, `export AUTOGRAPH_VERBOSITY=10`) and attach the full output. Cause: module 'gast' has no attribute 'Num'\n",
      "WARNING:tensorflow:Entity <bound method SwitchedDropout.call of <deepchem.models.layers.SwitchedDropout object at 0x7ffac9986d68>> could not be transformed and will be executed as-is. Please report this to the AutoGraph team. When filing the bug, set the verbosity to 10 (on Linux, `export AUTOGRAPH_VERBOSITY=10`) and attach the full output. Cause: module 'gast' has no attribute 'Num'\n",
      "WARNING: Entity <bound method SwitchedDropout.call of <deepchem.models.layers.SwitchedDropout object at 0x7ffac9986d68>> could not be transformed and will be executed as-is. Please report this to the AutoGraph team. When filing the bug, set the verbosity to 10 (on Linux, `export AUTOGRAPH_VERBOSITY=10`) and attach the full output. Cause: module 'gast' has no attribute 'Num'\n",
      "-----------------------------\n",
      "Start fitting: tf_regression\n",
      "WARNING:tensorflow:Entity <bound method SwitchedDropout.call of <deepchem.models.layers.SwitchedDropout object at 0x7ffabf9b4cf8>> could not be transformed and will be executed as-is. Please report this to the AutoGraph team. When filing the bug, set the verbosity to 10 (on Linux, `export AUTOGRAPH_VERBOSITY=10`) and attach the full output. Cause: module 'gast' has no attribute 'Num'\n",
      "WARNING: Entity <bound method SwitchedDropout.call of <deepchem.models.layers.SwitchedDropout object at 0x7ffabf9b4cf8>> could not be transformed and will be executed as-is. Please report this to the AutoGraph team. When filing the bug, set the verbosity to 10 (on Linux, `export AUTOGRAPH_VERBOSITY=10`) and attach the full output. Cause: module 'gast' has no attribute 'Num'\n",
      "WARNING:tensorflow:Entity <bound method SwitchedDropout.call of <deepchem.models.layers.SwitchedDropout object at 0x7ffac9986d68>> could not be transformed and will be executed as-is. Please report this to the AutoGraph team. When filing the bug, set the verbosity to 10 (on Linux, `export AUTOGRAPH_VERBOSITY=10`) and attach the full output. Cause: module 'gast' has no attribute 'Num'\n",
      "WARNING: Entity <bound method SwitchedDropout.call of <deepchem.models.layers.SwitchedDropout object at 0x7ffac9986d68>> could not be transformed and will be executed as-is. Please report this to the AutoGraph team. When filing the bug, set the verbosity to 10 (on Linux, `export AUTOGRAPH_VERBOSITY=10`) and attach the full output. Cause: module 'gast' has no attribute 'Num'\n",
      "computed_metrics: [0.015389228493572427, 0.013641476343888185, 0.020553697690751008, 0.03790727187778082, 0.01439529577983951, 0.014288720141449746, 0.017956922135892405, 0.030400063063293077, 0.015345758524201464, 0.014234947598919087, 0.018549423069365332, 0.03021330176259989, 0.014564948953765611, 0.012803593385167237, 0.02088446228845001, 0.033985733408708134]\n",
      "computed_metrics: [0.016022521375960646, 0.01446751563290441, 0.021054176695012708, 0.03929466418136104, 0.015183313585593225, 0.015281888539496278, 0.01843430060969626, 0.03118919895691345, 0.0160630253565888, 0.015233251703832757, 0.018901848336279056, 0.031013388220406203, 0.015290833758963437, 0.013448962556929822, 0.022017796420731397, 0.03541981970375127]\n",
      "init   \t [1.88443826e-03 3.66000000e+02 1.60577757e-03 1.60200000e+03\n",
      " 2.83500000e+03 1.60685739e-02 5.51404410e-02 2.33743011e+00\n",
      " 3.00975415e+00]. \t  -0.6689674983652039 \t -0.3383165056344208\n",
      "init   \t [2.41659518e-04 4.53000000e+02 8.66672360e-04 3.24800000e+03\n",
      " 3.09600000e+03 3.72633106e-02 2.50234279e-02 1.02710895e+00\n",
      " 3.87008299e+00]. \t  -0.3987484132831941 \t -0.3383165056344208\n",
      "init   \t [4.61289947e-04 3.52000000e+02 1.82956463e-03 1.12700000e+03\n",
      " 6.40000000e+02 1.63981623e-02 6.19187865e-02 3.95918394e-01\n",
      " 3.37572216e+00]. \t  -0.3383165056344208 \t -0.3383165056344208\n",
      "WARNING:tensorflow:Entity <bound method SwitchedDropout.call of <deepchem.models.layers.SwitchedDropout object at 0x7ffaba2e0cc0>> could not be transformed and will be executed as-is. Please report this to the AutoGraph team. When filing the bug, set the verbosity to 10 (on Linux, `export AUTOGRAPH_VERBOSITY=10`) and attach the full output. Cause: module 'gast' has no attribute 'Num'\n",
      "WARNING: Entity <bound method SwitchedDropout.call of <deepchem.models.layers.SwitchedDropout object at 0x7ffaba2e0cc0>> could not be transformed and will be executed as-is. Please report this to the AutoGraph team. When filing the bug, set the verbosity to 10 (on Linux, `export AUTOGRAPH_VERBOSITY=10`) and attach the full output. Cause: module 'gast' has no attribute 'Num'\n",
      "WARNING:tensorflow:Entity <bound method SwitchedDropout.call of <deepchem.models.layers.SwitchedDropout object at 0x7ffaba204d68>> could not be transformed and will be executed as-is. Please report this to the AutoGraph team. When filing the bug, set the verbosity to 10 (on Linux, `export AUTOGRAPH_VERBOSITY=10`) and attach the full output. Cause: module 'gast' has no attribute 'Num'\n",
      "WARNING: Entity <bound method SwitchedDropout.call of <deepchem.models.layers.SwitchedDropout object at 0x7ffaba204d68>> could not be transformed and will be executed as-is. Please report this to the AutoGraph team. When filing the bug, set the verbosity to 10 (on Linux, `export AUTOGRAPH_VERBOSITY=10`) and attach the full output. Cause: module 'gast' has no attribute 'Num'\n",
      "-----------------------------\n",
      "Start fitting: tf_regression\n",
      "WARNING:tensorflow:Entity <bound method SwitchedDropout.call of <deepchem.models.layers.SwitchedDropout object at 0x7ffaba2e0cc0>> could not be transformed and will be executed as-is. Please report this to the AutoGraph team. When filing the bug, set the verbosity to 10 (on Linux, `export AUTOGRAPH_VERBOSITY=10`) and attach the full output. Cause: module 'gast' has no attribute 'Num'\n",
      "WARNING: Entity <bound method SwitchedDropout.call of <deepchem.models.layers.SwitchedDropout object at 0x7ffaba2e0cc0>> could not be transformed and will be executed as-is. Please report this to the AutoGraph team. When filing the bug, set the verbosity to 10 (on Linux, `export AUTOGRAPH_VERBOSITY=10`) and attach the full output. Cause: module 'gast' has no attribute 'Num'\n",
      "WARNING:tensorflow:Entity <bound method SwitchedDropout.call of <deepchem.models.layers.SwitchedDropout object at 0x7ffaba204d68>> could not be transformed and will be executed as-is. Please report this to the AutoGraph team. When filing the bug, set the verbosity to 10 (on Linux, `export AUTOGRAPH_VERBOSITY=10`) and attach the full output. Cause: module 'gast' has no attribute 'Num'\n",
      "WARNING: Entity <bound method SwitchedDropout.call of <deepchem.models.layers.SwitchedDropout object at 0x7ffaba204d68>> could not be transformed and will be executed as-is. Please report this to the AutoGraph team. When filing the bug, set the verbosity to 10 (on Linux, `export AUTOGRAPH_VERBOSITY=10`) and attach the full output. Cause: module 'gast' has no attribute 'Num'\n",
      "computed_metrics: [0.016285934328131028, 0.017189774789368565, 0.021792463971789675, 0.046990407690391305, 0.0170426014074854, 0.019559043777206735, 0.020744526664175266, 0.033270523054280715, 0.017138505366953882, 0.016262249023013816, 0.020184975985707922, 0.036827147697355386, 0.016239444669493234, 0.015105530937232816, 0.024624844287999582, 0.038795465371305904]\n",
      "computed_metrics: [0.01632767851181363, 0.017463198279831157, 0.021310837281648114, 0.04683931914164816, 0.017250920336501222, 0.020220094056138754, 0.020610716996158088, 0.03306602624723173, 0.01737301400448879, 0.016963369537942138, 0.02009282801019998, 0.036562945950748243, 0.016509660895873454, 0.01555748267711063, 0.024761702231525084, 0.03866756886434441]\n",
      "1      \t [6.59228460e-04 1.00000000e+02 1.10757143e-03 3.06900000e+03\n",
      " 3.73000000e+03 3.01614877e-02 1.79299637e-02 6.39725804e-01\n",
      " 2.68543574e+00]. \t  -0.3795773630232036 \t -0.3383165056344208\n",
      "WARNING:tensorflow:Entity <bound method SwitchedDropout.call of <deepchem.models.layers.SwitchedDropout object at 0x7ffaba958ef0>> could not be transformed and will be executed as-is. Please report this to the AutoGraph team. When filing the bug, set the verbosity to 10 (on Linux, `export AUTOGRAPH_VERBOSITY=10`) and attach the full output. Cause: module 'gast' has no attribute 'Num'\n",
      "WARNING: Entity <bound method SwitchedDropout.call of <deepchem.models.layers.SwitchedDropout object at 0x7ffaba958ef0>> could not be transformed and will be executed as-is. Please report this to the AutoGraph team. When filing the bug, set the verbosity to 10 (on Linux, `export AUTOGRAPH_VERBOSITY=10`) and attach the full output. Cause: module 'gast' has no attribute 'Num'\n",
      "WARNING:tensorflow:Entity <bound method SwitchedDropout.call of <deepchem.models.layers.SwitchedDropout object at 0x7ffabaa2e9b0>> could not be transformed and will be executed as-is. Please report this to the AutoGraph team. When filing the bug, set the verbosity to 10 (on Linux, `export AUTOGRAPH_VERBOSITY=10`) and attach the full output. Cause: module 'gast' has no attribute 'Num'\n",
      "WARNING: Entity <bound method SwitchedDropout.call of <deepchem.models.layers.SwitchedDropout object at 0x7ffabaa2e9b0>> could not be transformed and will be executed as-is. Please report this to the AutoGraph team. When filing the bug, set the verbosity to 10 (on Linux, `export AUTOGRAPH_VERBOSITY=10`) and attach the full output. Cause: module 'gast' has no attribute 'Num'\n",
      "-----------------------------\n",
      "Start fitting: tf_regression\n",
      "WARNING:tensorflow:Entity <bound method SwitchedDropout.call of <deepchem.models.layers.SwitchedDropout object at 0x7ffaba958ef0>> could not be transformed and will be executed as-is. Please report this to the AutoGraph team. When filing the bug, set the verbosity to 10 (on Linux, `export AUTOGRAPH_VERBOSITY=10`) and attach the full output. Cause: module 'gast' has no attribute 'Num'\n",
      "WARNING: Entity <bound method SwitchedDropout.call of <deepchem.models.layers.SwitchedDropout object at 0x7ffaba958ef0>> could not be transformed and will be executed as-is. Please report this to the AutoGraph team. When filing the bug, set the verbosity to 10 (on Linux, `export AUTOGRAPH_VERBOSITY=10`) and attach the full output. Cause: module 'gast' has no attribute 'Num'\n",
      "WARNING:tensorflow:Entity <bound method SwitchedDropout.call of <deepchem.models.layers.SwitchedDropout object at 0x7ffabaa2e9b0>> could not be transformed and will be executed as-is. Please report this to the AutoGraph team. When filing the bug, set the verbosity to 10 (on Linux, `export AUTOGRAPH_VERBOSITY=10`) and attach the full output. Cause: module 'gast' has no attribute 'Num'\n",
      "WARNING: Entity <bound method SwitchedDropout.call of <deepchem.models.layers.SwitchedDropout object at 0x7ffabaa2e9b0>> could not be transformed and will be executed as-is. Please report this to the AutoGraph team. When filing the bug, set the verbosity to 10 (on Linux, `export AUTOGRAPH_VERBOSITY=10`) and attach the full output. Cause: module 'gast' has no attribute 'Num'\n",
      "computed_metrics: [0.025048417765543226, 0.02304161517337388, 0.037376990502630755, 0.05771325718713376, 0.0336595217095963, 0.027909956370756488, 0.03689892752324558, 0.04355321879016092, 0.033448120626832174, 0.027733890474721953, 0.037117423027208586, 0.052192044678562165, 0.03139604691337292, 0.024424457863610426, 0.043636379164001274, 0.05746558124899448]\n",
      "computed_metrics: [0.02522167996236288, 0.023343649395953323, 0.03677781237135666, 0.05786015688394962, 0.03394042770810803, 0.027834591933491155, 0.0367869482141475, 0.04311279661595095, 0.03372302319141559, 0.027600182982485795, 0.036963545358054996, 0.05179956879875636, 0.03159009151441347, 0.024408424845486006, 0.04325163128782828, 0.057352428186693935]\n",
      "2      \t [1.97349320e-03 1.66000000e+02 5.88213037e-04 3.30100000e+03\n",
      " 3.48200000e+03 1.74097963e-02 5.29255373e-02 2.77381368e+00\n",
      " 3.24982969e+00]. \t  -0.5915669592504545 \t -0.3383165056344208\n",
      "WARNING:tensorflow:Entity <bound method SwitchedDropout.call of <deepchem.models.layers.SwitchedDropout object at 0x7ffaba819f98>> could not be transformed and will be executed as-is. Please report this to the AutoGraph team. When filing the bug, set the verbosity to 10 (on Linux, `export AUTOGRAPH_VERBOSITY=10`) and attach the full output. Cause: module 'gast' has no attribute 'Num'\n",
      "WARNING: Entity <bound method SwitchedDropout.call of <deepchem.models.layers.SwitchedDropout object at 0x7ffaba819f98>> could not be transformed and will be executed as-is. Please report this to the AutoGraph team. When filing the bug, set the verbosity to 10 (on Linux, `export AUTOGRAPH_VERBOSITY=10`) and attach the full output. Cause: module 'gast' has no attribute 'Num'\n",
      "WARNING:tensorflow:Entity <bound method SwitchedDropout.call of <deepchem.models.layers.SwitchedDropout object at 0x7ffaba820358>> could not be transformed and will be executed as-is. Please report this to the AutoGraph team. When filing the bug, set the verbosity to 10 (on Linux, `export AUTOGRAPH_VERBOSITY=10`) and attach the full output. Cause: module 'gast' has no attribute 'Num'\n",
      "WARNING: Entity <bound method SwitchedDropout.call of <deepchem.models.layers.SwitchedDropout object at 0x7ffaba820358>> could not be transformed and will be executed as-is. Please report this to the AutoGraph team. When filing the bug, set the verbosity to 10 (on Linux, `export AUTOGRAPH_VERBOSITY=10`) and attach the full output. Cause: module 'gast' has no attribute 'Num'\n",
      "-----------------------------\n",
      "Start fitting: tf_regression\n",
      "WARNING:tensorflow:Entity <bound method SwitchedDropout.call of <deepchem.models.layers.SwitchedDropout object at 0x7ffaba819f98>> could not be transformed and will be executed as-is. Please report this to the AutoGraph team. When filing the bug, set the verbosity to 10 (on Linux, `export AUTOGRAPH_VERBOSITY=10`) and attach the full output. Cause: module 'gast' has no attribute 'Num'\n",
      "WARNING: Entity <bound method SwitchedDropout.call of <deepchem.models.layers.SwitchedDropout object at 0x7ffaba819f98>> could not be transformed and will be executed as-is. Please report this to the AutoGraph team. When filing the bug, set the verbosity to 10 (on Linux, `export AUTOGRAPH_VERBOSITY=10`) and attach the full output. Cause: module 'gast' has no attribute 'Num'\n",
      "WARNING:tensorflow:Entity <bound method SwitchedDropout.call of <deepchem.models.layers.SwitchedDropout object at 0x7ffaba820358>> could not be transformed and will be executed as-is. Please report this to the AutoGraph team. When filing the bug, set the verbosity to 10 (on Linux, `export AUTOGRAPH_VERBOSITY=10`) and attach the full output. Cause: module 'gast' has no attribute 'Num'\n",
      "WARNING: Entity <bound method SwitchedDropout.call of <deepchem.models.layers.SwitchedDropout object at 0x7ffaba820358>> could not be transformed and will be executed as-is. Please report this to the AutoGraph team. When filing the bug, set the verbosity to 10 (on Linux, `export AUTOGRAPH_VERBOSITY=10`) and attach the full output. Cause: module 'gast' has no attribute 'Num'\n",
      "computed_metrics: [0.023354236706890612, 0.019210375824118532, 0.03597176642982288, 0.056622542639243253, 0.025243347766526664, 0.02173143935009045, 0.03499437175460309, 0.043094750571014806, 0.025116430435960804, 0.021565075782646322, 0.03546353609138395, 0.04312831306860127, 0.02332984025942721, 0.019702352559427445, 0.03901222712556098, 0.05074702260923338]\n",
      "computed_metrics: [0.023383745833856426, 0.019388253769470516, 0.03525832549853326, 0.05609310690329262, 0.025280907280607924, 0.02183072791845897, 0.03472092194827931, 0.042547097113024616, 0.025144050141309632, 0.021679744025149852, 0.035161882260698496, 0.04263690828205038, 0.023322656005374996, 0.019681685794827174, 0.03862495553466279, 0.050348879975793334]\n",
      "3      \t [1.87346789e-03 1.55000000e+02 2.49261511e-03 4.96000000e+02\n",
      " 1.92400000e+03 5.06243754e-02 3.72623545e-02 3.96342157e+00\n",
      " 3.87628099e+00]. \t  -0.5151038482853902 \t -0.3383165056344208\n",
      "WARNING:tensorflow:Entity <bound method SwitchedDropout.call of <deepchem.models.layers.SwitchedDropout object at 0x7ffaba71bd68>> could not be transformed and will be executed as-is. Please report this to the AutoGraph team. When filing the bug, set the verbosity to 10 (on Linux, `export AUTOGRAPH_VERBOSITY=10`) and attach the full output. Cause: module 'gast' has no attribute 'Num'\n",
      "WARNING: Entity <bound method SwitchedDropout.call of <deepchem.models.layers.SwitchedDropout object at 0x7ffaba71bd68>> could not be transformed and will be executed as-is. Please report this to the AutoGraph team. When filing the bug, set the verbosity to 10 (on Linux, `export AUTOGRAPH_VERBOSITY=10`) and attach the full output. Cause: module 'gast' has no attribute 'Num'\n",
      "WARNING:tensorflow:Entity <bound method SwitchedDropout.call of <deepchem.models.layers.SwitchedDropout object at 0x7ffaba7a8f28>> could not be transformed and will be executed as-is. Please report this to the AutoGraph team. When filing the bug, set the verbosity to 10 (on Linux, `export AUTOGRAPH_VERBOSITY=10`) and attach the full output. Cause: module 'gast' has no attribute 'Num'\n",
      "WARNING: Entity <bound method SwitchedDropout.call of <deepchem.models.layers.SwitchedDropout object at 0x7ffaba7a8f28>> could not be transformed and will be executed as-is. Please report this to the AutoGraph team. When filing the bug, set the verbosity to 10 (on Linux, `export AUTOGRAPH_VERBOSITY=10`) and attach the full output. Cause: module 'gast' has no attribute 'Num'\n",
      "-----------------------------\n",
      "Start fitting: tf_regression\n",
      "WARNING:tensorflow:Entity <bound method SwitchedDropout.call of <deepchem.models.layers.SwitchedDropout object at 0x7ffaba71bd68>> could not be transformed and will be executed as-is. Please report this to the AutoGraph team. When filing the bug, set the verbosity to 10 (on Linux, `export AUTOGRAPH_VERBOSITY=10`) and attach the full output. Cause: module 'gast' has no attribute 'Num'\n",
      "WARNING: Entity <bound method SwitchedDropout.call of <deepchem.models.layers.SwitchedDropout object at 0x7ffaba71bd68>> could not be transformed and will be executed as-is. Please report this to the AutoGraph team. When filing the bug, set the verbosity to 10 (on Linux, `export AUTOGRAPH_VERBOSITY=10`) and attach the full output. Cause: module 'gast' has no attribute 'Num'\n",
      "WARNING:tensorflow:Entity <bound method SwitchedDropout.call of <deepchem.models.layers.SwitchedDropout object at 0x7ffaba7a8f28>> could not be transformed and will be executed as-is. Please report this to the AutoGraph team. When filing the bug, set the verbosity to 10 (on Linux, `export AUTOGRAPH_VERBOSITY=10`) and attach the full output. Cause: module 'gast' has no attribute 'Num'\n",
      "WARNING: Entity <bound method SwitchedDropout.call of <deepchem.models.layers.SwitchedDropout object at 0x7ffaba7a8f28>> could not be transformed and will be executed as-is. Please report this to the AutoGraph team. When filing the bug, set the verbosity to 10 (on Linux, `export AUTOGRAPH_VERBOSITY=10`) and attach the full output. Cause: module 'gast' has no attribute 'Num'\n",
      "computed_metrics: [0.018733986385452296, 0.017150979542148993, 0.025128482964571906, 0.04983827783770005, 0.018930262215605, 0.017430177190341584, 0.025773480641327142, 0.04187400036991256, 0.019355126664359602, 0.01751448790728403, 0.023557377286113856, 0.04055015814393991, 0.018083095561582427, 0.01683675286111199, 0.0278392419931587, 0.0457968985235962]\n",
      "computed_metrics: [0.018660477323170745, 0.01766763193756345, 0.02429308386229056, 0.04922538261250471, 0.019014467693105337, 0.017783407602674682, 0.025492964705923802, 0.041169169558096005, 0.019436623646408354, 0.017898115781028165, 0.023221924609720904, 0.03989660396812975, 0.018075440778846687, 0.017013355725688756, 0.02758859608418391, 0.04527210916509861]\n",
      "4      \t [1.14893002e-03 3.93000000e+02 3.52685382e-04 6.79000000e+02\n",
      " 5.89000000e+02 3.76917694e-02 5.68856718e-02 1.49886028e+00\n",
      " 1.13562682e+00]. \t  -0.42170935505443446 \t -0.3383165056344208\n",
      "WARNING:tensorflow:Entity <bound method SwitchedDropout.call of <deepchem.models.layers.SwitchedDropout object at 0x7ffaba831c50>> could not be transformed and will be executed as-is. Please report this to the AutoGraph team. When filing the bug, set the verbosity to 10 (on Linux, `export AUTOGRAPH_VERBOSITY=10`) and attach the full output. Cause: module 'gast' has no attribute 'Num'\n",
      "WARNING: Entity <bound method SwitchedDropout.call of <deepchem.models.layers.SwitchedDropout object at 0x7ffaba831c50>> could not be transformed and will be executed as-is. Please report this to the AutoGraph team. When filing the bug, set the verbosity to 10 (on Linux, `export AUTOGRAPH_VERBOSITY=10`) and attach the full output. Cause: module 'gast' has no attribute 'Num'\n",
      "WARNING:tensorflow:Entity <bound method SwitchedDropout.call of <deepchem.models.layers.SwitchedDropout object at 0x7ffaba609ef0>> could not be transformed and will be executed as-is. Please report this to the AutoGraph team. When filing the bug, set the verbosity to 10 (on Linux, `export AUTOGRAPH_VERBOSITY=10`) and attach the full output. Cause: module 'gast' has no attribute 'Num'\n",
      "WARNING: Entity <bound method SwitchedDropout.call of <deepchem.models.layers.SwitchedDropout object at 0x7ffaba609ef0>> could not be transformed and will be executed as-is. Please report this to the AutoGraph team. When filing the bug, set the verbosity to 10 (on Linux, `export AUTOGRAPH_VERBOSITY=10`) and attach the full output. Cause: module 'gast' has no attribute 'Num'\n",
      "-----------------------------\n",
      "Start fitting: tf_regression\n",
      "WARNING:tensorflow:Entity <bound method SwitchedDropout.call of <deepchem.models.layers.SwitchedDropout object at 0x7ffaba831c50>> could not be transformed and will be executed as-is. Please report this to the AutoGraph team. When filing the bug, set the verbosity to 10 (on Linux, `export AUTOGRAPH_VERBOSITY=10`) and attach the full output. Cause: module 'gast' has no attribute 'Num'\n",
      "WARNING: Entity <bound method SwitchedDropout.call of <deepchem.models.layers.SwitchedDropout object at 0x7ffaba831c50>> could not be transformed and will be executed as-is. Please report this to the AutoGraph team. When filing the bug, set the verbosity to 10 (on Linux, `export AUTOGRAPH_VERBOSITY=10`) and attach the full output. Cause: module 'gast' has no attribute 'Num'\n",
      "WARNING:tensorflow:Entity <bound method SwitchedDropout.call of <deepchem.models.layers.SwitchedDropout object at 0x7ffaba609ef0>> could not be transformed and will be executed as-is. Please report this to the AutoGraph team. When filing the bug, set the verbosity to 10 (on Linux, `export AUTOGRAPH_VERBOSITY=10`) and attach the full output. Cause: module 'gast' has no attribute 'Num'\n",
      "WARNING: Entity <bound method SwitchedDropout.call of <deepchem.models.layers.SwitchedDropout object at 0x7ffaba609ef0>> could not be transformed and will be executed as-is. Please report this to the AutoGraph team. When filing the bug, set the verbosity to 10 (on Linux, `export AUTOGRAPH_VERBOSITY=10`) and attach the full output. Cause: module 'gast' has no attribute 'Num'\n",
      "computed_metrics: [0.03457308025280971, 0.025588112251196626, 0.04033055926599478, 0.05588934006774281, 0.037978741234225136, 0.031115729521898113, 0.03714385638203243, 0.04856459233324974, 0.037888615302026404, 0.03111030286990984, 0.0325047128341029, 0.04888790000310323, 0.03521475682077732, 0.027214207034809732, 0.04954087546126068, 0.04709755067435597]\n",
      "computed_metrics: [0.034900590034729916, 0.025409260334801093, 0.039610445429110776, 0.05570777559758002, 0.03832658860864881, 0.031169342180163956, 0.03684372204085115, 0.04795394891233479, 0.03825966957623247, 0.03119260318952498, 0.03211040271074459, 0.04827257387965766, 0.03553319338499254, 0.027192585839683824, 0.049113691489694015, 0.047005554172484615]\n",
      "5      \t [7.65345143e-04 3.06000000e+02 3.03694429e-03 1.14900000e+03\n",
      " 1.70300000e+03 2.34066939e-02 1.91256696e-02 3.79252603e+00\n",
      " 2.40518878e+00]. \t  -0.6186019473812352 \t -0.3383165056344208\n",
      "WARNING:tensorflow:Entity <bound method SwitchedDropout.call of <deepchem.models.layers.SwitchedDropout object at 0x7ffaba4e6ac8>> could not be transformed and will be executed as-is. Please report this to the AutoGraph team. When filing the bug, set the verbosity to 10 (on Linux, `export AUTOGRAPH_VERBOSITY=10`) and attach the full output. Cause: module 'gast' has no attribute 'Num'\n",
      "WARNING: Entity <bound method SwitchedDropout.call of <deepchem.models.layers.SwitchedDropout object at 0x7ffaba4e6ac8>> could not be transformed and will be executed as-is. Please report this to the AutoGraph team. When filing the bug, set the verbosity to 10 (on Linux, `export AUTOGRAPH_VERBOSITY=10`) and attach the full output. Cause: module 'gast' has no attribute 'Num'\n",
      "WARNING:tensorflow:Entity <bound method SwitchedDropout.call of <deepchem.models.layers.SwitchedDropout object at 0x7ffaba7b1e80>> could not be transformed and will be executed as-is. Please report this to the AutoGraph team. When filing the bug, set the verbosity to 10 (on Linux, `export AUTOGRAPH_VERBOSITY=10`) and attach the full output. Cause: module 'gast' has no attribute 'Num'\n",
      "WARNING: Entity <bound method SwitchedDropout.call of <deepchem.models.layers.SwitchedDropout object at 0x7ffaba7b1e80>> could not be transformed and will be executed as-is. Please report this to the AutoGraph team. When filing the bug, set the verbosity to 10 (on Linux, `export AUTOGRAPH_VERBOSITY=10`) and attach the full output. Cause: module 'gast' has no attribute 'Num'\n",
      "-----------------------------\n",
      "Start fitting: tf_regression\n",
      "WARNING:tensorflow:Entity <bound method SwitchedDropout.call of <deepchem.models.layers.SwitchedDropout object at 0x7ffaba4e6ac8>> could not be transformed and will be executed as-is. Please report this to the AutoGraph team. When filing the bug, set the verbosity to 10 (on Linux, `export AUTOGRAPH_VERBOSITY=10`) and attach the full output. Cause: module 'gast' has no attribute 'Num'\n",
      "WARNING: Entity <bound method SwitchedDropout.call of <deepchem.models.layers.SwitchedDropout object at 0x7ffaba4e6ac8>> could not be transformed and will be executed as-is. Please report this to the AutoGraph team. When filing the bug, set the verbosity to 10 (on Linux, `export AUTOGRAPH_VERBOSITY=10`) and attach the full output. Cause: module 'gast' has no attribute 'Num'\n",
      "WARNING:tensorflow:Entity <bound method SwitchedDropout.call of <deepchem.models.layers.SwitchedDropout object at 0x7ffaba7b1e80>> could not be transformed and will be executed as-is. Please report this to the AutoGraph team. When filing the bug, set the verbosity to 10 (on Linux, `export AUTOGRAPH_VERBOSITY=10`) and attach the full output. Cause: module 'gast' has no attribute 'Num'\n",
      "WARNING: Entity <bound method SwitchedDropout.call of <deepchem.models.layers.SwitchedDropout object at 0x7ffaba7b1e80>> could not be transformed and will be executed as-is. Please report this to the AutoGraph team. When filing the bug, set the verbosity to 10 (on Linux, `export AUTOGRAPH_VERBOSITY=10`) and attach the full output. Cause: module 'gast' has no attribute 'Num'\n",
      "computed_metrics: [0.024529488748288447, 0.02125815050510256, 0.038087179147793096, 0.06334592296389015, 0.022979479793069243, 0.020573550144517505, 0.03311728912947397, 0.04760234150150179, 0.0242727731582362, 0.023108027014157675, 0.032142529178609665, 0.04784685164355982, 0.02164216412300169, 0.019562339445115137, 0.03395356887780533, 0.05321145778309368]\n",
      "computed_metrics: [0.025029880444026955, 0.02179937003685652, 0.03787235897835454, 0.06258076187011789, 0.02325543059547497, 0.020687640399509283, 0.03306313832348084, 0.04680726745229874, 0.02455971021304455, 0.023111435400819055, 0.03207430566491104, 0.04722135807588277, 0.021848781562559153, 0.01970857964311032, 0.03377905613989259, 0.05254003019195317]\n",
      "6      \t [1.17908182e-03 1.00000000e+02 2.63876352e-04 3.37400000e+03\n",
      " 3.40500000e+03 3.64746292e-02 3.89131147e-02 1.52189616e+00\n",
      " 3.63798472e+00]. \t  -0.5259391049922924 \t -0.3383165056344208\n",
      "WARNING:tensorflow:Entity <bound method SwitchedDropout.call of <deepchem.models.layers.SwitchedDropout object at 0x7ffaba08e978>> could not be transformed and will be executed as-is. Please report this to the AutoGraph team. When filing the bug, set the verbosity to 10 (on Linux, `export AUTOGRAPH_VERBOSITY=10`) and attach the full output. Cause: module 'gast' has no attribute 'Num'\n",
      "WARNING: Entity <bound method SwitchedDropout.call of <deepchem.models.layers.SwitchedDropout object at 0x7ffaba08e978>> could not be transformed and will be executed as-is. Please report this to the AutoGraph team. When filing the bug, set the verbosity to 10 (on Linux, `export AUTOGRAPH_VERBOSITY=10`) and attach the full output. Cause: module 'gast' has no attribute 'Num'\n",
      "WARNING:tensorflow:Entity <bound method SwitchedDropout.call of <deepchem.models.layers.SwitchedDropout object at 0x7ffaba049978>> could not be transformed and will be executed as-is. Please report this to the AutoGraph team. When filing the bug, set the verbosity to 10 (on Linux, `export AUTOGRAPH_VERBOSITY=10`) and attach the full output. Cause: module 'gast' has no attribute 'Num'\n",
      "WARNING: Entity <bound method SwitchedDropout.call of <deepchem.models.layers.SwitchedDropout object at 0x7ffaba049978>> could not be transformed and will be executed as-is. Please report this to the AutoGraph team. When filing the bug, set the verbosity to 10 (on Linux, `export AUTOGRAPH_VERBOSITY=10`) and attach the full output. Cause: module 'gast' has no attribute 'Num'\n",
      "-----------------------------\n",
      "Start fitting: tf_regression\n",
      "WARNING:tensorflow:Entity <bound method SwitchedDropout.call of <deepchem.models.layers.SwitchedDropout object at 0x7ffaba08e978>> could not be transformed and will be executed as-is. Please report this to the AutoGraph team. When filing the bug, set the verbosity to 10 (on Linux, `export AUTOGRAPH_VERBOSITY=10`) and attach the full output. Cause: module 'gast' has no attribute 'Num'\n",
      "WARNING: Entity <bound method SwitchedDropout.call of <deepchem.models.layers.SwitchedDropout object at 0x7ffaba08e978>> could not be transformed and will be executed as-is. Please report this to the AutoGraph team. When filing the bug, set the verbosity to 10 (on Linux, `export AUTOGRAPH_VERBOSITY=10`) and attach the full output. Cause: module 'gast' has no attribute 'Num'\n",
      "WARNING:tensorflow:Entity <bound method SwitchedDropout.call of <deepchem.models.layers.SwitchedDropout object at 0x7ffaba049978>> could not be transformed and will be executed as-is. Please report this to the AutoGraph team. When filing the bug, set the verbosity to 10 (on Linux, `export AUTOGRAPH_VERBOSITY=10`) and attach the full output. Cause: module 'gast' has no attribute 'Num'\n",
      "WARNING: Entity <bound method SwitchedDropout.call of <deepchem.models.layers.SwitchedDropout object at 0x7ffaba049978>> could not be transformed and will be executed as-is. Please report this to the AutoGraph team. When filing the bug, set the verbosity to 10 (on Linux, `export AUTOGRAPH_VERBOSITY=10`) and attach the full output. Cause: module 'gast' has no attribute 'Num'\n",
      "computed_metrics: [0.016847388588937383, 0.016364495526117708, 0.02892747006900668, 0.05059306152835147, 0.01852739875734503, 0.016189546561000582, 0.032778123953880314, 0.042507249674086936, 0.017086830624073162, 0.01841137121135135, 0.027836244283408897, 0.03624809169365982, 0.017821099136211833, 0.015596359523546627, 0.03382559731710879, 0.044902809769195286]\n",
      "computed_metrics: [0.01696343138433984, 0.016683215143238544, 0.02870369515701273, 0.04993925519036638, 0.01856847296293525, 0.016500000469065277, 0.03254537995300265, 0.042014440008558446, 0.017159760037035253, 0.018369677405552773, 0.02764858563457509, 0.03581407579268006, 0.017949340225593764, 0.015653147335432393, 0.033865626177777684, 0.04439249814012149]\n",
      "7      \t [1.96852862e-03 1.69000000e+02 2.46815987e-03 1.89700000e+03\n",
      " 1.53300000e+03 5.52675911e-02 4.28935906e-02 5.36313897e-01\n",
      " 3.66431738e+00]. \t  -0.43277060101728765 \t -0.3383165056344208\n",
      "WARNING:tensorflow:Entity <bound method SwitchedDropout.call of <deepchem.models.layers.SwitchedDropout object at 0x7ffab9f13c18>> could not be transformed and will be executed as-is. Please report this to the AutoGraph team. When filing the bug, set the verbosity to 10 (on Linux, `export AUTOGRAPH_VERBOSITY=10`) and attach the full output. Cause: module 'gast' has no attribute 'Num'\n",
      "WARNING: Entity <bound method SwitchedDropout.call of <deepchem.models.layers.SwitchedDropout object at 0x7ffab9f13c18>> could not be transformed and will be executed as-is. Please report this to the AutoGraph team. When filing the bug, set the verbosity to 10 (on Linux, `export AUTOGRAPH_VERBOSITY=10`) and attach the full output. Cause: module 'gast' has no attribute 'Num'\n",
      "WARNING:tensorflow:Entity <bound method SwitchedDropout.call of <deepchem.models.layers.SwitchedDropout object at 0x7ffaba5508d0>> could not be transformed and will be executed as-is. Please report this to the AutoGraph team. When filing the bug, set the verbosity to 10 (on Linux, `export AUTOGRAPH_VERBOSITY=10`) and attach the full output. Cause: module 'gast' has no attribute 'Num'\n",
      "WARNING: Entity <bound method SwitchedDropout.call of <deepchem.models.layers.SwitchedDropout object at 0x7ffaba5508d0>> could not be transformed and will be executed as-is. Please report this to the AutoGraph team. When filing the bug, set the verbosity to 10 (on Linux, `export AUTOGRAPH_VERBOSITY=10`) and attach the full output. Cause: module 'gast' has no attribute 'Num'\n",
      "-----------------------------\n",
      "Start fitting: tf_regression\n",
      "WARNING:tensorflow:Entity <bound method SwitchedDropout.call of <deepchem.models.layers.SwitchedDropout object at 0x7ffab9f13c18>> could not be transformed and will be executed as-is. Please report this to the AutoGraph team. When filing the bug, set the verbosity to 10 (on Linux, `export AUTOGRAPH_VERBOSITY=10`) and attach the full output. Cause: module 'gast' has no attribute 'Num'\n",
      "WARNING: Entity <bound method SwitchedDropout.call of <deepchem.models.layers.SwitchedDropout object at 0x7ffab9f13c18>> could not be transformed and will be executed as-is. Please report this to the AutoGraph team. When filing the bug, set the verbosity to 10 (on Linux, `export AUTOGRAPH_VERBOSITY=10`) and attach the full output. Cause: module 'gast' has no attribute 'Num'\n",
      "WARNING:tensorflow:Entity <bound method SwitchedDropout.call of <deepchem.models.layers.SwitchedDropout object at 0x7ffaba5508d0>> could not be transformed and will be executed as-is. Please report this to the AutoGraph team. When filing the bug, set the verbosity to 10 (on Linux, `export AUTOGRAPH_VERBOSITY=10`) and attach the full output. Cause: module 'gast' has no attribute 'Num'\n",
      "WARNING: Entity <bound method SwitchedDropout.call of <deepchem.models.layers.SwitchedDropout object at 0x7ffaba5508d0>> could not be transformed and will be executed as-is. Please report this to the AutoGraph team. When filing the bug, set the verbosity to 10 (on Linux, `export AUTOGRAPH_VERBOSITY=10`) and attach the full output. Cause: module 'gast' has no attribute 'Num'\n",
      "computed_metrics: [0.02619120457747194, 0.017962659252594083, 0.022405181766357782, 0.04837552176471758, 0.02593215642486697, 0.020935389240395067, 0.023005957786006573, 0.03498378598975674, 0.026487374140584562, 0.02089111473521425, 0.021547224802091963, 0.03857913283515772, 0.025792400879733314, 0.01893662973632311, 0.025477234051665687, 0.03620244471725973]\n",
      "computed_metrics: [0.02574490062732988, 0.01811069291620062, 0.021646369245150374, 0.04800101672154995, 0.025843080720685505, 0.02120193915938939, 0.02257245822305886, 0.03450499173197363, 0.0263481211771803, 0.021194607262965195, 0.021041579310049862, 0.038084532259753, 0.025669629178455448, 0.01888769154670059, 0.02522276980548111, 0.03575782448298517]\n",
      "8      \t [1.43920998e-03 5.07000000e+02 3.18544835e-03 3.06200000e+03\n",
      " 2.88600000e+03 7.55190909e-02 7.12798318e-02 1.07254763e+00\n",
      " 6.04594693e-01]. \t  -0.4298322043689089 \t -0.3383165056344208\n",
      "WARNING:tensorflow:Entity <bound method SwitchedDropout.call of <deepchem.models.layers.SwitchedDropout object at 0x7ffaba58a2b0>> could not be transformed and will be executed as-is. Please report this to the AutoGraph team. When filing the bug, set the verbosity to 10 (on Linux, `export AUTOGRAPH_VERBOSITY=10`) and attach the full output. Cause: module 'gast' has no attribute 'Num'\n",
      "WARNING: Entity <bound method SwitchedDropout.call of <deepchem.models.layers.SwitchedDropout object at 0x7ffaba58a2b0>> could not be transformed and will be executed as-is. Please report this to the AutoGraph team. When filing the bug, set the verbosity to 10 (on Linux, `export AUTOGRAPH_VERBOSITY=10`) and attach the full output. Cause: module 'gast' has no attribute 'Num'\n",
      "WARNING:tensorflow:Entity <bound method SwitchedDropout.call of <deepchem.models.layers.SwitchedDropout object at 0x7ffab9fa5f28>> could not be transformed and will be executed as-is. Please report this to the AutoGraph team. When filing the bug, set the verbosity to 10 (on Linux, `export AUTOGRAPH_VERBOSITY=10`) and attach the full output. Cause: module 'gast' has no attribute 'Num'\n",
      "WARNING: Entity <bound method SwitchedDropout.call of <deepchem.models.layers.SwitchedDropout object at 0x7ffab9fa5f28>> could not be transformed and will be executed as-is. Please report this to the AutoGraph team. When filing the bug, set the verbosity to 10 (on Linux, `export AUTOGRAPH_VERBOSITY=10`) and attach the full output. Cause: module 'gast' has no attribute 'Num'\n",
      "-----------------------------\n",
      "Start fitting: tf_regression\n",
      "WARNING:tensorflow:Entity <bound method SwitchedDropout.call of <deepchem.models.layers.SwitchedDropout object at 0x7ffaba58a2b0>> could not be transformed and will be executed as-is. Please report this to the AutoGraph team. When filing the bug, set the verbosity to 10 (on Linux, `export AUTOGRAPH_VERBOSITY=10`) and attach the full output. Cause: module 'gast' has no attribute 'Num'\n",
      "WARNING: Entity <bound method SwitchedDropout.call of <deepchem.models.layers.SwitchedDropout object at 0x7ffaba58a2b0>> could not be transformed and will be executed as-is. Please report this to the AutoGraph team. When filing the bug, set the verbosity to 10 (on Linux, `export AUTOGRAPH_VERBOSITY=10`) and attach the full output. Cause: module 'gast' has no attribute 'Num'\n",
      "WARNING:tensorflow:Entity <bound method SwitchedDropout.call of <deepchem.models.layers.SwitchedDropout object at 0x7ffab9fa5f28>> could not be transformed and will be executed as-is. Please report this to the AutoGraph team. When filing the bug, set the verbosity to 10 (on Linux, `export AUTOGRAPH_VERBOSITY=10`) and attach the full output. Cause: module 'gast' has no attribute 'Num'\n",
      "WARNING: Entity <bound method SwitchedDropout.call of <deepchem.models.layers.SwitchedDropout object at 0x7ffab9fa5f28>> could not be transformed and will be executed as-is. Please report this to the AutoGraph team. When filing the bug, set the verbosity to 10 (on Linux, `export AUTOGRAPH_VERBOSITY=10`) and attach the full output. Cause: module 'gast' has no attribute 'Num'\n",
      "computed_metrics: [0.01636330730078886, 0.0168400466742813, 0.022946940693088554, 0.04290128347063318, 0.01696237288637279, 0.01705181994422745, 0.02146699223232333, 0.03398045081153651, 0.017783072860723552, 0.019199233915586946, 0.0236658970797812, 0.03386226600286323, 0.015720805782872427, 0.018113785402069545, 0.025041783494009116, 0.036982087740905195]\n",
      "computed_metrics: [0.016613331828651986, 0.01724362155423559, 0.022236395897771537, 0.04253101717567034, 0.017388021201658995, 0.017816764056965764, 0.021083544452907988, 0.03347085492394989, 0.018098252554635284, 0.019955756997315683, 0.023267877071570697, 0.03336069036991032, 0.016108568565823093, 0.018338838894952803, 0.024960233930978282, 0.03660490092322147]\n",
      "9      \t [4.05770303e-04 1.33000000e+02 1.93543552e-03 3.46700000e+03\n",
      " 3.19000000e+03 2.60017847e-02 7.71049638e-03 7.19846415e-01\n",
      " 2.74021389e+00]. \t  -0.3790786704002197 \t -0.3383165056344208\n",
      "WARNING:tensorflow:Entity <bound method SwitchedDropout.call of <deepchem.models.layers.SwitchedDropout object at 0x7ffab9cbfa20>> could not be transformed and will be executed as-is. Please report this to the AutoGraph team. When filing the bug, set the verbosity to 10 (on Linux, `export AUTOGRAPH_VERBOSITY=10`) and attach the full output. Cause: module 'gast' has no attribute 'Num'\n",
      "WARNING: Entity <bound method SwitchedDropout.call of <deepchem.models.layers.SwitchedDropout object at 0x7ffab9cbfa20>> could not be transformed and will be executed as-is. Please report this to the AutoGraph team. When filing the bug, set the verbosity to 10 (on Linux, `export AUTOGRAPH_VERBOSITY=10`) and attach the full output. Cause: module 'gast' has no attribute 'Num'\n",
      "WARNING:tensorflow:Entity <bound method SwitchedDropout.call of <deepchem.models.layers.SwitchedDropout object at 0x7ffab9d0afd0>> could not be transformed and will be executed as-is. Please report this to the AutoGraph team. When filing the bug, set the verbosity to 10 (on Linux, `export AUTOGRAPH_VERBOSITY=10`) and attach the full output. Cause: module 'gast' has no attribute 'Num'\n",
      "WARNING: Entity <bound method SwitchedDropout.call of <deepchem.models.layers.SwitchedDropout object at 0x7ffab9d0afd0>> could not be transformed and will be executed as-is. Please report this to the AutoGraph team. When filing the bug, set the verbosity to 10 (on Linux, `export AUTOGRAPH_VERBOSITY=10`) and attach the full output. Cause: module 'gast' has no attribute 'Num'\n",
      "-----------------------------\n",
      "Start fitting: tf_regression\n",
      "WARNING:tensorflow:Entity <bound method SwitchedDropout.call of <deepchem.models.layers.SwitchedDropout object at 0x7ffab9cbfa20>> could not be transformed and will be executed as-is. Please report this to the AutoGraph team. When filing the bug, set the verbosity to 10 (on Linux, `export AUTOGRAPH_VERBOSITY=10`) and attach the full output. Cause: module 'gast' has no attribute 'Num'\n",
      "WARNING: Entity <bound method SwitchedDropout.call of <deepchem.models.layers.SwitchedDropout object at 0x7ffab9cbfa20>> could not be transformed and will be executed as-is. Please report this to the AutoGraph team. When filing the bug, set the verbosity to 10 (on Linux, `export AUTOGRAPH_VERBOSITY=10`) and attach the full output. Cause: module 'gast' has no attribute 'Num'\n",
      "WARNING:tensorflow:Entity <bound method SwitchedDropout.call of <deepchem.models.layers.SwitchedDropout object at 0x7ffab9d0afd0>> could not be transformed and will be executed as-is. Please report this to the AutoGraph team. When filing the bug, set the verbosity to 10 (on Linux, `export AUTOGRAPH_VERBOSITY=10`) and attach the full output. Cause: module 'gast' has no attribute 'Num'\n",
      "WARNING: Entity <bound method SwitchedDropout.call of <deepchem.models.layers.SwitchedDropout object at 0x7ffab9d0afd0>> could not be transformed and will be executed as-is. Please report this to the AutoGraph team. When filing the bug, set the verbosity to 10 (on Linux, `export AUTOGRAPH_VERBOSITY=10`) and attach the full output. Cause: module 'gast' has no attribute 'Num'\n",
      "computed_metrics: [0.019892709244421533, 0.017847484782160913, 0.03154632995389897, 0.048755234274570736, 0.02248781696776082, 0.01960623848964387, 0.029170568399799816, 0.03816952620095641, 0.021547873946910705, 0.019620161234494518, 0.024629204302155032, 0.041805405158519174, 0.02067084089033472, 0.017772037277559216, 0.03814982618376824, 0.04507564547129101]\n",
      "computed_metrics: [0.019610708578594913, 0.018037538407829845, 0.030964411132655117, 0.04841029281807866, 0.022418824438020842, 0.019776420743639663, 0.028860533026467305, 0.037847317685789104, 0.021316970106140455, 0.019781348496011847, 0.024191800996640814, 0.04136900237374755, 0.02037903142539044, 0.017841606606302896, 0.03776788827813549, 0.04461576178423749]\n",
      "10     \t [1.40901021e-03 2.88000000e+02 5.91309845e-04 3.14200000e+03\n",
      " 1.79600000e+03 3.91582213e-02 2.97353120e-02 2.31439264e+00\n",
      " 2.21225759e+00]. \t  -0.4531894568976825 \t -0.3383165056344208\n",
      "WARNING:tensorflow:Entity <bound method SwitchedDropout.call of <deepchem.models.layers.SwitchedDropout object at 0x7ffab9c08cc0>> could not be transformed and will be executed as-is. Please report this to the AutoGraph team. When filing the bug, set the verbosity to 10 (on Linux, `export AUTOGRAPH_VERBOSITY=10`) and attach the full output. Cause: module 'gast' has no attribute 'Num'\n",
      "WARNING: Entity <bound method SwitchedDropout.call of <deepchem.models.layers.SwitchedDropout object at 0x7ffab9c08cc0>> could not be transformed and will be executed as-is. Please report this to the AutoGraph team. When filing the bug, set the verbosity to 10 (on Linux, `export AUTOGRAPH_VERBOSITY=10`) and attach the full output. Cause: module 'gast' has no attribute 'Num'\n",
      "WARNING:tensorflow:Entity <bound method SwitchedDropout.call of <deepchem.models.layers.SwitchedDropout object at 0x7ffab9d7d080>> could not be transformed and will be executed as-is. Please report this to the AutoGraph team. When filing the bug, set the verbosity to 10 (on Linux, `export AUTOGRAPH_VERBOSITY=10`) and attach the full output. Cause: module 'gast' has no attribute 'Num'\n",
      "WARNING: Entity <bound method SwitchedDropout.call of <deepchem.models.layers.SwitchedDropout object at 0x7ffab9d7d080>> could not be transformed and will be executed as-is. Please report this to the AutoGraph team. When filing the bug, set the verbosity to 10 (on Linux, `export AUTOGRAPH_VERBOSITY=10`) and attach the full output. Cause: module 'gast' has no attribute 'Num'\n",
      "-----------------------------\n",
      "Start fitting: tf_regression\n",
      "WARNING:tensorflow:Entity <bound method SwitchedDropout.call of <deepchem.models.layers.SwitchedDropout object at 0x7ffab9c08cc0>> could not be transformed and will be executed as-is. Please report this to the AutoGraph team. When filing the bug, set the verbosity to 10 (on Linux, `export AUTOGRAPH_VERBOSITY=10`) and attach the full output. Cause: module 'gast' has no attribute 'Num'\n",
      "WARNING: Entity <bound method SwitchedDropout.call of <deepchem.models.layers.SwitchedDropout object at 0x7ffab9c08cc0>> could not be transformed and will be executed as-is. Please report this to the AutoGraph team. When filing the bug, set the verbosity to 10 (on Linux, `export AUTOGRAPH_VERBOSITY=10`) and attach the full output. Cause: module 'gast' has no attribute 'Num'\n",
      "WARNING:tensorflow:Entity <bound method SwitchedDropout.call of <deepchem.models.layers.SwitchedDropout object at 0x7ffab9d7d080>> could not be transformed and will be executed as-is. Please report this to the AutoGraph team. When filing the bug, set the verbosity to 10 (on Linux, `export AUTOGRAPH_VERBOSITY=10`) and attach the full output. Cause: module 'gast' has no attribute 'Num'\n",
      "WARNING: Entity <bound method SwitchedDropout.call of <deepchem.models.layers.SwitchedDropout object at 0x7ffab9d7d080>> could not be transformed and will be executed as-is. Please report this to the AutoGraph team. When filing the bug, set the verbosity to 10 (on Linux, `export AUTOGRAPH_VERBOSITY=10`) and attach the full output. Cause: module 'gast' has no attribute 'Num'\n"
     ]
    },
    {
     "ename": "IndexError",
     "evalue": "ignored",
     "output_type": "error",
     "traceback": [
      "\u001b[0;31m---------------------------------------------------------------------------\u001b[0m",
      "\u001b[0;31mAssertionError\u001b[0m                            Traceback (most recent call last)",
      "\u001b[0;32m/usr/local/lib/python3.7/site-packages/deepchem/hyper/gaussian_process.py\u001b[0m in \u001b[0;36mf\u001b[0;34m(l00, l01, l02, l03, l04, l05, l06, l07, l08, l09, l10, l11, l12, l13, l14, l15, l16, l17, l18, l19)\u001b[0m\n\u001b[1;32m    212\u001b[0m               \u001b[0mself\u001b[0m\u001b[0;34m.\u001b[0m\u001b[0mmodel_class\u001b[0m\u001b[0;34m,\u001b[0m\u001b[0;34m\u001b[0m\u001b[0;34m\u001b[0m\u001b[0m\n\u001b[0;32m--> 213\u001b[0;31m               hyper_parameters=hyper_parameters)\n\u001b[0m\u001b[1;32m    214\u001b[0m         \u001b[0;32mexcept\u001b[0m \u001b[0mAssertionError\u001b[0m\u001b[0;34m:\u001b[0m\u001b[0;34m\u001b[0m\u001b[0;34m\u001b[0m\u001b[0m\n",
      "\u001b[0;32m/usr/local/lib/python3.7/site-packages/deepchem/molnet/run_benchmark_models.py\u001b[0m in \u001b[0;36mbenchmark_classification\u001b[0;34m(train_dataset, valid_dataset, test_dataset, tasks, transformers, n_features, metric, model, test, hyper_parameters, seed)\u001b[0m\n\u001b[1;32m     78\u001b[0m       \u001b[0;34m'rf'\u001b[0m\u001b[0;34m,\u001b[0m \u001b[0;34m'tf'\u001b[0m\u001b[0;34m,\u001b[0m \u001b[0;34m'tf_robust'\u001b[0m\u001b[0;34m,\u001b[0m \u001b[0;34m'logreg'\u001b[0m\u001b[0;34m,\u001b[0m \u001b[0;34m'irv'\u001b[0m\u001b[0;34m,\u001b[0m \u001b[0;34m'graphconv'\u001b[0m\u001b[0;34m,\u001b[0m \u001b[0;34m'dag'\u001b[0m\u001b[0;34m,\u001b[0m \u001b[0;34m'xgb'\u001b[0m\u001b[0;34m,\u001b[0m\u001b[0;34m\u001b[0m\u001b[0;34m\u001b[0m\u001b[0m\n\u001b[0;32m---> 79\u001b[0;31m       \u001b[0;34m'weave'\u001b[0m\u001b[0;34m,\u001b[0m \u001b[0;34m'kernelsvm'\u001b[0m\u001b[0;34m,\u001b[0m \u001b[0;34m'textcnn'\u001b[0m\u001b[0;34m,\u001b[0m \u001b[0;34m'mpnn'\u001b[0m\u001b[0;34m\u001b[0m\u001b[0;34m\u001b[0m\u001b[0m\n\u001b[0m\u001b[1;32m     80\u001b[0m   ]\n",
      "\u001b[0;31mAssertionError\u001b[0m: ",
      "\nDuring handling of the above exception, another exception occurred:\n",
      "\u001b[0;31mIndexError\u001b[0m                                Traceback (most recent call last)",
      "\u001b[0;32m<ipython-input-42-83c07fbeb5ae>\u001b[0m in \u001b[0;36m<module>\u001b[0;34m()\u001b[0m\n\u001b[1;32m     18\u001b[0m     \u001b[0mn_tasks\u001b[0m \u001b[0;34m=\u001b[0m \u001b[0;36m16\u001b[0m\u001b[0;34m,\u001b[0m\u001b[0;34m\u001b[0m\u001b[0;34m\u001b[0m\u001b[0m\n\u001b[1;32m     19\u001b[0m     \u001b[0mdirection\u001b[0m \u001b[0;34m=\u001b[0m \u001b[0;32mFalse\u001b[0m\u001b[0;34m,\u001b[0m\u001b[0;34m\u001b[0m\u001b[0;34m\u001b[0m\u001b[0m\n\u001b[0;32m---> 20\u001b[0;31m     \u001b[0mmax_iter\u001b[0m \u001b[0;34m=\u001b[0m \u001b[0;36m50\u001b[0m\u001b[0;34m\u001b[0m\u001b[0;34m\u001b[0m\u001b[0m\n\u001b[0m\u001b[1;32m     21\u001b[0m )\n",
      "\u001b[0;32m/usr/local/lib/python3.7/site-packages/deepchem/hyper/gaussian_process.py\u001b[0m in \u001b[0;36mhyperparam_search\u001b[0;34m(self, params_dict, train_dataset, valid_dataset, output_transformers, metric, direction, n_features, n_tasks, max_iter, search_range, hp_invalid_list, log_file)\u001b[0m\n\u001b[1;32m    256\u001b[0m     \u001b[0mgpgo\u001b[0m \u001b[0;34m=\u001b[0m \u001b[0mGPGO\u001b[0m\u001b[0;34m(\u001b[0m\u001b[0mgp\u001b[0m\u001b[0;34m,\u001b[0m \u001b[0macq\u001b[0m\u001b[0;34m,\u001b[0m \u001b[0mf\u001b[0m\u001b[0;34m,\u001b[0m \u001b[0mparam\u001b[0m\u001b[0;34m)\u001b[0m\u001b[0;34m\u001b[0m\u001b[0;34m\u001b[0m\u001b[0m\n\u001b[1;32m    257\u001b[0m     \u001b[0mlogger\u001b[0m\u001b[0;34m.\u001b[0m\u001b[0minfo\u001b[0m\u001b[0;34m(\u001b[0m\u001b[0;34m\"Max number of iteration: %i\"\u001b[0m \u001b[0;34m%\u001b[0m \u001b[0mmax_iter\u001b[0m\u001b[0;34m)\u001b[0m\u001b[0;34m\u001b[0m\u001b[0;34m\u001b[0m\u001b[0m\n\u001b[0;32m--> 258\u001b[0;31m     \u001b[0mgpgo\u001b[0m\u001b[0;34m.\u001b[0m\u001b[0mrun\u001b[0m\u001b[0;34m(\u001b[0m\u001b[0mmax_iter\u001b[0m\u001b[0;34m=\u001b[0m\u001b[0mmax_iter\u001b[0m\u001b[0;34m)\u001b[0m\u001b[0;34m\u001b[0m\u001b[0;34m\u001b[0m\u001b[0m\n\u001b[0m\u001b[1;32m    259\u001b[0m \u001b[0;34m\u001b[0m\u001b[0m\n\u001b[1;32m    260\u001b[0m     \u001b[0mhp_opt\u001b[0m\u001b[0;34m,\u001b[0m \u001b[0mvalid_performance_opt\u001b[0m \u001b[0;34m=\u001b[0m \u001b[0mgpgo\u001b[0m\u001b[0;34m.\u001b[0m\u001b[0mgetResult\u001b[0m\u001b[0;34m(\u001b[0m\u001b[0;34m)\u001b[0m\u001b[0;34m\u001b[0m\u001b[0;34m\u001b[0m\u001b[0m\n",
      "\u001b[0;32m/usr/local/lib/python3.7/site-packages/pyGPGO/GPGO.py\u001b[0m in \u001b[0;36mrun\u001b[0;34m(self, max_iter, init_evals, resume)\u001b[0m\n\u001b[1;32m    191\u001b[0m         \u001b[0;32mfor\u001b[0m \u001b[0miteration\u001b[0m \u001b[0;32min\u001b[0m \u001b[0mrange\u001b[0m\u001b[0;34m(\u001b[0m\u001b[0mmax_iter\u001b[0m\u001b[0;34m)\u001b[0m\u001b[0;34m:\u001b[0m\u001b[0;34m\u001b[0m\u001b[0;34m\u001b[0m\u001b[0m\n\u001b[1;32m    192\u001b[0m             \u001b[0mself\u001b[0m\u001b[0;34m.\u001b[0m\u001b[0m_optimizeAcq\u001b[0m\u001b[0;34m(\u001b[0m\u001b[0;34m)\u001b[0m\u001b[0;34m\u001b[0m\u001b[0;34m\u001b[0m\u001b[0m\n\u001b[0;32m--> 193\u001b[0;31m             \u001b[0mself\u001b[0m\u001b[0;34m.\u001b[0m\u001b[0mupdateGP\u001b[0m\u001b[0;34m(\u001b[0m\u001b[0;34m)\u001b[0m\u001b[0;34m\u001b[0m\u001b[0;34m\u001b[0m\u001b[0m\n\u001b[0m\u001b[1;32m    194\u001b[0m             \u001b[0mself\u001b[0m\u001b[0;34m.\u001b[0m\u001b[0mlogger\u001b[0m\u001b[0;34m.\u001b[0m\u001b[0m_printCurrent\u001b[0m\u001b[0;34m(\u001b[0m\u001b[0mself\u001b[0m\u001b[0;34m)\u001b[0m\u001b[0;34m\u001b[0m\u001b[0;34m\u001b[0m\u001b[0m\n",
      "\u001b[0;32m/usr/local/lib/python3.7/site-packages/pyGPGO/GPGO.py\u001b[0m in \u001b[0;36mupdateGP\u001b[0;34m(self)\u001b[0m\n\u001b[1;32m    148\u001b[0m         \"\"\"\n\u001b[1;32m    149\u001b[0m         \u001b[0mkw\u001b[0m \u001b[0;34m=\u001b[0m \u001b[0;34m{\u001b[0m\u001b[0mparam\u001b[0m\u001b[0;34m:\u001b[0m \u001b[0mself\u001b[0m\u001b[0;34m.\u001b[0m\u001b[0mbest\u001b[0m\u001b[0;34m[\u001b[0m\u001b[0mi\u001b[0m\u001b[0;34m]\u001b[0m \u001b[0;32mfor\u001b[0m \u001b[0mi\u001b[0m\u001b[0;34m,\u001b[0m \u001b[0mparam\u001b[0m \u001b[0;32min\u001b[0m \u001b[0menumerate\u001b[0m\u001b[0;34m(\u001b[0m\u001b[0mself\u001b[0m\u001b[0;34m.\u001b[0m\u001b[0mparameter_key\u001b[0m\u001b[0;34m)\u001b[0m\u001b[0;34m}\u001b[0m\u001b[0;34m\u001b[0m\u001b[0;34m\u001b[0m\u001b[0m\n\u001b[0;32m--> 150\u001b[0;31m         \u001b[0mf_new\u001b[0m \u001b[0;34m=\u001b[0m \u001b[0mself\u001b[0m\u001b[0;34m.\u001b[0m\u001b[0mf\u001b[0m\u001b[0;34m(\u001b[0m\u001b[0;34m**\u001b[0m\u001b[0mkw\u001b[0m\u001b[0;34m)\u001b[0m\u001b[0;34m\u001b[0m\u001b[0;34m\u001b[0m\u001b[0m\n\u001b[0m\u001b[1;32m    151\u001b[0m         \u001b[0mself\u001b[0m\u001b[0;34m.\u001b[0m\u001b[0mGP\u001b[0m\u001b[0;34m.\u001b[0m\u001b[0mupdate\u001b[0m\u001b[0;34m(\u001b[0m\u001b[0mnp\u001b[0m\u001b[0;34m.\u001b[0m\u001b[0matleast_2d\u001b[0m\u001b[0;34m(\u001b[0m\u001b[0mself\u001b[0m\u001b[0;34m.\u001b[0m\u001b[0mbest\u001b[0m\u001b[0;34m)\u001b[0m\u001b[0;34m,\u001b[0m \u001b[0mnp\u001b[0m\u001b[0;34m.\u001b[0m\u001b[0matleast_1d\u001b[0m\u001b[0;34m(\u001b[0m\u001b[0mf_new\u001b[0m\u001b[0;34m)\u001b[0m\u001b[0;34m)\u001b[0m\u001b[0;34m\u001b[0m\u001b[0;34m\u001b[0m\u001b[0m\n\u001b[1;32m    152\u001b[0m         \u001b[0mself\u001b[0m\u001b[0;34m.\u001b[0m\u001b[0mtau\u001b[0m \u001b[0;34m=\u001b[0m \u001b[0mnp\u001b[0m\u001b[0;34m.\u001b[0m\u001b[0mmax\u001b[0m\u001b[0;34m(\u001b[0m\u001b[0mself\u001b[0m\u001b[0;34m.\u001b[0m\u001b[0mGP\u001b[0m\u001b[0;34m.\u001b[0m\u001b[0my\u001b[0m\u001b[0;34m)\u001b[0m\u001b[0;34m\u001b[0m\u001b[0;34m\u001b[0m\u001b[0m\n",
      "\u001b[0;32m/usr/local/lib/python3.7/site-packages/deepchem/hyper/gaussian_process.py\u001b[0m in \u001b[0;36mf\u001b[0;34m(l00, l01, l02, l03, l04, l05, l06, l07, l08, l09, l10, l11, l12, l13, l14, l15, l16, l17, l18, l19)\u001b[0m\n\u001b[1;32m    221\u001b[0m               \u001b[0mmetric\u001b[0m\u001b[0;34m,\u001b[0m\u001b[0;34m\u001b[0m\u001b[0;34m\u001b[0m\u001b[0m\n\u001b[1;32m    222\u001b[0m               \u001b[0mself\u001b[0m\u001b[0;34m.\u001b[0m\u001b[0mmodel_class\u001b[0m\u001b[0;34m,\u001b[0m\u001b[0;34m\u001b[0m\u001b[0;34m\u001b[0m\u001b[0m\n\u001b[0;32m--> 223\u001b[0;31m               hyper_parameters=hyper_parameters)\n\u001b[0m\u001b[1;32m    224\u001b[0m         \u001b[0mscore\u001b[0m \u001b[0;34m=\u001b[0m \u001b[0mvalid_scores\u001b[0m\u001b[0;34m[\u001b[0m\u001b[0mself\u001b[0m\u001b[0;34m.\u001b[0m\u001b[0mmodel_class\u001b[0m\u001b[0;34m]\u001b[0m\u001b[0;34m[\u001b[0m\u001b[0mmetric\u001b[0m\u001b[0;34m[\u001b[0m\u001b[0;36m0\u001b[0m\u001b[0;34m]\u001b[0m\u001b[0;34m.\u001b[0m\u001b[0mname\u001b[0m\u001b[0;34m]\u001b[0m\u001b[0;34m\u001b[0m\u001b[0;34m\u001b[0m\u001b[0m\n\u001b[1;32m    225\u001b[0m         \u001b[0;32mif\u001b[0m \u001b[0;34m(\u001b[0m\u001b[0misinstance\u001b[0m\u001b[0;34m(\u001b[0m\u001b[0mscore\u001b[0m\u001b[0;34m,\u001b[0m \u001b[0mlist\u001b[0m\u001b[0;34m)\u001b[0m\u001b[0;34m)\u001b[0m\u001b[0;34m:\u001b[0m\u001b[0;34m\u001b[0m\u001b[0;34m\u001b[0m\u001b[0m\n",
      "\u001b[0;32m/usr/local/lib/python3.7/site-packages/deepchem/molnet/run_benchmark_models.py\u001b[0m in \u001b[0;36mbenchmark_regression\u001b[0;34m(train_dataset, valid_dataset, test_dataset, tasks, transformers, n_features, metric, model, test, hyper_parameters, seed)\u001b[0m\n\u001b[1;32m    765\u001b[0m     \u001b[0mmodel\u001b[0m\u001b[0;34m.\u001b[0m\u001b[0mfit\u001b[0m\u001b[0;34m(\u001b[0m\u001b[0mtrain_dataset\u001b[0m\u001b[0;34m,\u001b[0m \u001b[0mnb_epoch\u001b[0m\u001b[0;34m=\u001b[0m\u001b[0mnb_epoch\u001b[0m\u001b[0;34m)\u001b[0m\u001b[0;34m\u001b[0m\u001b[0;34m\u001b[0m\u001b[0m\n\u001b[1;32m    766\u001b[0m \u001b[0;34m\u001b[0m\u001b[0m\n\u001b[0;32m--> 767\u001b[0;31m   \u001b[0mtrain_scores\u001b[0m\u001b[0;34m[\u001b[0m\u001b[0mmodel_name\u001b[0m\u001b[0;34m]\u001b[0m \u001b[0;34m=\u001b[0m \u001b[0mmodel\u001b[0m\u001b[0;34m.\u001b[0m\u001b[0mevaluate\u001b[0m\u001b[0;34m(\u001b[0m\u001b[0mtrain_dataset\u001b[0m\u001b[0;34m,\u001b[0m \u001b[0mmetric\u001b[0m\u001b[0;34m,\u001b[0m \u001b[0mtransformers\u001b[0m\u001b[0;34m)\u001b[0m\u001b[0;34m\u001b[0m\u001b[0;34m\u001b[0m\u001b[0m\n\u001b[0m\u001b[1;32m    768\u001b[0m   \u001b[0mvalid_scores\u001b[0m\u001b[0;34m[\u001b[0m\u001b[0mmodel_name\u001b[0m\u001b[0;34m]\u001b[0m \u001b[0;34m=\u001b[0m \u001b[0mmodel\u001b[0m\u001b[0;34m.\u001b[0m\u001b[0mevaluate\u001b[0m\u001b[0;34m(\u001b[0m\u001b[0mvalid_dataset\u001b[0m\u001b[0;34m,\u001b[0m \u001b[0mmetric\u001b[0m\u001b[0;34m,\u001b[0m \u001b[0mtransformers\u001b[0m\u001b[0;34m)\u001b[0m\u001b[0;34m\u001b[0m\u001b[0;34m\u001b[0m\u001b[0m\n\u001b[1;32m    769\u001b[0m   \u001b[0;32mif\u001b[0m \u001b[0mtest\u001b[0m\u001b[0;34m:\u001b[0m\u001b[0;34m\u001b[0m\u001b[0;34m\u001b[0m\u001b[0m\n",
      "\u001b[0;32m/usr/local/lib/python3.7/site-packages/deepchem/models/models.py\u001b[0m in \u001b[0;36mevaluate\u001b[0;34m(self, dataset, metrics, transformers, per_task_metrics)\u001b[0m\n\u001b[1;32m    168\u001b[0m     \u001b[0mevaluator\u001b[0m \u001b[0;34m=\u001b[0m \u001b[0mEvaluator\u001b[0m\u001b[0;34m(\u001b[0m\u001b[0mself\u001b[0m\u001b[0;34m,\u001b[0m \u001b[0mdataset\u001b[0m\u001b[0;34m,\u001b[0m \u001b[0mtransformers\u001b[0m\u001b[0;34m)\u001b[0m\u001b[0;34m\u001b[0m\u001b[0;34m\u001b[0m\u001b[0m\n\u001b[1;32m    169\u001b[0m     \u001b[0;32mif\u001b[0m \u001b[0;32mnot\u001b[0m \u001b[0mper_task_metrics\u001b[0m\u001b[0;34m:\u001b[0m\u001b[0;34m\u001b[0m\u001b[0;34m\u001b[0m\u001b[0m\n\u001b[0;32m--> 170\u001b[0;31m       \u001b[0mscores\u001b[0m \u001b[0;34m=\u001b[0m \u001b[0mevaluator\u001b[0m\u001b[0;34m.\u001b[0m\u001b[0mcompute_model_performance\u001b[0m\u001b[0;34m(\u001b[0m\u001b[0mmetrics\u001b[0m\u001b[0;34m)\u001b[0m\u001b[0;34m\u001b[0m\u001b[0;34m\u001b[0m\u001b[0m\n\u001b[0m\u001b[1;32m    171\u001b[0m       \u001b[0;32mreturn\u001b[0m \u001b[0mscores\u001b[0m\u001b[0;34m\u001b[0m\u001b[0;34m\u001b[0m\u001b[0m\n\u001b[1;32m    172\u001b[0m     \u001b[0;32melse\u001b[0m\u001b[0;34m:\u001b[0m\u001b[0;34m\u001b[0m\u001b[0;34m\u001b[0m\u001b[0m\n",
      "\u001b[0;32m/usr/local/lib/python3.7/site-packages/deepchem/utils/evaluate.py\u001b[0m in \u001b[0;36mcompute_model_performance\u001b[0;34m(self, metrics, csv_out, stats_out, per_task_metrics)\u001b[0m\n\u001b[1;32m    118\u001b[0m       \u001b[0;32melse\u001b[0m\u001b[0;34m:\u001b[0m\u001b[0;34m\u001b[0m\u001b[0;34m\u001b[0m\u001b[0m\n\u001b[1;32m    119\u001b[0m         multitask_scores[metric.name] = metric.compute_metric(\n\u001b[0;32m--> 120\u001b[0;31m             y, y_pred, w, per_task_metrics=False)\n\u001b[0m\u001b[1;32m    121\u001b[0m \u001b[0;34m\u001b[0m\u001b[0m\n\u001b[1;32m    122\u001b[0m     \u001b[0;32mif\u001b[0m \u001b[0mstats_out\u001b[0m \u001b[0;32mis\u001b[0m \u001b[0;32mnot\u001b[0m \u001b[0;32mNone\u001b[0m\u001b[0;34m:\u001b[0m\u001b[0;34m\u001b[0m\u001b[0;34m\u001b[0m\u001b[0m\n",
      "\u001b[0;32m/usr/local/lib/python3.7/site-packages/deepchem/metrics/__init__.py\u001b[0m in \u001b[0;36mcompute_metric\u001b[0;34m(self, y_true, y_pred, w, n_classes, filter_nans, per_task_metrics)\u001b[0m\n\u001b[1;32m    310\u001b[0m         \u001b[0mw_task\u001b[0m \u001b[0;34m=\u001b[0m \u001b[0mw\u001b[0m\u001b[0;34m[\u001b[0m\u001b[0;34m:\u001b[0m\u001b[0;34m,\u001b[0m \u001b[0mtask\u001b[0m\u001b[0;34m]\u001b[0m\u001b[0;34m\u001b[0m\u001b[0;34m\u001b[0m\u001b[0m\n\u001b[1;32m    311\u001b[0m \u001b[0;34m\u001b[0m\u001b[0m\n\u001b[0;32m--> 312\u001b[0;31m       \u001b[0mmetric_value\u001b[0m \u001b[0;34m=\u001b[0m \u001b[0mself\u001b[0m\u001b[0;34m.\u001b[0m\u001b[0mcompute_singletask_metric\u001b[0m\u001b[0;34m(\u001b[0m\u001b[0my_task\u001b[0m\u001b[0;34m,\u001b[0m \u001b[0my_pred_task\u001b[0m\u001b[0;34m,\u001b[0m \u001b[0mw_task\u001b[0m\u001b[0;34m)\u001b[0m\u001b[0;34m\u001b[0m\u001b[0;34m\u001b[0m\u001b[0m\n\u001b[0m\u001b[1;32m    313\u001b[0m       \u001b[0mcomputed_metrics\u001b[0m\u001b[0;34m.\u001b[0m\u001b[0mappend\u001b[0m\u001b[0;34m(\u001b[0m\u001b[0mmetric_value\u001b[0m\u001b[0;34m)\u001b[0m\u001b[0;34m\u001b[0m\u001b[0;34m\u001b[0m\u001b[0m\n\u001b[1;32m    314\u001b[0m     \u001b[0mlog\u001b[0m\u001b[0;34m(\u001b[0m\u001b[0;34m\"computed_metrics: %s\"\u001b[0m \u001b[0;34m%\u001b[0m \u001b[0mstr\u001b[0m\u001b[0;34m(\u001b[0m\u001b[0mcomputed_metrics\u001b[0m\u001b[0;34m)\u001b[0m\u001b[0;34m,\u001b[0m \u001b[0mself\u001b[0m\u001b[0;34m.\u001b[0m\u001b[0mverbose\u001b[0m\u001b[0;34m)\u001b[0m\u001b[0;34m\u001b[0m\u001b[0;34m\u001b[0m\u001b[0m\n",
      "\u001b[0;32m/usr/local/lib/python3.7/site-packages/deepchem/metrics/__init__.py\u001b[0m in \u001b[0;36mcompute_singletask_metric\u001b[0;34m(self, y_true, y_pred, w)\u001b[0m\n\u001b[1;32m    347\u001b[0m \u001b[0;34m\u001b[0m\u001b[0m\n\u001b[1;32m    348\u001b[0m     \u001b[0my_true\u001b[0m \u001b[0;34m=\u001b[0m \u001b[0mnp\u001b[0m\u001b[0;34m.\u001b[0m\u001b[0marray\u001b[0m\u001b[0;34m(\u001b[0m\u001b[0mnp\u001b[0m\u001b[0;34m.\u001b[0m\u001b[0msqueeze\u001b[0m\u001b[0;34m(\u001b[0m\u001b[0my_true\u001b[0m\u001b[0;34m[\u001b[0m\u001b[0mw\u001b[0m \u001b[0;34m!=\u001b[0m \u001b[0;36m0\u001b[0m\u001b[0;34m]\u001b[0m\u001b[0;34m)\u001b[0m\u001b[0;34m)\u001b[0m\u001b[0;34m\u001b[0m\u001b[0;34m\u001b[0m\u001b[0m\n\u001b[0;32m--> 349\u001b[0;31m     \u001b[0my_pred\u001b[0m \u001b[0;34m=\u001b[0m \u001b[0mnp\u001b[0m\u001b[0;34m.\u001b[0m\u001b[0marray\u001b[0m\u001b[0;34m(\u001b[0m\u001b[0mnp\u001b[0m\u001b[0;34m.\u001b[0m\u001b[0msqueeze\u001b[0m\u001b[0;34m(\u001b[0m\u001b[0my_pred\u001b[0m\u001b[0;34m[\u001b[0m\u001b[0mw\u001b[0m \u001b[0;34m!=\u001b[0m \u001b[0;36m0\u001b[0m\u001b[0;34m]\u001b[0m\u001b[0;34m)\u001b[0m\u001b[0;34m)\u001b[0m\u001b[0;34m\u001b[0m\u001b[0;34m\u001b[0m\u001b[0m\n\u001b[0m\u001b[1;32m    350\u001b[0m \u001b[0;34m\u001b[0m\u001b[0m\n\u001b[1;32m    351\u001b[0m     \u001b[0;32mif\u001b[0m \u001b[0mlen\u001b[0m\u001b[0;34m(\u001b[0m\u001b[0my_true\u001b[0m\u001b[0;34m.\u001b[0m\u001b[0mshape\u001b[0m\u001b[0;34m)\u001b[0m \u001b[0;34m==\u001b[0m \u001b[0;36m0\u001b[0m\u001b[0;34m:\u001b[0m\u001b[0;34m\u001b[0m\u001b[0;34m\u001b[0m\u001b[0m\n",
      "\u001b[0;31mIndexError\u001b[0m: boolean index did not match indexed array along dimension 0; dimension is 17443 but corresponding boolean dimension is 17428"
     ]
    }
   ],
   "source": [
    "optimizer = dc.hyper.GaussianProcessHyperparamOpt('tf_regression')\n",
    "best_hyper_params, best_performance = optimizer.hyperparam_search(\n",
    "  #  dc.molnet.preset_hyper_parameters.hps['tf_regression'],\n",
    "    {'layer_sizes': [1000, 1000],\n",
    "    'weight_init_stddevs': [0.02, 0.02],\n",
    "     'bias_init_consts': [1., 1.],\n",
    "     'dropouts': [0.25, 0.25],\n",
    "     'penalty': 0.0005,\n",
    "     'penalty_type': 'l2',\n",
    "     'batch_size': 128,\n",
    "     'nb_epoch': 10,\n",
    "     'learning_rate': 0.0008        \n",
    "    },\n",
    "    train,\n",
    "    valid,\n",
    "    transformers,\n",
    "    [regression_metric],\n",
    "    n_tasks = 16,\n",
    "    direction = False,\n",
    "    max_iter = 50\n",
    ")\n"
   ]
  },
  {
   "cell_type": "code",
   "execution_count": 45,
   "metadata": {
    "colab": {
     "base_uri": "https://localhost:8080/",
     "height": 34
    },
    "colab_type": "code",
    "executionInfo": {
     "elapsed": 799,
     "status": "ok",
     "timestamp": 1587681971196,
     "user": {
      "displayName": "Alisa",
      "photoUrl": "https://lh3.googleusercontent.com/a-/AOh14GitcbifunW8HnLIy9OLB4tye6ZM6rKflRg5DjPJwA=s64",
      "userId": "01346965133972112207"
     },
     "user_tz": 240
    },
    "id": "3GsZ7g1sMs3x",
    "outputId": "effebf60-5d33-49d0-9fa4-50732da43707"
   },
   "outputs": [
    {
     "data": {
      "text/plain": [
       "17428"
      ]
     },
     "execution_count": 45,
     "metadata": {
      "tags": []
     },
     "output_type": "execute_result"
    }
   ],
   "source": [
    "len(train.w)"
   ]
  },
  {
   "cell_type": "code",
   "execution_count": 44,
   "metadata": {
    "colab": {
     "base_uri": "https://localhost:8080/",
     "height": 165
    },
    "colab_type": "code",
    "executionInfo": {
     "elapsed": 506,
     "status": "error",
     "timestamp": 1587681718407,
     "user": {
      "displayName": "Alisa",
      "photoUrl": "https://lh3.googleusercontent.com/a-/AOh14GitcbifunW8HnLIy9OLB4tye6ZM6rKflRg5DjPJwA=s64",
      "userId": "01346965133972112207"
     },
     "user_tz": 240
    },
    "id": "3wInIh5ANCzX",
    "outputId": "9a22cba3-74b6-4ec8-a316-4cba40c159bb"
   },
   "outputs": [
    {
     "ename": "NameError",
     "evalue": "ignored",
     "output_type": "error",
     "traceback": [
      "\u001b[0;31m---------------------------------------------------------------------------\u001b[0m",
      "\u001b[0;31mNameError\u001b[0m                                 Traceback (most recent call last)",
      "\u001b[0;32m<ipython-input-44-94376cff010a>\u001b[0m in \u001b[0;36m<module>\u001b[0;34m()\u001b[0m\n\u001b[0;32m----> 1\u001b[0;31m \u001b[0mmodel\u001b[0m\u001b[0;34m.\u001b[0m\u001b[0mpredict\u001b[0m\u001b[0;34m(\u001b[0m\u001b[0mtrain\u001b[0m\u001b[0;34m)\u001b[0m\u001b[0;34m\u001b[0m\u001b[0;34m\u001b[0m\u001b[0m\n\u001b[0m",
      "\u001b[0;31mNameError\u001b[0m: name 'model' is not defined"
     ]
    }
   ],
   "source": [
    "model.predict(train)"
   ]
  },
  {
   "cell_type": "code",
   "execution_count": 39,
   "metadata": {
    "colab": {
     "base_uri": "https://localhost:8080/",
     "height": 34
    },
    "colab_type": "code",
    "executionInfo": {
     "elapsed": 1275,
     "status": "ok",
     "timestamp": 1587670663027,
     "user": {
      "displayName": "Alisa",
      "photoUrl": "https://lh3.googleusercontent.com/a-/AOh14GitcbifunW8HnLIy9OLB4tye6ZM6rKflRg5DjPJwA=s64",
      "userId": "01346965133972112207"
     },
     "user_tz": 240
    },
    "id": "BJE2Nf51NL_p",
    "outputId": "cb5d5f25-5944-419a-d0c2-fca48e2102db"
   },
   "outputs": [
    {
     "name": "stdout",
     "output_type": "stream",
     "text": [
      "-0.30665671788702764\n"
     ]
    }
   ],
   "source": [
    "print(best_performance)"
   ]
  },
  {
   "cell_type": "code",
   "execution_count": 40,
   "metadata": {
    "colab": {
     "base_uri": "https://localhost:8080/",
     "height": 54
    },
    "colab_type": "code",
    "executionInfo": {
     "elapsed": 1947,
     "status": "ok",
     "timestamp": 1587670667787,
     "user": {
      "displayName": "Alisa",
      "photoUrl": "https://lh3.googleusercontent.com/a-/AOh14GitcbifunW8HnLIy9OLB4tye6ZM6rKflRg5DjPJwA=s64",
      "userId": "01346965133972112207"
     },
     "user_tz": 240
    },
    "id": "jC9Zk-ZcNKQa",
    "outputId": "a8e3ee87-bb91-4fd5-b08c-a32fd4e1b0aa"
   },
   "outputs": [
    {
     "name": "stdout",
     "output_type": "stream",
     "text": [
      "{'layer_sizes': [47, 233], 'weight_init_stddevs': [0.06368014710000533, 0.015507302128649411], 'bias_init_consts': [0.9656680951557126, 0.4079071491583006], 'dropouts': [0.25, 0.25], 'penalty': 0.0007165308524767371, 'penalty_type': 'l2', 'batch_size': 135, 'nb_epoch': 5, 'learning_rate': 0.002021174990212994}\n"
     ]
    }
   ],
   "source": [
    "print(best_hyper_params)"
   ]
  },
  {
   "cell_type": "code",
   "execution_count": 25,
   "metadata": {
    "colab": {
     "base_uri": "https://localhost:8080/",
     "height": 72
    },
    "colab_type": "code",
    "executionInfo": {
     "elapsed": 5195,
     "status": "ok",
     "timestamp": 1587665196666,
     "user": {
      "displayName": "Alisa",
      "photoUrl": "https://lh3.googleusercontent.com/a-/AOh14GitcbifunW8HnLIy9OLB4tye6ZM6rKflRg5DjPJwA=s64",
      "userId": "01346965133972112207"
     },
     "user_tz": 240
    },
    "id": "DsMIpSDCTldG",
    "outputId": "6d4cef54-27a8-454b-e0b8-4b11fe706659"
   },
   "outputs": [
    {
     "name": "stdout",
     "output_type": "stream",
     "text": [
      "WARNING:tensorflow:Entity <bound method SwitchedDropout.call of <deepchem.models.layers.SwitchedDropout object at 0x1a41353490>> could not be transformed and will be executed as-is. Please report this to the AutgoGraph team. When filing the bug, set the verbosity to 10 (on Linux, `export AUTOGRAPH_VERBOSITY=10`) and attach the full output. Cause: converting <bound method SwitchedDropout.call of <deepchem.models.layers.SwitchedDropout object at 0x1a41353490>>: AttributeError: module 'gast' has no attribute 'Num'\n",
      "WARNING: Entity <bound method SwitchedDropout.call of <deepchem.models.layers.SwitchedDropout object at 0x1a41353490>> could not be transformed and will be executed as-is. Please report this to the AutgoGraph team. When filing the bug, set the verbosity to 10 (on Linux, `export AUTOGRAPH_VERBOSITY=10`) and attach the full output. Cause: converting <bound method SwitchedDropout.call of <deepchem.models.layers.SwitchedDropout object at 0x1a41353490>>: AttributeError: module 'gast' has no attribute 'Num'\n"
     ]
    }
   ],
   "source": [
    "#construct a multitask model\n",
    "%rm -r qm8/fit1\n",
    "%mkdir qm8/fit1\n",
    "model_mc_ecfp = dc.models.MultitaskRegressor(\n",
    "    n_tasks = len(tasks),\n",
    "    n_features = train.X.shape[1],\n",
    "    layers = [1770, 402],\n",
    "    weight_init_stddevs=[0.034862713393011044, 0.06919945210728275],\n",
    "    bias_init_consts = [1.1775323757179454, 1.7718493844825818],\n",
    "    dropouts = [0.25, 0.25],\n",
    "    penalty = 0.0015523311536663354,\n",
    "    penalty_type = 'l2',\n",
    "    batch_size = 157,\n",
    "    nb_epoch = 10,\n",
    "    learning_rate = 0.0030848283520802013,\n",
    "    model_dir = 'qm8/fit1'\n",
    ")"
   ]
  },
  {
   "cell_type": "code",
   "execution_count": 0,
   "metadata": {
    "colab": {},
    "colab_type": "code",
    "id": "H0eP5WrRYu2I"
   },
   "outputs": [],
   "source": [
    "#callback function for checking validation loss on_epoch_end\n",
    "\n",
    "\n",
    "\n",
    " # def on_batch_end(self, batch, logs=None):\n",
    "def on_batch_end(self, current_step):\n",
    "    regression_metric = [dc.metrics.Metric(dc.metrics.mean_absolute_error, mode=\"regression\")]\n",
    "\n",
    "    current_batch = np.ceil(current_step / self.batch_size)\n",
    "    if (current_step % self.batch_size == 0):\n",
    "       print(\"Evaluating model, batch #=\",current_batch)\n",
    "       train_scores = model_mc_ecfp.evaluate(train, regression_metric, transformers)\n",
    "       train_scores['mean_absolute_error']\n",
    "       train_scores_values = np.array(train_scores['mean_absolute_error'])\n",
    "       print('Mean training MAE over all tasks: {:7.4f}'.format(np.sum(train_scores_values)))\n",
    "       valid_scores = model_mc_ecfp.evaluate(valid, regression_metric, transformers)\n",
    "       valid_scores_values = np.array(valid_scores['mean_absolute_error'])\n",
    "       print('Mean validation MAE over all tasks: {:7.4f}'.format(np.sum(valid_scores_values)))\n",
    "\n",
    "\n",
    "#checkpoint_name = 'Weights-{epoch:03d}--{valid_scores:.5f}.hdf5' \n",
    "#checkpoint = ModelCheckpoint(checkpoint_name, monitor='valid_scores', verbose = 1, save_best_only = True, mode ='auto')\n",
    "#callbacks_list = [checkpoint, LossAndErrorPrintingCallback]\n",
    "callbacks_list = [on_batch_end]\n"
   ]
  },
  {
   "cell_type": "code",
   "execution_count": 34,
   "metadata": {},
   "outputs": [
    {
     "data": {
      "text/plain": [
       "17428"
      ]
     },
     "execution_count": 34,
     "metadata": {},
     "output_type": "execute_result"
    }
   ],
   "source": [
    "len(train.w)"
   ]
  },
  {
   "cell_type": "code",
   "execution_count": 27,
   "metadata": {
    "colab": {
     "base_uri": "https://localhost:8080/",
     "height": 489
    },
    "colab_type": "code",
    "executionInfo": {
     "elapsed": 31923,
     "status": "ok",
     "timestamp": 1587665516358,
     "user": {
      "displayName": "Alisa",
      "photoUrl": "https://lh3.googleusercontent.com/a-/AOh14GitcbifunW8HnLIy9OLB4tye6ZM6rKflRg5DjPJwA=s64",
      "userId": "01346965133972112207"
     },
     "user_tz": 240
    },
    "id": "7i537qX2buZZ",
    "outputId": "7c33cf3f-54bd-4160-d5db-7d73b7b311a5"
   },
   "outputs": [
    {
     "name": "stdout",
     "output_type": "stream",
     "text": [
      "WARNING:tensorflow:Entity <bound method SwitchedDropout.call of <deepchem.models.layers.SwitchedDropout object at 0x1a41353490>> could not be transformed and will be executed as-is. Please report this to the AutgoGraph team. When filing the bug, set the verbosity to 10 (on Linux, `export AUTOGRAPH_VERBOSITY=10`) and attach the full output. Cause: converting <bound method SwitchedDropout.call of <deepchem.models.layers.SwitchedDropout object at 0x1a41353490>>: AttributeError: module 'gast' has no attribute 'Num'\n",
      "WARNING: Entity <bound method SwitchedDropout.call of <deepchem.models.layers.SwitchedDropout object at 0x1a41353490>> could not be transformed and will be executed as-is. Please report this to the AutgoGraph team. When filing the bug, set the verbosity to 10 (on Linux, `export AUTOGRAPH_VERBOSITY=10`) and attach the full output. Cause: converting <bound method SwitchedDropout.call of <deepchem.models.layers.SwitchedDropout object at 0x1a41353490>>: AttributeError: module 'gast' has no attribute 'Num'\n"
     ]
    },
    {
     "data": {
      "text/plain": [
       "0.229865534522105"
      ]
     },
     "execution_count": 27,
     "metadata": {},
     "output_type": "execute_result"
    }
   ],
   "source": [
    "model_mc_ecfp.fit(train)"
   ]
  },
  {
   "cell_type": "code",
   "execution_count": 0,
   "metadata": {
    "colab": {},
    "colab_type": "code",
    "id": "9g9E_-DJcd7d"
   },
   "outputs": [],
   "source": [
    "#find and load best checking point, starting from 9 and going back\n",
    "def find_best_checkpoint(model,model_dir,dataset,transformers):\n",
    "  best_valid = float(\"inf\") \n",
    "  metric = dc.metrics.Metric(dc.metrics.mean_absolute_error, mode=\"regression\")\n",
    "  for checkpoint_name in model.get_checkpoints(model_dir=model_dir):\n",
    "    model.restore(checkpoint = checkpoint_name, model_dir = model_dir, session= None)\n",
    "    valid_scores = model.evaluate(dataset, [metric], transformers)\n",
    "    valid_scores_mean = np.sum(np.array(valid_scores['mean_absolute_error']))\n",
    "    if valid_scores_mean < best_valid:\n",
    "      best_checkpoint = checkpoint_name\n",
    "    best_valid = min(best_valid,valid_scores_mean)\n",
    "  print('found best checkpoint:',best_checkpoint,'with MAE sum=',np.sum(best_valid)) \n",
    "  model.restore(checkpoint = best_checkpoint, model_dir = model_dir, session= None)\n",
    "  return \n",
    "\n",
    "\n",
    "\n",
    "\n",
    "  \n",
    "  \n"
   ]
  },
  {
   "cell_type": "code",
   "execution_count": 42,
   "metadata": {},
   "outputs": [],
   "source": [
    "y_pred = model_mc_ecfp.predict(train, transformers)"
   ]
  },
  {
   "cell_type": "code",
   "execution_count": 43,
   "metadata": {},
   "outputs": [
    {
     "data": {
      "text/plain": [
       "17443"
      ]
     },
     "execution_count": 43,
     "metadata": {},
     "output_type": "execute_result"
    }
   ],
   "source": [
    "len(y_pred)"
   ]
  },
  {
   "cell_type": "code",
   "execution_count": 47,
   "metadata": {},
   "outputs": [
    {
     "data": {
      "text/plain": [
       "deepchem.trans.transformers.NormalizationTransformer"
      ]
     },
     "execution_count": 47,
     "metadata": {},
     "output_type": "execute_result"
    }
   ],
   "source": [
    "transformers[0].__class__\n"
   ]
  },
  {
   "cell_type": "code",
   "execution_count": 39,
   "metadata": {},
   "outputs": [
    {
     "data": {
      "text/plain": [
       "17428"
      ]
     },
     "execution_count": 39,
     "metadata": {},
     "output_type": "execute_result"
    }
   ],
   "source": [
    "len(train.w)"
   ]
  },
  {
   "cell_type": "code",
   "execution_count": 40,
   "metadata": {},
   "outputs": [],
   "source": [
    "y_undo = dc.deepchem.trans.undo_transforms(train.y, transformers)"
   ]
  },
  {
   "cell_type": "code",
   "execution_count": 41,
   "metadata": {},
   "outputs": [
    {
     "data": {
      "text/plain": [
       "17428"
      ]
     },
     "execution_count": 41,
     "metadata": {},
     "output_type": "execute_result"
    }
   ],
   "source": [
    "len(y_undo)"
   ]
  },
  {
   "cell_type": "code",
   "execution_count": 35,
   "metadata": {
    "colab": {
     "base_uri": "https://localhost:8080/",
     "height": 72
    },
    "colab_type": "code",
    "executionInfo": {
     "elapsed": 3085,
     "status": "ok",
     "timestamp": 1587665524885,
     "user": {
      "displayName": "Alisa",
      "photoUrl": "https://lh3.googleusercontent.com/a-/AOh14GitcbifunW8HnLIy9OLB4tye6ZM6rKflRg5DjPJwA=s64",
      "userId": "01346965133972112207"
     },
     "user_tz": 240
    },
    "id": "ZAntZKJfC9k6",
    "outputId": "11a324ed-4f7a-406f-db92-2494e682b810"
   },
   "outputs": [
    {
     "ename": "IndexError",
     "evalue": "boolean index did not match indexed array along dimension 0; dimension is 17443 but corresponding boolean dimension is 17428",
     "output_type": "error",
     "traceback": [
      "\u001b[0;31m---------------------------------------------------------------------------\u001b[0m",
      "\u001b[0;31mIndexError\u001b[0m                                Traceback (most recent call last)",
      "\u001b[0;32m<ipython-input-35-1a653aa5e5dd>\u001b[0m in \u001b[0;36m<module>\u001b[0;34m\u001b[0m\n\u001b[0;32m----> 1\u001b[0;31m \u001b[0mtrain_mae\u001b[0m \u001b[0;34m=\u001b[0m \u001b[0mmodel_mc_ecfp\u001b[0m\u001b[0;34m.\u001b[0m\u001b[0mevaluate\u001b[0m\u001b[0;34m(\u001b[0m\u001b[0mtrain\u001b[0m\u001b[0;34m,\u001b[0m \u001b[0;34m[\u001b[0m\u001b[0mdc\u001b[0m\u001b[0;34m.\u001b[0m\u001b[0mmetrics\u001b[0m\u001b[0;34m.\u001b[0m\u001b[0mMetric\u001b[0m\u001b[0;34m(\u001b[0m\u001b[0mdc\u001b[0m\u001b[0;34m.\u001b[0m\u001b[0mmetrics\u001b[0m\u001b[0;34m.\u001b[0m\u001b[0mmean_absolute_error\u001b[0m\u001b[0;34m,\u001b[0m \u001b[0mmode\u001b[0m\u001b[0;34m=\u001b[0m\u001b[0;34m\"regression\"\u001b[0m\u001b[0;34m)\u001b[0m\u001b[0;34m]\u001b[0m\u001b[0;34m,\u001b[0m \u001b[0mtransformers\u001b[0m\u001b[0;34m)\u001b[0m\u001b[0;34m\u001b[0m\u001b[0;34m\u001b[0m\u001b[0m\n\u001b[0m\u001b[1;32m      2\u001b[0m \u001b[0mnp\u001b[0m\u001b[0;34m.\u001b[0m\u001b[0msum\u001b[0m\u001b[0;34m(\u001b[0m\u001b[0mtrain_mae\u001b[0m\u001b[0;34m[\u001b[0m\u001b[0;34m'mean_absolute_error'\u001b[0m\u001b[0;34m]\u001b[0m\u001b[0;34m)\u001b[0m\u001b[0;34m\u001b[0m\u001b[0;34m\u001b[0m\u001b[0m\n",
      "\u001b[0;32m/opt/anaconda3/lib/python3.7/site-packages/deepchem/models/models.py\u001b[0m in \u001b[0;36mevaluate\u001b[0;34m(self, dataset, metrics, transformers, per_task_metrics)\u001b[0m\n\u001b[1;32m    168\u001b[0m     \u001b[0mevaluator\u001b[0m \u001b[0;34m=\u001b[0m \u001b[0mEvaluator\u001b[0m\u001b[0;34m(\u001b[0m\u001b[0mself\u001b[0m\u001b[0;34m,\u001b[0m \u001b[0mdataset\u001b[0m\u001b[0;34m,\u001b[0m \u001b[0mtransformers\u001b[0m\u001b[0;34m)\u001b[0m\u001b[0;34m\u001b[0m\u001b[0;34m\u001b[0m\u001b[0m\n\u001b[1;32m    169\u001b[0m     \u001b[0;32mif\u001b[0m \u001b[0;32mnot\u001b[0m \u001b[0mper_task_metrics\u001b[0m\u001b[0;34m:\u001b[0m\u001b[0;34m\u001b[0m\u001b[0;34m\u001b[0m\u001b[0m\n\u001b[0;32m--> 170\u001b[0;31m       \u001b[0mscores\u001b[0m \u001b[0;34m=\u001b[0m \u001b[0mevaluator\u001b[0m\u001b[0;34m.\u001b[0m\u001b[0mcompute_model_performance\u001b[0m\u001b[0;34m(\u001b[0m\u001b[0mmetrics\u001b[0m\u001b[0;34m)\u001b[0m\u001b[0;34m\u001b[0m\u001b[0;34m\u001b[0m\u001b[0m\n\u001b[0m\u001b[1;32m    171\u001b[0m       \u001b[0;32mreturn\u001b[0m \u001b[0mscores\u001b[0m\u001b[0;34m\u001b[0m\u001b[0;34m\u001b[0m\u001b[0m\n\u001b[1;32m    172\u001b[0m     \u001b[0;32melse\u001b[0m\u001b[0;34m:\u001b[0m\u001b[0;34m\u001b[0m\u001b[0;34m\u001b[0m\u001b[0m\n",
      "\u001b[0;32m/opt/anaconda3/lib/python3.7/site-packages/deepchem/utils/evaluate.py\u001b[0m in \u001b[0;36mcompute_model_performance\u001b[0;34m(self, metrics, csv_out, stats_out, per_task_metrics)\u001b[0m\n\u001b[1;32m    118\u001b[0m       \u001b[0;32melse\u001b[0m\u001b[0;34m:\u001b[0m\u001b[0;34m\u001b[0m\u001b[0;34m\u001b[0m\u001b[0m\n\u001b[1;32m    119\u001b[0m         multitask_scores[metric.name] = metric.compute_metric(\n\u001b[0;32m--> 120\u001b[0;31m             y, y_pred, w, per_task_metrics=False)\n\u001b[0m\u001b[1;32m    121\u001b[0m \u001b[0;34m\u001b[0m\u001b[0m\n\u001b[1;32m    122\u001b[0m     \u001b[0;32mif\u001b[0m \u001b[0mstats_out\u001b[0m \u001b[0;32mis\u001b[0m \u001b[0;32mnot\u001b[0m \u001b[0;32mNone\u001b[0m\u001b[0;34m:\u001b[0m\u001b[0;34m\u001b[0m\u001b[0;34m\u001b[0m\u001b[0m\n",
      "\u001b[0;32m/opt/anaconda3/lib/python3.7/site-packages/deepchem/metrics/__init__.py\u001b[0m in \u001b[0;36mcompute_metric\u001b[0;34m(self, y_true, y_pred, w, n_classes, filter_nans, per_task_metrics)\u001b[0m\n\u001b[1;32m    310\u001b[0m         \u001b[0mw_task\u001b[0m \u001b[0;34m=\u001b[0m \u001b[0mw\u001b[0m\u001b[0;34m[\u001b[0m\u001b[0;34m:\u001b[0m\u001b[0;34m,\u001b[0m \u001b[0mtask\u001b[0m\u001b[0;34m]\u001b[0m\u001b[0;34m\u001b[0m\u001b[0;34m\u001b[0m\u001b[0m\n\u001b[1;32m    311\u001b[0m \u001b[0;34m\u001b[0m\u001b[0m\n\u001b[0;32m--> 312\u001b[0;31m       \u001b[0mmetric_value\u001b[0m \u001b[0;34m=\u001b[0m \u001b[0mself\u001b[0m\u001b[0;34m.\u001b[0m\u001b[0mcompute_singletask_metric\u001b[0m\u001b[0;34m(\u001b[0m\u001b[0my_task\u001b[0m\u001b[0;34m,\u001b[0m \u001b[0my_pred_task\u001b[0m\u001b[0;34m,\u001b[0m \u001b[0mw_task\u001b[0m\u001b[0;34m)\u001b[0m\u001b[0;34m\u001b[0m\u001b[0;34m\u001b[0m\u001b[0m\n\u001b[0m\u001b[1;32m    313\u001b[0m       \u001b[0mcomputed_metrics\u001b[0m\u001b[0;34m.\u001b[0m\u001b[0mappend\u001b[0m\u001b[0;34m(\u001b[0m\u001b[0mmetric_value\u001b[0m\u001b[0;34m)\u001b[0m\u001b[0;34m\u001b[0m\u001b[0;34m\u001b[0m\u001b[0m\n\u001b[1;32m    314\u001b[0m     \u001b[0mlog\u001b[0m\u001b[0;34m(\u001b[0m\u001b[0;34m\"computed_metrics: %s\"\u001b[0m \u001b[0;34m%\u001b[0m \u001b[0mstr\u001b[0m\u001b[0;34m(\u001b[0m\u001b[0mcomputed_metrics\u001b[0m\u001b[0;34m)\u001b[0m\u001b[0;34m,\u001b[0m \u001b[0mself\u001b[0m\u001b[0;34m.\u001b[0m\u001b[0mverbose\u001b[0m\u001b[0;34m)\u001b[0m\u001b[0;34m\u001b[0m\u001b[0;34m\u001b[0m\u001b[0m\n",
      "\u001b[0;32m/opt/anaconda3/lib/python3.7/site-packages/deepchem/metrics/__init__.py\u001b[0m in \u001b[0;36mcompute_singletask_metric\u001b[0;34m(self, y_true, y_pred, w)\u001b[0m\n\u001b[1;32m    347\u001b[0m \u001b[0;34m\u001b[0m\u001b[0m\n\u001b[1;32m    348\u001b[0m     \u001b[0my_true\u001b[0m \u001b[0;34m=\u001b[0m \u001b[0mnp\u001b[0m\u001b[0;34m.\u001b[0m\u001b[0marray\u001b[0m\u001b[0;34m(\u001b[0m\u001b[0mnp\u001b[0m\u001b[0;34m.\u001b[0m\u001b[0msqueeze\u001b[0m\u001b[0;34m(\u001b[0m\u001b[0my_true\u001b[0m\u001b[0;34m[\u001b[0m\u001b[0mw\u001b[0m \u001b[0;34m!=\u001b[0m \u001b[0;36m0\u001b[0m\u001b[0;34m]\u001b[0m\u001b[0;34m)\u001b[0m\u001b[0;34m)\u001b[0m\u001b[0;34m\u001b[0m\u001b[0;34m\u001b[0m\u001b[0m\n\u001b[0;32m--> 349\u001b[0;31m     \u001b[0my_pred\u001b[0m \u001b[0;34m=\u001b[0m \u001b[0mnp\u001b[0m\u001b[0;34m.\u001b[0m\u001b[0marray\u001b[0m\u001b[0;34m(\u001b[0m\u001b[0mnp\u001b[0m\u001b[0;34m.\u001b[0m\u001b[0msqueeze\u001b[0m\u001b[0;34m(\u001b[0m\u001b[0my_pred\u001b[0m\u001b[0;34m[\u001b[0m\u001b[0mw\u001b[0m \u001b[0;34m!=\u001b[0m \u001b[0;36m0\u001b[0m\u001b[0;34m]\u001b[0m\u001b[0;34m)\u001b[0m\u001b[0;34m)\u001b[0m\u001b[0;34m\u001b[0m\u001b[0;34m\u001b[0m\u001b[0m\n\u001b[0m\u001b[1;32m    350\u001b[0m \u001b[0;34m\u001b[0m\u001b[0m\n\u001b[1;32m    351\u001b[0m     \u001b[0;32mif\u001b[0m \u001b[0mlen\u001b[0m\u001b[0;34m(\u001b[0m\u001b[0my_true\u001b[0m\u001b[0;34m.\u001b[0m\u001b[0mshape\u001b[0m\u001b[0;34m)\u001b[0m \u001b[0;34m==\u001b[0m \u001b[0;36m0\u001b[0m\u001b[0;34m:\u001b[0m\u001b[0;34m\u001b[0m\u001b[0;34m\u001b[0m\u001b[0m\n",
      "\u001b[0;31mIndexError\u001b[0m: boolean index did not match indexed array along dimension 0; dimension is 17443 but corresponding boolean dimension is 17428"
     ]
    }
   ],
   "source": [
    "train_mae = model_mc_ecfp.evaluate(train, [dc.metrics.Metric(dc.metrics.mean_absolute_error, mode=\"regression\")], transformers)\n",
    "np.sum(train_mae['mean_absolute_error'])\n"
   ]
  },
  {
   "cell_type": "code",
   "execution_count": null,
   "metadata": {},
   "outputs": [],
   "source": []
  },
  {
   "cell_type": "code",
   "execution_count": null,
   "metadata": {},
   "outputs": [],
   "source": []
  },
  {
   "cell_type": "code",
   "execution_count": 34,
   "metadata": {
    "colab": {
     "base_uri": "https://localhost:8080/",
     "height": 72
    },
    "colab_type": "code",
    "executionInfo": {
     "elapsed": 3172,
     "status": "ok",
     "timestamp": 1587665531018,
     "user": {
      "displayName": "Alisa",
      "photoUrl": "https://lh3.googleusercontent.com/a-/AOh14GitcbifunW8HnLIy9OLB4tye6ZM6rKflRg5DjPJwA=s64",
      "userId": "01346965133972112207"
     },
     "user_tz": 240
    },
    "id": "h7Ur2BndEwBv",
    "outputId": "cabb0229-c8ef-4f16-c1db-d60d44440cbe"
   },
   "outputs": [
    {
     "name": "stdout",
     "output_type": "stream",
     "text": [
      "computed_metrics: [0.011155001887996587, 0.011671415661965927, 0.017807233539442614, 0.03723932708795348, 0.011130501433203079, 0.011636315171720778, 0.016030276810443878, 0.030063601422979796, 0.011094268480505994, 0.011537161529457845, 0.01603570988490113, 0.03007907342823597, 0.010795664205263875, 0.010856304078821074, 0.018541971514212566, 0.03266323616256072]\n"
     ]
    },
    {
     "data": {
      "text/plain": [
       "0.28833706229966527"
      ]
     },
     "execution_count": 34,
     "metadata": {
      "tags": []
     },
     "output_type": "execute_result"
    }
   ],
   "source": [
    "valid_mae = model_mc_ecfp.evaluate(valid, [dc.metrics.Metric(dc.metrics.mean_absolute_error, mode=\"regression\")], transformers)\n",
    "np.sum(valid_mae['mean_absolute_error'])"
   ]
  },
  {
   "cell_type": "code",
   "execution_count": 35,
   "metadata": {
    "colab": {
     "base_uri": "https://localhost:8080/",
     "height": 72
    },
    "colab_type": "code",
    "executionInfo": {
     "elapsed": 1289,
     "status": "ok",
     "timestamp": 1587665535727,
     "user": {
      "displayName": "Alisa",
      "photoUrl": "https://lh3.googleusercontent.com/a-/AOh14GitcbifunW8HnLIy9OLB4tye6ZM6rKflRg5DjPJwA=s64",
      "userId": "01346965133972112207"
     },
     "user_tz": 240
    },
    "id": "BfUdM8RvGi6U",
    "outputId": "043d797a-8792-40db-f3bb-982ccbe7c3e5"
   },
   "outputs": [
    {
     "name": "stdout",
     "output_type": "stream",
     "text": [
      "computed_metrics: [0.010957036263989318, 0.01210697745125941, 0.01984345470170992, 0.037290666325827795, 0.011159215840090877, 0.011732288000184153, 0.01719291419262194, 0.03059921490062259, 0.011157291428647723, 0.011637534857502919, 0.01719620835340863, 0.03061176995745235, 0.010511097908340834, 0.011011253599299685, 0.01972109686168274, 0.03307469803127647]\n"
     ]
    },
    {
     "data": {
      "text/plain": [
       "0.2958027186739174"
      ]
     },
     "execution_count": 35,
     "metadata": {
      "tags": []
     },
     "output_type": "execute_result"
    }
   ],
   "source": [
    "test_mae = model_mc_ecfp.evaluate(test, [dc.metrics.Metric(dc.metrics.mean_absolute_error, mode=\"regression\")], transformers)\n",
    "np.sum(test_mae['mean_absolute_error'])"
   ]
  },
  {
   "cell_type": "code",
   "execution_count": 0,
   "metadata": {
    "colab": {},
    "colab_type": "code",
    "id": "lkiTaOUNHcQM"
   },
   "outputs": [],
   "source": [
    "\n",
    "def print_nice_table(tasks,test_mae):\n",
    "  print('  task  ','   MAE   ')\n",
    "  for task in tasks:\n",
    "      print('  {0}  {1:7.4f}   '.format(task,test_mae['mean_absolute_error'][tasks.index(task)]))\n",
    "  return"
   ]
  },
  {
   "cell_type": "code",
   "execution_count": 0,
   "metadata": {
    "colab": {
     "base_uri": "https://localhost:8080/",
     "height": 34
    },
    "colab_type": "code",
    "executionInfo": {
     "elapsed": 381,
     "status": "ok",
     "timestamp": 1587496111993,
     "user": {
      "displayName": "Alisa",
      "photoUrl": "https://lh3.googleusercontent.com/a-/AOh14GitcbifunW8HnLIy9OLB4tye6ZM6rKflRg5DjPJwA=s64",
      "userId": "01346965133972112207"
     },
     "user_tz": 240
    },
    "id": "8_CsjcGLI_ab",
    "outputId": "06e35cd2-cfd6-4357-c3e7-d103ba16c432"
   },
   "outputs": [
    {
     "name": "stdout",
     "output_type": "stream",
     "text": [
      "0\n"
     ]
    }
   ],
   "source": [
    "print(test_maetasks.index('E1-CC2'))"
   ]
  },
  {
   "cell_type": "code",
   "execution_count": 37,
   "metadata": {
    "colab": {
     "base_uri": "https://localhost:8080/",
     "height": 312
    },
    "colab_type": "code",
    "executionInfo": {
     "elapsed": 304,
     "status": "ok",
     "timestamp": 1587665550900,
     "user": {
      "displayName": "Alisa",
      "photoUrl": "https://lh3.googleusercontent.com/a-/AOh14GitcbifunW8HnLIy9OLB4tye6ZM6rKflRg5DjPJwA=s64",
      "userId": "01346965133972112207"
     },
     "user_tz": 240
    },
    "id": "YOraPpP0IP1V",
    "outputId": "26143e95-2133-4e95-90e4-1467991e2da6"
   },
   "outputs": [
    {
     "name": "stdout",
     "output_type": "stream",
     "text": [
      "  task      MAE   \n",
      "  E1-CC2   0.0110   \n",
      "  E2-CC2   0.0121   \n",
      "  f1-CC2   0.0198   \n",
      "  f2-CC2   0.0373   \n",
      "  E1-PBE0   0.0112   \n",
      "  E2-PBE0   0.0117   \n",
      "  f1-PBE0   0.0172   \n",
      "  f2-PBE0   0.0306   \n",
      "  E1-PBE0   0.0112   \n",
      "  E2-PBE0   0.0117   \n",
      "  f1-PBE0   0.0172   \n",
      "  f2-PBE0   0.0306   \n",
      "  E1-CAM   0.0105   \n",
      "  E2-CAM   0.0110   \n",
      "  f1-CAM   0.0197   \n",
      "  f2-CAM   0.0331   \n"
     ]
    }
   ],
   "source": [
    "print_nice_table(tasks,test_mae)"
   ]
  },
  {
   "cell_type": "code",
   "execution_count": 95,
   "metadata": {
    "colab": {
     "base_uri": "https://localhost:8080/",
     "height": 34
    },
    "colab_type": "code",
    "executionInfo": {
     "elapsed": 359,
     "status": "ok",
     "timestamp": 1587663845636,
     "user": {
      "displayName": "Alisa",
      "photoUrl": "https://lh3.googleusercontent.com/a-/AOh14GitcbifunW8HnLIy9OLB4tye6ZM6rKflRg5DjPJwA=s64",
      "userId": "01346965133972112207"
     },
     "user_tz": 240
    },
    "id": "saz9rBOhILnr",
    "outputId": "7100eff9-8847-4e92-c6e4-a2ce98c6b71c"
   },
   "outputs": [
    {
     "name": "stdout",
     "output_type": "stream",
     "text": [
      "7\n"
     ]
    }
   ],
   "source": [
    "score = [5, 2]\n",
    "if isinstance(score, list):\n",
    "  score = np.sum(np.array(score))\n",
    "print(score)"
   ]
  }
 ],
 "metadata": {
  "colab": {
   "authorship_tag": "ABX9TyP6k7hxLvYMebhIvZZjQhGH",
   "collapsed_sections": [],
   "name": "QM8.ipynb",
   "provenance": [
    {
     "file_id": "1_SrX0OBtzXvUSp5qluU550VYETL-wdcs",
     "timestamp": 1587477199446
    }
   ],
   "toc_visible": true
  },
  "kernelspec": {
   "display_name": "Python 3",
   "language": "python",
   "name": "python3"
  },
  "language_info": {
   "codemirror_mode": {
    "name": "ipython",
    "version": 3
   },
   "file_extension": ".py",
   "mimetype": "text/x-python",
   "name": "python",
   "nbconvert_exporter": "python",
   "pygments_lexer": "ipython3",
   "version": "3.7.6"
  }
 },
 "nbformat": 4,
 "nbformat_minor": 1
}
